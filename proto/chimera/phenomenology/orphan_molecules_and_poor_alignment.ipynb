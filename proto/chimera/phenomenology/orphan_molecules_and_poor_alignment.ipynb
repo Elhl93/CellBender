{
 "cells": [
  {
   "cell_type": "markdown",
   "metadata": {},
   "source": [
    "## Orphan molecule formation due to poor alignment\n",
    "\n",
    "Orphan molecules can form by poor alignment, e.g. if a shearing product is marginally mappable. In that case, most reads arising from that molecule will remain unmapped or multi-mapped, and only a few (by chance) become uniquely mappable.\n",
    "\n",
    "We explore this hypothesis in this notebook."
   ]
  },
  {
   "cell_type": "code",
   "execution_count": 3,
   "metadata": {},
   "outputs": [],
   "source": [
    "%matplotlib inline\n",
    "\n",
    "import os\n",
    "import sys\n",
    "notebook_path = os.path.abspath('')\n",
    "sources_path = os.path.abspath(os.path.join(notebook_path, '..', 'sources'))\n",
    "sys.path.insert(0, sources_path)\n",
    "\n",
    "import matplotlib.pylab as plt\n",
    "import numpy as np\n",
    "import pandas as pd\n",
    "import itertools\n",
    "import operator\n",
    "from bisect import bisect_left, bisect_right\n",
    "from commons import *\n",
    "\n",
    "plt.rc('xtick', labelsize=16)\n",
    "plt.rc('ytick', labelsize=16)"
   ]
  },
  {
   "cell_type": "code",
   "execution_count": 4,
   "metadata": {},
   "outputs": [],
   "source": [
    "# select dataset\n",
    "mol_h5_path = '/home/jupyter/data/10x/pbmc4k_molecule_info.h5'\n",
    "genes_tsv_path = None\n",
    "cr_version = 'v2'"
   ]
  },
  {
   "cell_type": "code",
   "execution_count": 5,
   "metadata": {},
   "outputs": [
    {
     "name": "stderr",
     "output_type": "stream",
     "text": [
      "WARNING:root:Loading molecule info HDF5 file (CellRanger version: v2)...\n",
      "WARNING:root:Extended mode: loading H5 additional columns in memory...\n",
      "WARNING:root:Sorting by (BC, UMI)...\n",
      "WARNING:root:Ranking barcodes by UMI and read count...\n"
     ]
    }
   ],
   "source": [
    "mol_info = MoleculeInfo(mol_h5_path, cr_version, genes_tsv_path, extended=True)"
   ]
  },
  {
   "cell_type": "code",
   "execution_count": 6,
   "metadata": {},
   "outputs": [
    {
     "name": "stdout",
     "output_type": "stream",
     "text": [
      "Selected 4481 barcodes in range (1000, 50000)\n"
     ]
    }
   ],
   "source": [
    "# select a range of barcodes\n",
    "min_umi_count = 1000\n",
    "max_umi_count = 50000\n",
    "test_barcode_set = {barcode for barcode, total_umi in mol_info.total_umi_per_barcode.items()\n",
    "                    if min_umi_count <= total_umi <= max_umi_count}\n",
    "print(f'Selected {len(test_barcode_set)} barcodes in range ({min_umi_count}, {max_umi_count})')\n",
    "\n",
    "# obtain full UMI count statistics\n",
    "full_count_stats = get_full_umi_count_statistics(\n",
    "    test_barcode_set, mol_info.gene_array, mol_info.reads_array, mol_info.barcode_array)\n",
    "\n",
    "gene_index_sorted_by_expression = get_gene_index_sorted_by_expression(full_count_stats)\n",
    "gene_index_sorted_by_expression.remove(mol_info.unmappable_gene_idx)"
   ]
  },
  {
   "cell_type": "markdown",
   "metadata": {},
   "source": [
    "## Exploration"
   ]
  },
  {
   "cell_type": "code",
   "execution_count": 170,
   "metadata": {},
   "outputs": [],
   "source": [
    "gene_names_list = [b.decode('ascii') for b in mol_info.gene_names_array]"
   ]
  },
  {
   "cell_type": "code",
   "execution_count": 36,
   "metadata": {},
   "outputs": [],
   "source": [
    "# molecules to study\n",
    "included_gene_indices = [32549, 32551, 23869, 23870, 23863, 23865]"
   ]
  },
  {
   "cell_type": "code",
   "execution_count": 123,
   "metadata": {},
   "outputs": [],
   "source": [
    "# by prefix\n",
    "prefix = 'IG'\n",
    "selected_gene_names_list = [gene_name for gene_name in gene_names_list if gene_name.find(prefix) == 0]\n",
    "included_gene_indices = [gene_names_list.index(gene_name) for gene_name in selected_gene_names_list]"
   ]
  },
  {
   "cell_type": "code",
   "execution_count": 194,
   "metadata": {},
   "outputs": [],
   "source": [
    "# by name\n",
    "included_gene_indices = [gene_names_list.index('IGHG2')]"
   ]
  },
  {
   "cell_type": "code",
   "execution_count": 195,
   "metadata": {},
   "outputs": [],
   "source": [
    "gene_cond = np.zeros((len(mol_info.barcode_array),)).astype(bool)\n",
    "for gene_index in included_gene_indices:\n",
    "    gene_cond = gene_cond | (mol_info.gene_array == gene_index)"
   ]
  },
  {
   "cell_type": "code",
   "execution_count": 196,
   "metadata": {},
   "outputs": [],
   "source": [
    "# cond = (mol_info.reads_array == 1) #& gene_cond\n",
    "cond = gene_cond\n",
    "indices = np.where(cond)[0]\n",
    "\n",
    "max_mols = 10_0000\n",
    "max_mols = min(max_mols, len(indices))\n",
    "\n",
    "total_reads_list = []\n",
    "cm_reads_list = []\n",
    "ncm_reads_list = []\n",
    "cmup_reads_list = []\n",
    "um_reads_list = []\n",
    "\n",
    "unmapped_frac_list = []\n",
    "nc_mapped_frac_list = []\n",
    "\n",
    "for mol_index in indices[:max_mols]:\n",
    "    barcode, umi = mol_info.barcode_array[mol_index], mol_info.umi_array[mol_index]\n",
    "    \n",
    "    # index of all other molecules with the same barcode and umi\n",
    "    all_mols = get_molecules(barcode, umi, mol_info)\n",
    "    cm, cmup, um, ncm = 0, 0, 0, 0\n",
    "    for other_index in all_mols:\n",
    "        cm += mol_info.reads_array[other_index]\n",
    "        ncm += mol_info.nonconf_mapped_reads_array[other_index]\n",
    "        cmup += mol_info.conf_mapped_uniq_read_pos_array[other_index]\n",
    "        um += mol_info.unmapped_reads_array[other_index]\n",
    "        \n",
    "    cm_reads_list.append(cm)\n",
    "    ncm_reads_list.append(ncm)\n",
    "    cmup_reads_list.append(cmup)\n",
    "    um_reads_list.append(um)\n",
    "\n",
    "    total_reads = cm + um + ncm\n",
    "    unmapped_frac = um / total_reads\n",
    "    nc_mapped_frac = ncm / total_reads\n",
    "    \n",
    "    unmapped_frac_list.append(unmapped_frac)\n",
    "    nc_mapped_frac_list.append(nc_mapped_frac)"
   ]
  },
  {
   "cell_type": "code",
   "execution_count": 197,
   "metadata": {},
   "outputs": [
    {
     "data": {
      "text/plain": [
       "(0, 100)"
      ]
     },
     "execution_count": 197,
     "metadata": {},
     "output_type": "execute_result"
    },
    {
     "data": {
      "image/png": "[encoded data removed]",
      "text/plain": [
       "<Figure size 432x288 with 1 Axes>"
      ]
     },
     "metadata": {
      "needs_background": "light"
     },
     "output_type": "display_data"
    }
   ],
   "source": [
    "plt.scatter(cm_reads_list, ncm_reads_list, alpha=0.5, s=1)\n",
    "plt.xlim((0, 100))\n",
    "plt.ylim((0, 100))"
   ]
  },
  {
   "cell_type": "code",
   "execution_count": 198,
   "metadata": {},
   "outputs": [],
   "source": [
    "label = 'orphan'\n",
    "color = 'orange'"
   ]
  },
  {
   "cell_type": "code",
   "execution_count": 199,
   "metadata": {},
   "outputs": [
    {
     "data": {
      "image/png": "[encoded data removed]",
      "text/plain": [
       "<Figure size 288x216 with 1 Axes>"
      ]
     },
     "metadata": {
      "needs_background": "light"
     },
     "output_type": "display_data"
    }
   ],
   "source": [
    "fig = plt.figure(figsize=(4, 3))\n",
    "_ = plt.hist(unmapped_frac_list, bins=100, range=(0, 1), density=True, color=color)\n",
    "ax = plt.gca()\n",
    "ax.set_xlabel('Unmapped Fraction', fontsize=16)\n",
    "ax.set_ylabel('Density', fontsize=16)\n",
    "ax.set_ylim((0, 100))\n",
    "plt.tight_layout()\n",
    "# plt.savefig(f'./plots/pbmc4k_unmapped_reads_{label}_mols.pdf')"
   ]
  },
  {
   "cell_type": "code",
   "execution_count": 200,
   "metadata": {},
   "outputs": [
    {
     "data": {
      "image/png": "[encoded data removed]",
      "text/plain": [
       "<Figure size 288x216 with 1 Axes>"
      ]
     },
     "metadata": {
      "needs_background": "light"
     },
     "output_type": "display_data"
    }
   ],
   "source": [
    "fig = plt.figure(figsize=(4, 3))\n",
    "_ = plt.hist(nc_mapped_frac_list, bins=100, range=(0, 1), density=True, color=color)\n",
    "ax = plt.gca()\n",
    "ax.set_xlabel('Multi-mapped Fraction', fontsize=16)\n",
    "ax.set_ylabel('Density', fontsize=16)\n",
    "ax.set_ylim((0, 100))\n",
    "plt.tight_layout()\n",
    "# plt.savefig(f'./plots/pbmc4k_multimapped_reads_{label}_mols.pdf')"
   ]
  },
  {
   "cell_type": "code",
   "execution_count": 201,
   "metadata": {},
   "outputs": [],
   "source": [
    "# cond = (mol_info.reads_array == 1) #& gene_cond\n",
    "cond = gene_cond\n",
    "indices = np.where(cond)[0]\n",
    "\n",
    "max_mols = 50_0000\n",
    "max_mols = min(max_mols, len(indices))\n",
    "\n",
    "cm, cmup, um, ncm = 0, 0, 0, 0\n",
    "for mol_index in indices[:max_mols]:\n",
    "    barcode, umi = mol_info.barcode_array[mol_index], mol_info.umi_array[mol_index]\n",
    "    \n",
    "    # index of all other molecules with the same barcode and umi\n",
    "    all_mols = get_molecules(barcode, umi, mol_info)\n",
    "    for other_index in all_mols:\n",
    "        cm += mol_info.reads_array[other_index]\n",
    "        ncm += mol_info.nonconf_mapped_reads_array[other_index]\n",
    "        cmup += mol_info.conf_mapped_uniq_read_pos_array[other_index]\n",
    "        um += mol_info.unmapped_reads_array[other_index]"
   ]
  },
  {
   "cell_type": "code",
   "execution_count": 202,
   "metadata": {},
   "outputs": [
    {
     "data": {
      "text/plain": [
       "0.6565158978952083"
      ]
     },
     "execution_count": 202,
     "metadata": {},
     "output_type": "execute_result"
    }
   ],
   "source": [
    "(um + ncm) / (um + cm + ncm)"
   ]
  },
  {
   "cell_type": "code",
   "execution_count": 180,
   "metadata": {},
   "outputs": [],
   "source": [
    "gene_index = gene_names_list.index('IGHG2')\n",
    "indices = mol_info.gene_array == gene_index\n",
    "reads = mol_info.conf_mapped_uniq_read_pos_array[indices]"
   ]
  },
  {
   "cell_type": "code",
   "execution_count": 181,
   "metadata": {},
   "outputs": [
    {
     "data": {
      "image/png": "[encoded data removed]",
      "text/plain": [
       "<Figure size 432x288 with 1 Axes>"
      ]
     },
     "metadata": {
      "needs_background": "light"
     },
     "output_type": "display_data"
    }
   ],
   "source": [
    "plt.hist(reads, range=(0, 50), bins=50);"
   ]
  },
  {
   "cell_type": "code",
   "execution_count": 168,
   "metadata": {},
   "outputs": [],
   "source": [
    "gene_index = gene_names_list.index('MALAT1')\n",
    "indices = mol_info.gene_array == gene_index\n",
    "reads = mol_info.nonconf_mapped_reads_array[indices]"
   ]
  },
  {
   "cell_type": "code",
   "execution_count": 169,
   "metadata": {},
   "outputs": [
    {
     "data": {
      "image/png": "[encoded data removed]",
      "text/plain": [
       "<Figure size 432x288 with 1 Axes>"
      ]
     },
     "metadata": {
      "needs_background": "light"
     },
     "output_type": "display_data"
    }
   ],
   "source": [
    "plt.hist(reads, range=(0, 50), bins=50);"
   ]
  },
  {
   "cell_type": "code",
   "execution_count": null,
   "metadata": {},
   "outputs": [],
   "source": []
  }
 ],
 "metadata": {
  "kernelspec": {
   "display_name": "Python 3",
   "language": "python",
   "name": "python3"
  },
  "language_info": {
   "codemirror_mode": {
    "name": "ipython",
    "version": 3
   },
   "file_extension": ".py",
   "mimetype": "text/x-python",
   "name": "python",
   "nbconvert_exporter": "python",
   "pygments_lexer": "ipython3",
   "version": "3.7.3"
  }
 },
 "nbformat": 4,
 "nbformat_minor": 2
}
