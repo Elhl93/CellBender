{
 "cells": [
  {
   "cell_type": "markdown",
   "metadata": {},
   "source": [
    "# Family size distribution in 4C Heart Atlas cluster\n",
    "\n",
    "We would like to know whether there are systematic differences between FSD in different cell types?"
   ]
  },
  {
   "cell_type": "code",
   "execution_count": 1,
   "metadata": {},
   "outputs": [],
   "source": [
    "%matplotlib inline\n",
    "\n",
    "import matplotlib.pylab as plt\n",
    "import numpy as np\n",
    "import pandas as pd\n",
    "import itertools\n",
    "import operator\n",
    "from commons import *\n",
    "import scipy.sparse as sp\n",
    "import logging\n",
    "from collections import Counter\n",
    "from scipy import stats\n",
    "\n",
    "plt.rc('xtick', labelsize=16)\n",
    "plt.rc('ytick', labelsize=16)\n",
    "\n",
    "import scanpy"
   ]
  },
  {
   "cell_type": "code",
   "execution_count": 2,
   "metadata": {},
   "outputs": [],
   "source": [
    "ann_h5ad_file = '/home/jupyter/data/PCL/LA_1600_1_raw_data_with_labels.h5ad'\n",
    "mol_info_h5_file = '/home/jupyter/data/PCL/LA_1600_molecule_info.h5'"
   ]
  },
  {
   "cell_type": "code",
   "execution_count": 3,
   "metadata": {},
   "outputs": [],
   "source": [
    "ann = scanpy.read(ann_h5ad_file)\n",
    "labels = ann.obs\n",
    "barcodes = [barcode[10:26] for barcode in labels.index.values]\n",
    "encoded_barcodes = [encode(barcode) for barcode in barcodes]\n",
    "cluster_labels = [int(x) for x in labels['louvain_1.2'].values]"
   ]
  },
  {
   "cell_type": "code",
   "execution_count": 4,
   "metadata": {},
   "outputs": [
    {
     "name": "stderr",
     "output_type": "stream",
     "text": [
      "WARNING:root:Loading molecule info HDF5 file...\n",
      "WARNING:root:Extended mode disabled: molecules may NOT be hierarchically sorted by (BC, UMI)!\n",
      "WARNING:root:Ranking barcodes by UMI and read count...\n"
     ]
    }
   ],
   "source": [
    "mol_info = MoleculeInfo(mol_info_h5_file)"
   ]
  },
  {
   "cell_type": "code",
   "execution_count": 5,
   "metadata": {},
   "outputs": [
    {
     "name": "stdout",
     "output_type": "stream",
     "text": [
      "cluster: 0\n",
      "number of cells: 2078\n",
      "number of molecules: 3493433\n",
      "molecules/cell: 1681.1515880654476\n",
      "cluster: 1\n",
      "number of cells: 2\n",
      "number of molecules: 6535\n",
      "molecules/cell: 3267.5\n",
      "cluster: 2\n",
      "number of cells: 846\n",
      "number of molecules: 2100733\n",
      "molecules/cell: 2483.1359338061466\n",
      "cluster: 3\n",
      "number of cells: 14\n",
      "number of molecules: 15423\n",
      "molecules/cell: 1101.642857142857\n",
      "cluster: 4\n",
      "number of cells: 605\n",
      "number of molecules: 759727\n",
      "molecules/cell: 1255.7471074380164\n",
      "cluster: 5\n",
      "number of cells: 1657\n",
      "number of molecules: 1475409\n",
      "molecules/cell: 890.4097767048884\n",
      "cluster: 6\n",
      "number of cells: 528\n",
      "number of molecules: 649123\n",
      "molecules/cell: 1229.3996212121212\n",
      "cluster: 7\n",
      "number of cells: 664\n",
      "number of molecules: 1066080\n",
      "molecules/cell: 1605.5421686746988\n",
      "cluster: 8\n",
      "number of cells: 102\n",
      "number of molecules: 286947\n",
      "molecules/cell: 2813.205882352941\n",
      "cluster: 9\n",
      "number of cells: 5\n",
      "number of molecules: 4718\n",
      "molecules/cell: 943.6\n",
      "cluster: 10\n",
      "number of cells: 29\n",
      "number of molecules: 38577\n",
      "molecules/cell: 1330.2413793103449\n",
      "cluster: 11\n",
      "number of cells: 131\n",
      "number of molecules: 269402\n",
      "molecules/cell: 2056.5038167938933\n",
      "cluster: 12\n",
      "number of cells: 7\n",
      "number of molecules: 5970\n",
      "molecules/cell: 852.8571428571429\n",
      "cluster: 13\n",
      "number of cells: 14\n",
      "number of molecules: 15246\n",
      "molecules/cell: 1089.0\n",
      "cluster: 14\n",
      "number of cells: 18\n",
      "number of molecules: 36112\n",
      "molecules/cell: 2006.2222222222222\n",
      "cluster: 15\n",
      "number of cells: 3\n",
      "number of molecules: 7873\n",
      "molecules/cell: 2624.3333333333335\n"
     ]
    }
   ],
   "source": [
    "cluster_mol_indices = dict()\n",
    "cluster_barcodes = dict()\n",
    "\n",
    "for c_cluster in set(cluster_labels):\n",
    "    c_cluster_barcodes = set(\n",
    "        barcode for barcode, cluster in zip(encoded_barcodes, cluster_labels)\n",
    "        if cluster == c_cluster)\n",
    "    c_mol_indices = [\n",
    "        idx for idx, barcode in enumerate(mol_info.barcode_array)\n",
    "        if barcode in c_cluster_barcodes]\n",
    "    cluster_barcodes[c_cluster] = c_cluster_barcodes\n",
    "    cluster_mol_indices[c_cluster] = c_mol_indices\n",
    "    print(f'cluster: {c_cluster}')\n",
    "    print(f'number of cells: {len(c_cluster_barcodes)}')\n",
    "    print(f'number of molecules: {len(c_mol_indices)}')\n",
    "    print(f'molecules/cell: {len(c_mol_indices)/len(c_cluster_barcodes)}')"
   ]
  },
  {
   "cell_type": "code",
   "execution_count": 9,
   "metadata": {},
   "outputs": [],
   "source": [
    "gene_names = [x.decode('ascii') for x in mol_info.gene_names_array]\n",
    "gene_name = 'NPPA'\n",
    "gene_index = [idx for idx, name in enumerate(gene_names) if name.find(gene_name) != -1]"
   ]
  },
  {
   "cell_type": "code",
   "execution_count": 23,
   "metadata": {},
   "outputs": [
    {
     "data": {
      "image/png": "[encoded data removed]",
      "text/plain": [
       "<Figure size 432x288 with 1 Axes>"
      ]
     },
     "metadata": {
      "needs_background": "light"
     },
     "output_type": "display_data"
    }
   ],
   "source": [
    "gene_index = 259\n",
    "\n",
    "for cluster_index in [0, 2]:\n",
    "    selected_barcode_array = mol_info.barcode_array[cluster_mol_indices[cluster_index]]\n",
    "    selected_gene_array = mol_info.gene_array[cluster_mol_indices[cluster_index]]\n",
    "    selected_reads_array = mol_info.reads_array[cluster_mol_indices[cluster_index]]\n",
    "\n",
    "    family_sizes = selected_reads_array[selected_gene_array == gene_index]\n",
    "    plt.hist(family_sizes, bins=15, range=(0, 15), density=True, alpha=0.5)"
   ]
  },
  {
   "cell_type": "code",
   "execution_count": null,
   "metadata": {},
   "outputs": [],
   "source": []
  }
 ],
 "metadata": {
  "kernelspec": {
   "display_name": "Python 3",
   "language": "python",
   "name": "python3"
  },
  "language_info": {
   "codemirror_mode": {
    "name": "ipython",
    "version": 3
   },
   "file_extension": ".py",
   "mimetype": "text/x-python",
   "name": "python",
   "nbconvert_exporter": "python",
   "pygments_lexer": "ipython3",
   "version": "3.7.1"
  }
 },
 "nbformat": 4,
 "nbformat_minor": 2
}
