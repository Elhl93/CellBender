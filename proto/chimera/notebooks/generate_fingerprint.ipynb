{
 "cells": [
  {
   "cell_type": "markdown",
   "metadata": {},
   "source": [
    "# Generate family size fingerprint from per molecule h5 file"
   ]
  },
  {
   "cell_type": "code",
   "execution_count": 2,
   "metadata": {},
   "outputs": [],
   "source": [
    "%matplotlib inline\n",
    "\n",
    "import os\n",
    "import sys\n",
    "notebook_path = os.path.abspath('')\n",
    "sources_path = os.path.abspath(os.path.join(notebook_path, '..', 'sources'))\n",
    "sys.path.insert(0, sources_path)\n",
    "\n",
    "import matplotlib.pylab as plt\n",
    "import numpy as np\n",
    "import pandas as pd\n",
    "import itertools\n",
    "import operator\n",
    "import scipy.sparse as sp\n",
    "import logging\n",
    "from collections import Counter\n",
    "\n",
    "from fingerprint import SingleCellFingerprintBase\n",
    "from commons import MoleculeInfo\n",
    "\n",
    "plt.rc('xtick', labelsize=16)\n",
    "plt.rc('ytick', labelsize=16)"
   ]
  },
  {
   "cell_type": "code",
   "execution_count": 4,
   "metadata": {},
   "outputs": [
    {
     "data": {
      "image/png": "[encoded data removed]",
      "text/plain": [
       "<Figure size 432x288 with 1 Axes>"
      ]
     },
     "metadata": {
      "needs_background": "light"
     },
     "output_type": "display_data"
    }
   ],
   "source": [
    "mol_info_h5_path = '/home/jupyter/data/10x/neuron_9k_molecule_info.h5'\n",
    "# barcodes_to_include_path = '/home/jupyter/data/10x/pbmc4k__alpha_0.0__beta_1.0__default_gene_filters/cell_barcodes.npy'\n",
    "barcodes_to_include_path = None\n",
    "\n",
    "mol_info = MoleculeInfo(mol_info_h5_path)\n",
    "if barcodes_to_include_path is not None:\n",
    "    barcodes_to_include = np.load(barcodes_to_include_path)\n",
    "else:\n",
    "    barcodes_to_include = None\n",
    "\n",
    "sorted_umi_counts = list(map(operator.itemgetter(1), mol_info.sorted_total_umi_per_barcode_list))\n",
    "plt.plot(sorted_umi_counts)\n",
    "plt.xscale('log')\n",
    "plt.yscale('log')"
   ]
  },
  {
   "cell_type": "markdown",
   "metadata": {},
   "source": [
    "## Filtering molecules and generating the counts matrix"
   ]
  },
  {
   "cell_type": "code",
   "execution_count": 5,
   "metadata": {},
   "outputs": [
    {
     "name": "stderr",
     "output_type": "stream",
     "text": [
      "WARNING:root:No barcode set provided -- choosing cell barcodes with number of UMIs in range [500, inf] ...\n",
      "WARNING:root:Number of cells: 12275\n"
     ]
    }
   ],
   "source": [
    "# select mappable molecules\n",
    "mappable_molecule_indices = np.where(mol_info.gene_array != mol_info.unmappable_gene_idx)[0]\n",
    "\n",
    "if barcodes_to_include is None: # select barcodes within a certain total mappable UMI range\n",
    "    min_umi_count = 500\n",
    "    max_umi_count = np.inf\n",
    "    logging.warning(f\"No barcode set provided -- choosing cell barcodes \" +\n",
    "                    f\"with number of UMIs in range [{min_umi_count}, {max_umi_count}] ...\")\n",
    "    selected_molecule_indices = np.asarray([\n",
    "        idx for idx in mappable_molecule_indices\n",
    "        if min_umi_count <= mol_info.total_umi_per_barcode[mol_info.barcode_array[idx]] <= max_umi_count])\n",
    "else: # choose the provided barcode set\n",
    "    logging.warning(f\"Barcode set is provided -- including all {len(barcodes_to_include)} barcodes in the set ...\")\n",
    "    barcodes_to_include_set = set(barcodes_to_include)\n",
    "    selected_molecule_indices = np.asarray([\n",
    "        idx for idx in mappable_molecule_indices if mol_info.barcode_array[idx] in barcodes_to_include_set])\n",
    "\n",
    "selected_gene_array = mol_info.gene_array[selected_molecule_indices]\n",
    "selected_read_array = mol_info.reads_array[selected_molecule_indices]\n",
    "selected_barcode_array = mol_info.barcode_array[selected_molecule_indices]\n",
    "\n",
    "# obtain the sparse counts matrix\n",
    "n_genes = len(mol_info.gene_names_array)\n",
    "n_cells = len(np.unique(mol_info.barcode_array[selected_molecule_indices]))\n",
    "logging.warning(f'Number of cells: {n_cells}')\n",
    "\n",
    "# index cell barcodes\n",
    "cell_barcode_to_index = dict()\n",
    "group_iter = itertools.groupby(mol_info.barcode_array[selected_molecule_indices])\n",
    "i_cell = 0\n",
    "for barcode, grouper in group_iter:\n",
    "    cell_barcode_to_index[barcode] = i_cell\n",
    "    i_cell += 1\n",
    "\n",
    "# generate the sparse counts matrix\n",
    "data = np.ones((len(selected_molecule_indices),), dtype=np.int)\n",
    "cell_index = [cell_barcode_to_index[barcode] for barcode in mol_info.barcode_array[selected_molecule_indices]]\n",
    "gene_index = mol_info.gene_array[selected_molecule_indices].tolist()\n",
    "coo_counts_matrix = sp.coo_matrix((data, (cell_index, gene_index)), shape=(n_cells, n_genes))\n",
    "csr_counts_matrix = coo_counts_matrix.tocsr()\n",
    "csc_counts_matrix = coo_counts_matrix.tocsc()\n",
    "\n",
    "# average observed gene expression per cell\n",
    "mean_gene_expr = np.asarray(np.sum(csc_counts_matrix, axis=0)).flatten() / n_cells\n",
    "\n",
    "# gene indices sorted by expression in selected molecules\n",
    "sorted_genes_by_expr = list(map(\n",
    "    operator.itemgetter(0),\n",
    "    sorted(list(Counter(selected_gene_array).items()),\n",
    "           key=operator.itemgetter(1),\n",
    "           reverse=True)))"
   ]
  },
  {
   "cell_type": "markdown",
   "metadata": {},
   "source": [
    "## Generating the single-cell family-size fingerprint"
   ]
  },
  {
   "cell_type": "code",
   "execution_count": 8,
   "metadata": {},
   "outputs": [
    {
     "name": "stderr",
     "output_type": "stream",
     "text": [
      "WARNING:root:Maximum family size was set to 13\n",
      "WARNING:root:Fraction of molecules with larger family size: 0.00022\n",
      "WARNING:root:Processing cell 1/12275...\n",
      "WARNING:root:Processing cell 1001/12275...\n",
      "WARNING:root:Processing cell 2001/12275...\n",
      "WARNING:root:Processing cell 3001/12275...\n",
      "WARNING:root:Processing cell 4001/12275...\n",
      "WARNING:root:Processing cell 5001/12275...\n",
      "WARNING:root:Processing cell 6001/12275...\n",
      "WARNING:root:Processing cell 7001/12275...\n",
      "WARNING:root:Processing cell 8001/12275...\n",
      "WARNING:root:Processing cell 9001/12275...\n",
      "WARNING:root:Processing cell 10001/12275...\n",
      "WARNING:root:Processing cell 11001/12275...\n",
      "WARNING:root:Processing cell 12001/12275...\n"
     ]
    }
   ],
   "source": [
    "fs_mean = np.mean(selected_read_array)\n",
    "fs_std = np.std(selected_read_array)\n",
    "max_fs = int(np.ceil(fs_mean + 5 * fs_std))\n",
    "logging.warning(f'Maximum family size was set to {max_fs}')\n",
    "\n",
    "# what fraction of molecules have larger family size?\n",
    "outlier_frac = np.sum(selected_read_array > max_fs) / len(selected_molecule_indices)\n",
    "logging.warning(f'Fraction of molecules with larger family size: {outlier_frac:.5f}')\n",
    "\n",
    "# generate an empty single-cell fingerprint instance\n",
    "single_cell_fingerprint = SingleCellFingerprintBase(\n",
    "    gene_idx_list=list(i_gene for i_gene in range(n_genes)),\n",
    "    max_family_size=max_fs)\n",
    "\n",
    "# populate\n",
    "group_iter = itertools.groupby(enumerate(selected_barcode_array), key=operator.itemgetter(1))\n",
    "for barcode, grouper in group_iter:\n",
    "    i_cell = cell_barcode_to_index[barcode]\n",
    "    indices = list(map(operator.itemgetter(0), grouper))\n",
    "    first_index = indices[0]\n",
    "    last_index = indices[-1]\n",
    "    c_gene_array = selected_gene_array[first_index:last_index]\n",
    "    \n",
    "    # note: 0 means 1 read, 1 means 2 reads, etc.\n",
    "    c_reads_array = np.clip(selected_read_array[first_index:last_index], a_min=None, a_max=max_fs) - 1\n",
    "    c_fingerprint_matrix = sp.coo_matrix(\n",
    "        (np.ones_like(c_gene_array), (c_gene_array, c_reads_array)),\n",
    "        shape=(n_genes, max_fs)).tocsr()\n",
    "    single_cell_fingerprint._add_new_barcode(barcode, c_fingerprint_matrix)\n",
    "    \n",
    "    if i_cell % 1_000 == 0:\n",
    "        logging.warning(f'Processing cell {i_cell + 1}/{n_cells}...')"
   ]
  },
  {
   "cell_type": "markdown",
   "metadata": {},
   "source": [
    "## Save to disk (optional)"
   ]
  },
  {
   "cell_type": "code",
   "execution_count": 9,
   "metadata": {},
   "outputs": [],
   "source": [
    "single_cell_fingerprint.save('/home/jupyter/data/10x/neuron_9k_sc_fingerprint.pkl')"
   ]
  },
  {
   "cell_type": "code",
   "execution_count": null,
   "metadata": {},
   "outputs": [],
   "source": []
  }
 ],
 "metadata": {
  "kernelspec": {
   "display_name": "Python 3",
   "language": "python",
   "name": "python3"
  },
  "language_info": {
   "codemirror_mode": {
    "name": "ipython",
    "version": 3
   },
   "file_extension": ".py",
   "mimetype": "text/x-python",
   "name": "python",
   "nbconvert_exporter": "python",
   "pygments_lexer": "ipython3",
   "version": "3.7.1"
  }
 },
 "nbformat": 4,
 "nbformat_minor": 2
}
