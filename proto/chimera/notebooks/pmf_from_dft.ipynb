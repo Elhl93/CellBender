{
 "cells": [
  {
   "cell_type": "code",
   "execution_count": 38,
   "metadata": {},
   "outputs": [],
   "source": [
    "%matplotlib inline\n",
    "\n",
    "import matplotlib.pylab as plt\n",
    "import numpy as np\n",
    "import scipy.special as sp"
   ]
  },
  {
   "cell_type": "code",
   "execution_count": 96,
   "metadata": {},
   "outputs": [],
   "source": [
    "grid_pts = 5000\n",
    "\n",
    "omega_lo = 0\n",
    "omega_hi = 2 * np.pi\n",
    "omega_grid = np.linspace(omega_real_lo, omega_real_hi, num=grid_pts)"
   ]
  },
  {
   "cell_type": "code",
   "execution_count": 97,
   "metadata": {},
   "outputs": [],
   "source": [
    "lam = 3.0\n",
    "chi = np.exp(lam * (np.exp(1j * omega_grid) - 1.))"
   ]
  },
  {
   "cell_type": "code",
   "execution_count": 120,
   "metadata": {},
   "outputs": [],
   "source": [
    "n = 2\n",
    "phasor = np.exp(-1j * omega_grid * n)\n",
    "integ = np.real(phasor * chi / (2 * np.pi))"
   ]
  },
  {
   "cell_type": "code",
   "execution_count": 121,
   "metadata": {},
   "outputs": [
    {
     "name": "stdout",
     "output_type": "stream",
     "text": [
      "0.22393857668256095\n",
      "0.22404180765538775\n"
     ]
    }
   ],
   "source": [
    "print(np.sum(integ) * (omega_grid[1] - omega_grid[0]))\n",
    "print(np.exp(-lam) * np.power(lam, n) / sp.factorial(n))"
   ]
  }
 ],
 "metadata": {
  "kernelspec": {
   "display_name": "Python 3",
   "language": "python",
   "name": "python3"
  },
  "language_info": {
   "codemirror_mode": {
    "name": "ipython",
    "version": 3
   },
   "file_extension": ".py",
   "mimetype": "text/x-python",
   "name": "python",
   "nbconvert_exporter": "python",
   "pygments_lexer": "ipython3",
   "version": "3.7.1"
  }
 },
 "nbformat": 4,
 "nbformat_minor": 2
}
