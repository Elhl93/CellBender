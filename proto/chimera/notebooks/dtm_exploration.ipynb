{
 "cells": [
  {
   "cell_type": "markdown",
   "metadata": {},
   "source": [
    "## Deconvolving single-cell family size distribution into chimeric and real components"
   ]
  },
  {
   "cell_type": "code",
   "execution_count": 3,
   "metadata": {},
   "outputs": [],
   "source": [
    "%matplotlib inline\n",
    "\n",
    "import os\n",
    "import sys\n",
    "notebook_path = os.path.abspath('')\n",
    "sources_path = os.path.abspath(os.path.join(notebook_path, '..', 'sources'))\n",
    "sys.path.insert(0, sources_path)\n",
    "\n",
    "import time\n",
    "import matplotlib.pylab as plt\n",
    "from commons import *\n",
    "from fingerprint import SingleCellFingerprintBase, SingleCellFingerprintDTM\n",
    "from fsd import FSDModelGPLVM, FSDModelGPLVMRestricted\n",
    "from dtm import DropletTimeMachineModel, PosteriorGeneExpressionSampler\n",
    "from expr import FeatureBasedGeneExpressionModel, FeatureBasedGeneExpressionModelTrainer\n",
    "from chimera import UniformChimeraRateModel, GeneLevelChimeraRateModel\n",
    "from hvg import HighlyVariableGenesSelector\n",
    "\n",
    "import pyro\n",
    "from pyro import poutine\n",
    "from pyro.infer import Trace_ELBO, TraceMeanField_ELBO, SVI\n",
    "from pyro.optim import Adam, ExponentialLR\n",
    "from pyro_extras import checkpoint_model, load_latest_checkpoint\n",
    "from pyro_extras import NegativeBinomial\n",
    "\n",
    "import torch\n",
    "\n",
    "import scipy.sparse as sp\n",
    "import logging\n",
    "from collections import Counter\n",
    "import pickle \n",
    "from scipy.signal import savgol_filter\n",
    "from typing import Tuple, Set, List, Dict, Callable\n",
    "\n",
    "plt.rc('xtick', labelsize=16)\n",
    "plt.rc('ytick', labelsize=16)"
   ]
  },
  {
   "cell_type": "markdown",
   "metadata": {},
   "source": [
    "## Inputs, outputs, and model hyperparameters"
   ]
  },
  {
   "cell_type": "code",
   "execution_count": 6,
   "metadata": {},
   "outputs": [
    {
     "name": "stderr",
     "output_type": "stream",
     "text": [
      "Calculating and caching \"SingleCellFingerprintBase.total_molecules_per_gene_g\"...\n",
      "Calculating and caching \"SingleCellFingerprintBase.sparse_count_matrix_csr\"...\n"
     ]
    }
   ],
   "source": [
    "device = torch.device('cuda')\n",
    "dtype = torch.float\n",
    "\n",
    "# dataset_name = 'hgmm_1k_v1'\n",
    "# sc_fingerprint_path = '/home/jupyter/mb-ml-dev-disk/data/10x/hgmm_1k_v1_sc_fingerprint.pkl'\n",
    "# n_gene_groups = 100\n",
    "\n",
    "# dataset_name = 'hgmm_1k_v2'\n",
    "# sc_fingerprint_path = '/home/jupyter/mb-ml-dev-disk/data/10x/hgmm_1k_v2_only_expressing_sc_fingerprint.pkl'\n",
    "# n_gene_groups = 100\n",
    "\n",
    "\n",
    "\n",
    "# dataset_name = 'heart_1k_v2'\n",
    "# sc_fingerprint_path = '/home/jupyter/mb-ml-dev-disk/data/10x/heart_1k_v2_only_expressing_sc_fingerprint.pkl'\n",
    "# n_gene_groups = 100\n",
    "\n",
    "\n",
    "\n",
    "\n",
    "# dataset_name = 'pbmc4k_ss_rate_0.125'\n",
    "# sc_fingerprint_path = '/home/jupyter/mb-ml-dev-disk/data/10x/pbmc4k_ss_rate_0.125_sc_fingerprint.pkl'\n",
    "# n_gene_groups = 100\n",
    "\n",
    "# dataset_name = 'pbmc4k_ss_rate_0.25'\n",
    "# sc_fingerprint_path = '/home/jupyter/mb-ml-dev-disk/data/10x/pbmc4k_ss_rate_0.25_only_expressing_sc_fingerprint.pkl'\n",
    "# n_gene_groups = 100\n",
    "\n",
    "# dataset_name = 'pbmc4k_ss_rate_0.25_small_new'\n",
    "# sc_fingerprint_path = '/home/jupyter/mb-ml-dev-disk/data/10x/pbmc4k_ss_rate_0.25_small_new_sc_fingerprint.pkl'\n",
    "# n_gene_groups = 10\n",
    "\n",
    "\n",
    "\n",
    "# dataset_name = 'pbmc4k'\n",
    "# sc_fingerprint_path = '/home/jupyter/mb-ml-dev-disk/data/10x/pbmc4k_only_expressing_sc_fingerprint.pkl'\n",
    "# n_gene_groups = 100\n",
    "\n",
    "# dataset_name = 'pbmc4k_small_new'\n",
    "# sc_fingerprint_path = '/home/jupyter/mb-ml-dev-disk/data/10x/pbmc4k_small_new_sc_fingerprint.pkl'\n",
    "# n_gene_groups = 10\n",
    "\n",
    "\n",
    "\n",
    "\n",
    "# dataset_name = 'pbmc4k_cr3'\n",
    "# sc_fingerprint_path = '/home/jupyter/mb-ml-dev-disk/data/10x/pbmc4k_cr3_sc_fingerprint.pkl'\n",
    "# n_gene_groups = 100\n",
    "\n",
    "\n",
    "\n",
    "\n",
    "\n",
    "# dataset_name = '5k_pbmc_v3'\n",
    "# sc_fingerprint_path = '/home/jupyter/mb-ml-dev-disk/data/10x/5k_pbmc_protein_v3_nextgem_sc_fingerprint.pkl'\n",
    "# n_gene_groups = 100\n",
    "\n",
    "# dataset_name = '5k_pbmc_v3_small'\n",
    "# sc_fingerprint_path = '/home/jupyter/mb-ml-dev-disk/data/10x/5k_pbmc_protein_v3_nextgem_small_sc_fingerprint.pkl'\n",
    "# n_gene_groups = 10\n",
    "\n",
    "# dataset_name = '5k_pbmc_v3_ss_rate_0.5'\n",
    "# sc_fingerprint_path = '/home/jupyter/mb-ml-dev-disk/data/10x/5k_pbmc_protein_v3_nextgem_ss_rate_0.5_sc_fingerprint.pkl'\n",
    "# n_gene_groups = 100\n",
    "\n",
    "# dataset_name = '5k_pbmc_v3_ss_rate_0.5_small'\n",
    "# sc_fingerprint_path = '/home/jupyter/mb-ml-dev-disk/data/10x/5k_pbmc_protein_v3_nextgem_ss_rate_0.5_small_sc_fingerprint.pkl'\n",
    "# n_gene_groups = 10\n",
    "\n",
    "\n",
    "\n",
    "dataset_name = 'pbmc4k_alevin'\n",
    "sc_fingerprint_path = '/home/jupyter/mb-ml-dev-disk/data/10x/pbmc4k_alevin_sc_fingerprint.pkl'\n",
    "n_gene_groups = 100\n",
    "\n",
    "\n",
    "# load fingerprint and instantiate the data-store\n",
    "sc_fingerprint_base = SingleCellFingerprintBase.load(sc_fingerprint_path)\n",
    "\n",
    "# sc_fingerprint_base = sc_fingerprint_base.filter_genes(\n",
    "#     max_good_turing=1.,\n",
    "#     min_total_gene_expression=1.).sort_genes_by_expression()\n",
    "# gene_expr_ladder_idx_list = sc_fingerprint_base.gene_idx_list[::10]\n",
    "# sc_fingerprint_base = sc_fingerprint_base.subset_genes(gene_expr_ladder_idx_list)\n",
    "\n",
    "# # Filter unexpressed genes\n",
    "# sc_fingerprint_base = sc_fingerprint_base.filter_genes(\n",
    "#     max_good_turing=1.,\n",
    "#     min_total_gene_expression=1.).sort_genes_by_expression()\n",
    "\n",
    "# Instantiate the fingerprint datastore\n",
    "sc_fingerprint_dtm = SingleCellFingerprintDTM(\n",
    "    sc_fingerprint_base,\n",
    "    n_gene_groups=n_gene_groups,\n",
    "    n_cell_pca_features=20,\n",
    "    allow_dense_int_ndarray=False,\n",
    "    low_family_size_cdf_threshold=0.2,\n",
    "    device=device,\n",
    "    dtype=dtype)"
   ]
  },
  {
   "cell_type": "code",
   "execution_count": 96,
   "metadata": {},
   "outputs": [],
   "source": [
    "# chunk_size = 20\n",
    "# stride = 200\n",
    "# n_chunks = int(sc_fingerprint_base.n_genes / stride)\n",
    "# gene_idx_list = []\n",
    "# for i in range(n_chunks):\n",
    "#     gene_idx_list += [sc_fingerprint_base.gene_idx_list[i * stride + j] for j in range(chunk_size)]\n",
    "\n",
    "# sc_fingerprint_base_new = sc_fingerprint_base.subset_genes(gene_idx_list)\n",
    "# sc_fingerprint_base_new.save('/home/jupyter/data/10x/5k_pbmc_protein_v3_nextgem_ss_rate_0.5_small_sc_fingerprint.pkl')"
   ]
  },
  {
   "cell_type": "code",
   "execution_count": 97,
   "metadata": {},
   "outputs": [],
   "source": [
    "# sc_fingerprint_base_new = sc_fingerprint_base.subset_genes(gene_idx_list)\n",
    "# sc_fingerprint_base_new.save('/home/jupyter/data/10x/5k_pbmc_protein_v3_nextgem_small_sc_fingerprint.pkl')"
   ]
  },
  {
   "cell_type": "code",
   "execution_count": 7,
   "metadata": {},
   "outputs": [
    {
     "name": "stderr",
     "output_type": "stream",
     "text": [
      "Calculating and caching \"SingleCellFingerprintDTM.total_obs_molecules_per_cell\"...\n"
     ]
    }
   ],
   "source": [
    "init_params_dict = {\n",
    "    'hvg.n_selected_genes': 1000, ## NOTE must set to a fraction of total genes \n",
    "    'hvg.neglect_expr_bottom_fraction': 0.25,\n",
    "    'hvg.neglect_expr_top_fraction': 0.0,\n",
    "    'hvg.gene_group_prefixes': None,\n",
    "#     'hvg.gene_group_prefixes': ['mm10', 'hg19'],\n",
    "    \n",
    "    'hvg.expr.vsgp.n_inducing_points': 50,\n",
    "    'hvg.expr.vsgp.init_rbf_kernel_variance': 0.5,\n",
    "    'hvg.expr.vsgp.init_rbf_kernel_lengthscale': 0.5,\n",
    "    'hvg.expr.vsgp.init_whitenoise_kernel_variance': 0.5,\n",
    "    'hvg.expr.vsgp.init_posterior_scale': 0.5,\n",
    "    'hvg.expr.vsgp.init_mean_intercept': np.asarray([0.0, 1.0, 0.0]),\n",
    "    'hvg.expr.vsgp.init_mean_slope': np.asarray([1.0, 0.0, -1.0]),\n",
    "    'hvg.expr.vsgp.cholesky_jitter': 1e-3,\n",
    "    'hvg.expr.vsgp.min_noise': 1e-3,\n",
    "    \n",
    "    'hvg.expr.trainer.adam_lr': 1e-2,\n",
    "    'hvg.expr.trainer.adam_betas': (0.9, 0.99),\n",
    "    'hvg.expr.trainer.n_training_iterations': 2000,\n",
    "    'hvg.expr.trainer.training_log_frequency': 50,\n",
    "    'hvg.expr.trainer.minibatch.genes_per_gene_group': 10,\n",
    "    'hvg.expr.trainer.minibatch.expressing_cells_per_gene': 10,\n",
    "    'hvg.expr.trainer.minibatch.silent_cells_per_gene': 10,\n",
    "    'hvg.expr.trainer.minibatch.sampling_strategy': 'without_replacement',\n",
    "\n",
    "    'chimera.alpha_c_prior_loc': 0.2,\n",
    "    'chimera.alpha_c_prior_scale': 0.1,\n",
    "    'chimera.beta_c_prior_loc': 0.2,\n",
    "    'chimera.beta_c_prior_scale': 0.1,\n",
    "    \n",
    "    'fsd.enable_fsd_w_dirichlet_reg': False,\n",
    "    'fsd.w_lo_dirichlet_reg_strength': 1.0,\n",
    "    'fsd.w_hi_dirichlet_reg_strength': 1.0,\n",
    "    'fsd.w_lo_dirichlet_concentration': 0.01,\n",
    "    'fsd.w_hi_dirichlet_concentration': 0.01,\n",
    "        \n",
    "    'fsd.init_min_mu_lo': 0.001,\n",
    "    'fsd.init_min_mu_hi': 0.1,\n",
    "    'fsd.init_max_phi_lo': 1.0,\n",
    "    'fsd.init_max_phi_hi': 0.5,\n",
    "    'fsd.init_mu_decay': 0.9,\n",
    "    'fsd.init_w_decay': 0.8,\n",
    "    'fsd.init_mu_lo_to_mu_hi_ratio': 0.05,\n",
    "    \n",
    "    'model.n_particles_fingerprint_log_like': 10,\n",
    "    \n",
    "    'expr.init_posterior_scale': 0.2,\n",
    "    \n",
    "    'fsd.gplvm.n_inducing_points': 10,\n",
    "    'fsd.gplvm.latent_dim': 2,\n",
    "    'fsd.gplvm.init_rbf_kernel_variance': 0.5,\n",
    "    'fsd.gplvm.init_rbf_kernel_lengthscale': 0.5,\n",
    "    'fsd.gplvm.init_whitenoise_kernel_variance': 0.5,\n",
    "    'fsd.gplvm.cholesky_jitter': 1e-3,\n",
    "    'fsd.gplvm.min_noise': 0.02,\n",
    "    \n",
    "    'fsd.init_fsd_xi_posterior_scale': 0.1,\n",
    "    'fsd.xi_posterior_min_scale': 0.02,\n",
    "}\n",
    "\n",
    "\n",
    "loss_scale = np.sum(sc_fingerprint_dtm.total_obs_molecules_per_cell) / 10_000\n",
    "default_constraint_strength = loss_scale\n",
    "medium_constraint_strength = 1e2 * loss_scale\n",
    "strong_constraint_strength = 1e4 * loss_scale\n",
    "\n",
    "model_constraint_params_dict = {\n",
    "    # phi_lo is softly pinned to 1.0 (to decrease the parameter complexity of chimeras)\n",
    "    'phi_fsd_lo_comps_nj': {\n",
    "        'pin_value': 1.0,\n",
    "        'pin_strength': default_constraint_strength,\n",
    "        'pin_exponent': 2},\n",
    "    \n",
    "    # no component of p_hi is allowed to be too over-dispersed\n",
    "    'phi_fsd_hi_comps_nj': {\n",
    "        'upper_bound_value': 0.7,\n",
    "        'upper_bound_width': 0.2,\n",
    "        'upper_bound_strength': default_constraint_strength,\n",
    "        'upper_bound_exponent': 2},\n",
    "\n",
    "#     # no component of p_hi is allowed to be too over-dispersed\n",
    "#     'phi_fsd_lo_comps_nj': {\n",
    "#         'upper_bound_value': 1.2,\n",
    "#         'upper_bound_width': 0.2,\n",
    "#         'upper_bound_strength': default_constraint_strength,\n",
    "#         'upper_bound_exponent': 2},\n",
    "\n",
    "#     # the ratio of observed chimeric to real molecules can not exceed a certain value\n",
    "#     'p_obs_lo_to_p_obs_hi_ratio_n': {\n",
    "#         'upper_bound_value': 0.2,\n",
    "#         'upper_bound_width': 0.05,\n",
    "#         'upper_bound_strength': default_constraint_strength,\n",
    "#         'upper_bound_exponent': 2},\n",
    "\n",
    "    # possibly the most important hyperparameter!\n",
    "    # the ratio of observed chimeric to real molecules can not exceed a certain value\n",
    "    'mu_fsd_lo_to_mu_fsd_hi_ratio_n': {\n",
    "        'upper_bound_value': 0.25,\n",
    "        'upper_bound_width': 0.05,\n",
    "        'upper_bound_strength': default_constraint_strength,\n",
    "        'upper_bound_exponent': 2,\n",
    "        'lower_bound_value': 0.01,\n",
    "        'lower_bound_width': 0.01,\n",
    "        'lower_bound_strength': default_constraint_strength,\n",
    "        'lower_bound_exponent': 2},\n",
    "\n",
    "#     # no component of p_lo can have too small or too large of a mean family size\n",
    "#     # compared to the empirical mean\n",
    "#     'mu_fsd_lo_comps_to_mu_empirical_ratio_nj': {\n",
    "#         'lower_bound_value': 0.01,\n",
    "#         'lower_bound_width': 0.01,\n",
    "#         'lower_bound_strength': default_constraint_strength,\n",
    "#         'lower_bound_exponent': 2,\n",
    "#         'upper_bound_value': 0.5,\n",
    "#         'upper_bound_width': 0.1,\n",
    "#         'upper_bound_strength': default_constraint_strength,\n",
    "#         'upper_bound_exponent': 2},\n",
    "    \n",
    "    'mu_fsd_hi_zero_truncated_to_mu_fsd_empirical_ratio_n': {\n",
    "        'lower_bound_value': 0.5,\n",
    "        'lower_bound_width': 0.1,\n",
    "        'lower_bound_strength': default_constraint_strength,\n",
    "        'lower_bound_exponent': 2,\n",
    "        'upper_bound_value': 2.0,\n",
    "        'upper_bound_width': 0.5,\n",
    "        'upper_bound_strength': default_constraint_strength,\n",
    "        'upper_bound_exponent': 2},    \n",
    "    \n",
    "    # no component of p_hi can have too small or too large of a mean family size\n",
    "    # compared to the empirical mean\n",
    "    'mu_fsd_hi_comps_to_mu_empirical_ratio_nj': {\n",
    "        'lower_bound_value': 0.01,\n",
    "        'lower_bound_width': 0.01,\n",
    "        'lower_bound_strength': default_constraint_strength,\n",
    "        'lower_bound_exponent': 2,\n",
    "        'upper_bound_value': 3.0,\n",
    "        'upper_bound_width': 1.0,\n",
    "        'upper_bound_strength': default_constraint_strength,\n",
    "        'upper_bound_exponent': 2},\n",
    "        \n",
    "    # possibly the most important hyperparameter!\n",
    "    # the ratio of observed chimeric to real molecules can not exceed a certain value\n",
    "    'e_lo_obs_prior_fraction_n': {\n",
    "        'upper_bound_value': 0.30,  # very important\n",
    "        'upper_bound_width': 0.05,\n",
    "        'upper_bound_strength': default_constraint_strength,\n",
    "        'upper_bound_exponent': 2,\n",
    "        'lower_bound_value': 0.01, # default: 0.01; 0.10\n",
    "        'lower_bound_width': 0.01, # default: 0.01; 0.05\n",
    "        'lower_bound_strength': default_constraint_strength,\n",
    "        'lower_bound_exponent': 2},\n",
    "\n",
    "    # the component weights of p_hi cannot reach below a certain value (for stability of Dirichlet prior)\n",
    "    'w_fsd_hi_comps_nj': {\n",
    "        'lower_bound_value': 0.001,\n",
    "        'lower_bound_width': 0.005,\n",
    "        'lower_bound_strength': medium_constraint_strength,\n",
    "        'lower_bound_exponent': 2},\n",
    "    \n",
    "    # the component weights of p_hi cannot reach below a certain value (for stability of Dirichlet prior)\n",
    "    'w_fsd_lo_comps_nj': {\n",
    "        'lower_bound_value': 0.001,\n",
    "        'lower_bound_width': 0.005,\n",
    "        'lower_bound_strength': medium_constraint_strength,\n",
    "        'lower_bound_exponent': 2},\n",
    "\n",
    "    # make sure that log_mu_e_hi is not too small or too large (to prevent over/under-flows)\n",
    "    'log_mu_e_hi_n': {\n",
    "        'lower_bound_value': -10.0,\n",
    "        'lower_bound_width': 1.0,\n",
    "        'lower_bound_strength': default_constraint_strength,\n",
    "        'lower_bound_exponent': 2,\n",
    "        'upper_bound_value': 10.0,\n",
    "        'upper_bound_width': 1.0,\n",
    "        'upper_bound_strength': default_constraint_strength,\n",
    "        'upper_bound_exponent': 2},\n",
    "\n",
    "    # make sure that log_phi_e_hi is not too small or too large (to prevent over/under-flows)\n",
    "    'log_phi_e_hi_n': {\n",
    "        'lower_bound_value': -8.0,\n",
    "        'lower_bound_width': 3.0,\n",
    "        'lower_bound_strength': default_constraint_strength,\n",
    "        'lower_bound_exponent': 2,\n",
    "        'upper_bound_value': 8.0,\n",
    "        'upper_bound_width': 3.0,\n",
    "        'upper_bound_strength': default_constraint_strength,\n",
    "        'upper_bound_exponent': 2}\n",
    "}\n",
    "\n",
    "slow_params = {\n",
    "    \n",
    "}\n",
    "\n",
    "weight_decay_params = {\n",
    "    \n",
    "}\n",
    "\n",
    "slow_modules = {\n",
    "\n",
    "}"
   ]
  },
  {
   "cell_type": "code",
   "execution_count": 8,
   "metadata": {},
   "outputs": [
    {
     "name": "stdout",
     "output_type": "stream",
     "text": [
      "/home/jupyter/data/10x/out/pbmc4k_alevin__all_genes__21__final_3_weakreg\n",
      "/home/jupyter/data/10x/out/pbmc4k_alevin__all_genes__21__final_3_weakreg/checkpoints\n"
     ]
    }
   ],
   "source": [
    "root = '/home/jupyter/data/10x/out'\n",
    "#suffix = \"all_genes__fsd_gplvm__no_dirichlet__rc_15\"\n",
    "suffix = \"all_genes__21__final_3_weakreg\"\n",
    "\n",
    "output_path = os.path.join(\n",
    "    root,\n",
    "    f\"{dataset_name}_\" +\n",
    "    f\"_{suffix}\")\n",
    "\n",
    "checkpoint_path = os.path.join(output_path, \"checkpoints\")\n",
    "\n",
    "try:\n",
    "    print(output_path)\n",
    "    print(checkpoint_path)\n",
    "    os.mkdir(output_path)\n",
    "    os.mkdir(checkpoint_path)\n",
    "except:\n",
    "    pass"
   ]
  },
  {
   "cell_type": "markdown",
   "metadata": {},
   "source": [
    "## Human Mouse Mixture"
   ]
  },
  {
   "cell_type": "code",
   "execution_count": 9,
   "metadata": {},
   "outputs": [],
   "source": [
    "# mouse_gene_indices = [\n",
    "#     j for j in range(sc_fingerprint_base.n_genes)\n",
    "#     if sc_fingerprint_base.gene_names_list[j].find('mm10') == 0]\n",
    "# human_gene_indices = [\n",
    "#     j for j in range(sc_fingerprint_base.n_genes)\n",
    "#     if sc_fingerprint_base.gene_names_list[j].find('hg19') == 0]\n",
    "\n",
    "# total_mouse_umi = np.asarray(np.sum(sc_fingerprint_dtm.sparse_count_matrix_csc[:, mouse_gene_indices], -1)).flatten()\n",
    "# total_human_umi = np.asarray(np.sum(sc_fingerprint_dtm.sparse_count_matrix_csc[:, human_gene_indices], -1)).flatten()\n",
    "\n",
    "# plt.scatter(total_mouse_umi, total_human_umi)\n",
    "# plt.xscale('log')\n",
    "# plt.yscale('log')\n",
    "\n",
    "# mouse_droplets = np.where((total_mouse_umi > 1000) & (total_human_umi < 1000))[0]\n",
    "# human_droplets = np.where((total_human_umi > 1000) & (total_mouse_umi < 1000))[0]\n",
    "# doublets = np.where((total_mouse_umi > 1000) & (total_human_umi > 1000))[0]"
   ]
  },
  {
   "cell_type": "markdown",
   "metadata": {},
   "source": [
    "## Highly Variable Genes (for cell feature selection)"
   ]
  },
  {
   "cell_type": "code",
   "execution_count": 10,
   "metadata": {},
   "outputs": [
    {
     "name": "stderr",
     "output_type": "stream",
     "text": [
      "Calculating and caching \"SingleCellFingerprintDTM.arithmetic_mean_obs_expr_per_gene\"...\n"
     ]
    },
    {
     "ename": "AttributeError",
     "evalue": "'WhiteNoise' object has no attribute 'set_constraint'",
     "output_type": "error",
     "traceback": [
      "\u001b[0;31m---------------------------------------------------------------------------\u001b[0m",
      "\u001b[0;31mAttributeError\u001b[0m                            Traceback (most recent call last)",
      "\u001b[0;32m<ipython-input-10-ccfa333648a1>\u001b[0m in \u001b[0;36m<module>\u001b[0;34m\u001b[0m\n\u001b[1;32m      5\u001b[0m     \u001b[0minit_params_dict\u001b[0m\u001b[0;34m=\u001b[0m\u001b[0minit_params_dict\u001b[0m\u001b[0;34m,\u001b[0m\u001b[0;34m\u001b[0m\u001b[0;34m\u001b[0m\u001b[0m\n\u001b[1;32m      6\u001b[0m     \u001b[0mdevice\u001b[0m\u001b[0;34m=\u001b[0m\u001b[0mdevice\u001b[0m\u001b[0;34m,\u001b[0m\u001b[0;34m\u001b[0m\u001b[0;34m\u001b[0m\u001b[0m\n\u001b[0;32m----> 7\u001b[0;31m     dtype=dtype)\n\u001b[0m",
      "\u001b[0;32m~/mb-ml-dev-disk/CellBender/proto/chimera/sources/hvg.py\u001b[0m in \u001b[0;36m__init__\u001b[0;34m(self, sc_fingerprint_dtm, init_params_dict, device, dtype)\u001b[0m\n\u001b[1;32m    141\u001b[0m                 \u001b[0mmin_noise\u001b[0m\u001b[0;34m=\u001b[0m\u001b[0mself\u001b[0m\u001b[0;34m.\u001b[0m\u001b[0mhvg_expr_vsgp_min_noise\u001b[0m\u001b[0;34m,\u001b[0m\u001b[0;34m\u001b[0m\u001b[0;34m\u001b[0m\u001b[0m\n\u001b[1;32m    142\u001b[0m                 \u001b[0mdevice\u001b[0m\u001b[0;34m=\u001b[0m\u001b[0mself\u001b[0m\u001b[0;34m.\u001b[0m\u001b[0mdevice\u001b[0m\u001b[0;34m,\u001b[0m\u001b[0;34m\u001b[0m\u001b[0;34m\u001b[0m\u001b[0m\n\u001b[0;32m--> 143\u001b[0;31m                 dtype=self.dtype)\n\u001b[0m\u001b[1;32m    144\u001b[0m \u001b[0;34m\u001b[0m\u001b[0m\n\u001b[1;32m    145\u001b[0m             expr_model_trainer = VSGPGeneExpressionModelTrainer(\n",
      "\u001b[0;32m~/mb-ml-dev-disk/CellBender/proto/chimera/sources/expr.py\u001b[0m in \u001b[0;36m__init__\u001b[0;34m(self, sc_fingerprint_dtm, gene_group_name, gene_group_indices, n_inducing_points, init_rbf_kernel_variance, init_rbf_kernel_lengthscale, init_whitenoise_kernel_variance, init_posterior_scale, init_mean_intercept, init_mean_slope, cholesky_jitter, min_noise, device, dtype)\u001b[0m\n\u001b[1;32m     99\u001b[0m             \u001b[0minput_dim\u001b[0m\u001b[0;34m=\u001b[0m\u001b[0mVSGPGeneExpressionModel\u001b[0m\u001b[0;34m.\u001b[0m\u001b[0mINPUT_DIM\u001b[0m\u001b[0;34m,\u001b[0m\u001b[0;34m\u001b[0m\u001b[0;34m\u001b[0m\u001b[0m\n\u001b[1;32m    100\u001b[0m             variance=torch.tensor(init_whitenoise_kernel_variance, device=device, dtype=dtype))\n\u001b[0;32m--> 101\u001b[0;31m         \u001b[0mkernel_whitenoise\u001b[0m\u001b[0;34m.\u001b[0m\u001b[0mset_constraint\u001b[0m\u001b[0;34m(\u001b[0m\u001b[0;34m\"variance\"\u001b[0m\u001b[0;34m,\u001b[0m \u001b[0mconstraints\u001b[0m\u001b[0;34m.\u001b[0m\u001b[0mgreater_than\u001b[0m\u001b[0;34m(\u001b[0m\u001b[0mmin_noise\u001b[0m\u001b[0;34m)\u001b[0m\u001b[0;34m)\u001b[0m\u001b[0;34m\u001b[0m\u001b[0;34m\u001b[0m\u001b[0m\n\u001b[0m\u001b[1;32m    102\u001b[0m         \u001b[0mkernel_full\u001b[0m \u001b[0;34m=\u001b[0m \u001b[0mkernels\u001b[0m\u001b[0;34m.\u001b[0m\u001b[0mSum\u001b[0m\u001b[0;34m(\u001b[0m\u001b[0mkernel_rbf\u001b[0m\u001b[0;34m,\u001b[0m \u001b[0mkernel_whitenoise\u001b[0m\u001b[0;34m)\u001b[0m\u001b[0;34m\u001b[0m\u001b[0;34m\u001b[0m\u001b[0m\n\u001b[1;32m    103\u001b[0m \u001b[0;34m\u001b[0m\u001b[0m\n",
      "\u001b[0;32m/opt/anaconda3/lib/python3.7/site-packages/pyro/nn/module.py\u001b[0m in \u001b[0;36m__getattr__\u001b[0;34m(self, name)\u001b[0m\n\u001b[1;32m    326\u001b[0m                     \u001b[0;32mreturn\u001b[0m \u001b[0mprior\u001b[0m\u001b[0;34m(\u001b[0m\u001b[0;34m)\u001b[0m\u001b[0;34m\u001b[0m\u001b[0;34m\u001b[0m\u001b[0m\n\u001b[1;32m    327\u001b[0m \u001b[0;34m\u001b[0m\u001b[0m\n\u001b[0;32m--> 328\u001b[0;31m         \u001b[0mresult\u001b[0m \u001b[0;34m=\u001b[0m \u001b[0msuper\u001b[0m\u001b[0;34m(\u001b[0m\u001b[0;34m)\u001b[0m\u001b[0;34m.\u001b[0m\u001b[0m__getattr__\u001b[0m\u001b[0;34m(\u001b[0m\u001b[0mname\u001b[0m\u001b[0;34m)\u001b[0m\u001b[0;34m\u001b[0m\u001b[0;34m\u001b[0m\u001b[0m\n\u001b[0m\u001b[1;32m    329\u001b[0m \u001b[0;34m\u001b[0m\u001b[0m\n\u001b[1;32m    330\u001b[0m         \u001b[0;31m# Regular nn.Parameters trigger pyro.param statements.\u001b[0m\u001b[0;34m\u001b[0m\u001b[0;34m\u001b[0m\u001b[0;34m\u001b[0m\u001b[0m\n",
      "\u001b[0;32m/opt/anaconda3/lib/python3.7/site-packages/torch/nn/modules/module.py\u001b[0m in \u001b[0;36m__getattr__\u001b[0;34m(self, name)\u001b[0m\n\u001b[1;32m    583\u001b[0m                 \u001b[0;32mreturn\u001b[0m \u001b[0mmodules\u001b[0m\u001b[0;34m[\u001b[0m\u001b[0mname\u001b[0m\u001b[0;34m]\u001b[0m\u001b[0;34m\u001b[0m\u001b[0;34m\u001b[0m\u001b[0m\n\u001b[1;32m    584\u001b[0m         raise AttributeError(\"'{}' object has no attribute '{}'\".format(\n\u001b[0;32m--> 585\u001b[0;31m             type(self).__name__, name))\n\u001b[0m\u001b[1;32m    586\u001b[0m \u001b[0;34m\u001b[0m\u001b[0m\n\u001b[1;32m    587\u001b[0m     \u001b[0;32mdef\u001b[0m \u001b[0m__setattr__\u001b[0m\u001b[0;34m(\u001b[0m\u001b[0mself\u001b[0m\u001b[0;34m,\u001b[0m \u001b[0mname\u001b[0m\u001b[0;34m,\u001b[0m \u001b[0mvalue\u001b[0m\u001b[0;34m)\u001b[0m\u001b[0;34m:\u001b[0m\u001b[0;34m\u001b[0m\u001b[0;34m\u001b[0m\u001b[0m\n",
      "\u001b[0;31mAttributeError\u001b[0m: 'WhiteNoise' object has no attribute 'set_constraint'"
     ]
    }
   ],
   "source": [
    "pyro.clear_param_store()\n",
    "\n",
    "hvg_selector = HighlyVariableGenesSelector(\n",
    "    sc_fingerprint_dtm=sc_fingerprint_dtm,\n",
    "    init_params_dict=init_params_dict,\n",
    "    device=device,\n",
    "    dtype=dtype)"
   ]
  },
  {
   "cell_type": "code",
   "execution_count": null,
   "metadata": {},
   "outputs": [],
   "source": [
    "hvg_selector.plot_diagnostics(plt)"
   ]
  },
  {
   "cell_type": "code",
   "execution_count": null,
   "metadata": {},
   "outputs": [],
   "source": [
    "sc_fingerprint_dtm.set_highly_variable_gene_indices(hvg_selector.highly_variable_gene_indices)"
   ]
  },
  {
   "cell_type": "code",
   "execution_count": null,
   "metadata": {},
   "outputs": [],
   "source": [
    "# fp = sc_fingerprint_dtm.get_single_gene_dense_fingerprint_array(3)\n",
    "# mean_fs = np.sum(fp * np.arange(1, 54)[None, :], -1) / (1e-8 + np.sum(fp, -1))\n",
    "\n",
    "# ind_lo = np.where(mean_fs <= 5)[0]\n",
    "# ind_hi = np.where(mean_fs > 10)[0]\n",
    "# plt.plot(np.sum(fp, 0))\n",
    "\n",
    "plt.figure()\n",
    "plt.scatter(sc_fingerprint_dtm.features_per_cell[:, 1],\n",
    "            sc_fingerprint_dtm.features_per_cell[:, 2], s=1 ,alpha=0.5)\n",
    "\n",
    "# plt.scatter(sc_fingerprint_dtm.features_per_cell[ind_lo, 1],\n",
    "#             sc_fingerprint_dtm.features_per_cell[ind_lo, 2], s=5 ,alpha=0.5, color='red')\n",
    "\n",
    "# plt.hist(sc_fingerprint_dtm.total_obs_molecules_per_cell[ind_lo], bins=50, alpha=0.5, log=True, range=(0, 50000));\n",
    "# plt.hist(sc_fingerprint_dtm.total_obs_molecules_per_cell[ind_hi], bins=50, alpha=0.5, log=True, range=(0, 50000));"
   ]
  },
  {
   "cell_type": "markdown",
   "metadata": {},
   "source": [
    "## Pretraining the feature-based gene expression prior"
   ]
  },
  {
   "cell_type": "code",
   "execution_count": null,
   "metadata": {},
   "outputs": [],
   "source": [
    "# np.save('pbmc4k_hvg.npy', hvg_selector.highly_variable_gene_indices)"
   ]
  },
  {
   "cell_type": "code",
   "execution_count": 11,
   "metadata": {},
   "outputs": [],
   "source": [
    "# np.save('pbmc4k_hvg.npy', hvg_selector.highly_variable_gene_indices)"
   ]
  },
  {
   "cell_type": "code",
   "execution_count": 12,
   "metadata": {},
   "outputs": [],
   "source": [
    "# np.save('hgmm_1k_v1_hvg.npy', hvg_selector.highly_variable_gene_indices)"
   ]
  },
  {
   "cell_type": "code",
   "execution_count": 13,
   "metadata": {},
   "outputs": [],
   "source": [
    "# np.save('hgmm_1k_hvg.npy', hvg_selector.highly_variable_gene_indices)"
   ]
  },
  {
   "cell_type": "code",
   "execution_count": 14,
   "metadata": {},
   "outputs": [],
   "source": [
    "# np.save('pbmc4k_small_new_hvg.npy', hvg_selector.highly_variable_gene_indices)"
   ]
  },
  {
   "cell_type": "code",
   "execution_count": 580,
   "metadata": {},
   "outputs": [],
   "source": [
    "# sc_fingerprint_dtm.set_highly_variable_gene_indices(np.load('pbmc4k_small_new_hvg.npy'))"
   ]
  },
  {
   "cell_type": "code",
   "execution_count": 79,
   "metadata": {},
   "outputs": [
    {
     "ename": "AssertionError",
     "evalue": "Highly variable genes are already specified!",
     "output_type": "error",
     "traceback": [
      "\u001b[0;31m---------------------------------------------------------------------------\u001b[0m",
      "\u001b[0;31mAssertionError\u001b[0m                            Traceback (most recent call last)",
      "\u001b[0;32m<ipython-input-79-e8cb25b6278b>\u001b[0m in \u001b[0;36m<module>\u001b[0;34m\u001b[0m\n\u001b[0;32m----> 1\u001b[0;31m \u001b[0msc_fingerprint_dtm\u001b[0m\u001b[0;34m.\u001b[0m\u001b[0mset_highly_variable_gene_indices\u001b[0m\u001b[0;34m(\u001b[0m\u001b[0mnp\u001b[0m\u001b[0;34m.\u001b[0m\u001b[0mload\u001b[0m\u001b[0;34m(\u001b[0m\u001b[0;34m'pbmc4k_hvg.npy'\u001b[0m\u001b[0;34m)\u001b[0m\u001b[0;34m)\u001b[0m\u001b[0;34m\u001b[0m\u001b[0;34m\u001b[0m\u001b[0m\n\u001b[0m",
      "\u001b[0;32m~/CellBender/proto/chimera/sources/fingerprint.py\u001b[0m in \u001b[0;36mset_highly_variable_gene_indices\u001b[0;34m(self, highly_variable_gene_indices)\u001b[0m\n\u001b[1;32m    391\u001b[0m         \u001b[0;31m# certain cached properties)\u001b[0m\u001b[0;34m\u001b[0m\u001b[0;34m\u001b[0m\u001b[0;34m\u001b[0m\u001b[0m\n\u001b[1;32m    392\u001b[0m         \u001b[0;32massert\u001b[0m \u001b[0mself\u001b[0m\u001b[0;34m.\u001b[0m\u001b[0mhighly_variable_gene_indices\u001b[0m \u001b[0;32mis\u001b[0m \u001b[0;32mNone\u001b[0m\u001b[0;34m,\u001b[0m\u001b[0;31m \u001b[0m\u001b[0;31m\\\u001b[0m\u001b[0;34m\u001b[0m\u001b[0;34m\u001b[0m\u001b[0m\n\u001b[0;32m--> 393\u001b[0;31m             \u001b[0;34m\"Highly variable genes are already specified!\"\u001b[0m\u001b[0;34m\u001b[0m\u001b[0;34m\u001b[0m\u001b[0m\n\u001b[0m\u001b[1;32m    394\u001b[0m         \u001b[0mself\u001b[0m\u001b[0;34m.\u001b[0m\u001b[0mhighly_variable_gene_indices\u001b[0m \u001b[0;34m=\u001b[0m \u001b[0mhighly_variable_gene_indices\u001b[0m\u001b[0;34m\u001b[0m\u001b[0;34m\u001b[0m\u001b[0m\n\u001b[1;32m    395\u001b[0m \u001b[0;34m\u001b[0m\u001b[0m\n",
      "\u001b[0;31mAssertionError\u001b[0m: Highly variable genes are already specified!"
     ]
    }
   ],
   "source": [
    "sc_fingerprint_dtm.set_highly_variable_gene_indices(np.load('pbmc4k_hvg.npy'))"
   ]
  },
  {
   "cell_type": "code",
   "execution_count": 113,
   "metadata": {},
   "outputs": [],
   "source": [
    "pyro.clear_param_store()\n",
    "\n",
    "feature_based_gene_expression_model = FeatureBasedGeneExpressionModel(\n",
    "    sc_fingerprint_dtm=sc_fingerprint_dtm,\n",
    "    init_features_ard_scale=10.0,\n",
    "    phi_scale=1e-2,\n",
    "    activation=torch.nn.Softplus(),\n",
    "    enable_phi_prior=True,\n",
    "    hidden_dims=[],\n",
    "    device=device,\n",
    "    dtype=dtype)"
   ]
  },
  {
   "cell_type": "code",
   "execution_count": 114,
   "metadata": {},
   "outputs": [],
   "source": [
    "feature_based_gene_expression_model_trainer = FeatureBasedGeneExpressionModelTrainer(\n",
    "    feature_based_gene_expression_model=feature_based_gene_expression_model,\n",
    "    sc_fingerprint_dtm=sc_fingerprint_dtm,\n",
    "    adam_lr=1e-2,\n",
    "    adam_betas=(0.9, 0.99))"
   ]
  },
  {
   "cell_type": "code",
   "execution_count": 115,
   "metadata": {},
   "outputs": [
    {
     "name": "stderr",
     "output_type": "stream",
     "text": [
      "WARNING:root:[FeatureBasedGeneExpressionModelTrainer] training started...\n",
      "WARNING:root:Calculating and caching \"SingleCellFingerprintDTM.dense_family_size_truncated_count_matrix\"...\n",
      "WARNING:root:Iteration number: 100, loss: 0.315 +- 0.051, time: 2.678s\n",
      "WARNING:root:Iteration number: 200, loss: 0.275 +- 0.037, time: 1.479s\n",
      "WARNING:root:Iteration number: 300, loss: 0.250 +- 0.033, time: 1.478s\n",
      "WARNING:root:Iteration number: 400, loss: 0.239 +- 0.025, time: 1.488s\n",
      "WARNING:root:Iteration number: 500, loss: 0.229 +- 0.019, time: 1.487s\n",
      "WARNING:root:Iteration number: 600, loss: 0.223 +- 0.018, time: 1.490s\n",
      "WARNING:root:Iteration number: 700, loss: 0.215 +- 0.018, time: 1.480s\n",
      "WARNING:root:Iteration number: 800, loss: 0.211 +- 0.015, time: 1.475s\n",
      "WARNING:root:Iteration number: 900, loss: 0.206 +- 0.012, time: 1.499s\n",
      "WARNING:root:Iteration number: 1000, loss: 0.206 +- 0.011, time: 1.480s\n",
      "WARNING:root:Iteration number: 1100, loss: 0.203 +- 0.010, time: 1.473s\n",
      "WARNING:root:Iteration number: 1200, loss: 0.204 +- 0.009, time: 1.473s\n",
      "WARNING:root:Iteration number: 1300, loss: 0.202 +- 0.008, time: 1.478s\n",
      "WARNING:root:Iteration number: 1400, loss: 0.202 +- 0.008, time: 1.474s\n",
      "WARNING:root:Iteration number: 1500, loss: 0.201 +- 0.008, time: 1.481s\n",
      "WARNING:root:Iteration number: 1600, loss: 0.201 +- 0.007, time: 1.466s\n",
      "WARNING:root:Iteration number: 1700, loss: 0.200 +- 0.008, time: 1.494s\n",
      "WARNING:root:Iteration number: 1800, loss: 0.203 +- 0.009, time: 1.482s\n",
      "WARNING:root:Iteration number: 1900, loss: 0.202 +- 0.008, time: 1.465s\n",
      "WARNING:root:Iteration number: 2000, loss: 0.202 +- 0.008, time: 1.480s\n",
      "WARNING:root:[FeatureBasedGeneExpressionModelTrainer] training finished.\n"
     ]
    }
   ],
   "source": [
    "feature_based_gene_expression_model_trainer.run_training(\n",
    "    n_training_iterations=2000,\n",
    "    training_log_frequency=100,\n",
    "    minibatch_genes_per_gene_group=20,\n",
    "    minibatch_expressing_cells_per_gene=50,\n",
    "    minibatch_silent_cells_per_gene=10,\n",
    "    minibatch_sampling_strategy='without_replacement')"
   ]
  },
  {
   "cell_type": "code",
   "execution_count": 116,
   "metadata": {},
   "outputs": [],
   "source": [
    "feature_based_gene_expression_model.enable_phi_prior = False"
   ]
  },
  {
   "cell_type": "code",
   "execution_count": 117,
   "metadata": {},
   "outputs": [
    {
     "data": {
      "image/png": "[encoded data removed]",
      "text/plain": [
       "<Figure size 432x288 with 1 Axes>"
      ]
     },
     "metadata": {
      "needs_background": "light"
     },
     "output_type": "display_data"
    }
   ],
   "source": [
    "plt.hist(feature_based_gene_expression_model.log_alpha_posterior_loc_g.exp().reciprocal().detach().cpu().numpy(), bins=100, log=True);"
   ]
  },
  {
   "cell_type": "code",
   "execution_count": 118,
   "metadata": {},
   "outputs": [
    {
     "data": {
      "text/plain": [
       "(array([], dtype=int64),)"
      ]
     },
     "execution_count": 118,
     "metadata": {},
     "output_type": "execute_result"
    }
   ],
   "source": [
    "np.where(feature_based_gene_expression_model.log_alpha_posterior_loc_g.exp().reciprocal().detach().cpu().numpy() > 15)"
   ]
  },
  {
   "cell_type": "code",
   "execution_count": 119,
   "metadata": {},
   "outputs": [],
   "source": [
    "# gene_index = 6\n",
    "# mb_data = sc_fingerprint_dtm.generate_single_gene_counts_minibatch_data(\n",
    "#     gene_index=gene_index,\n",
    "#     cell_index_list=np.arange(sc_fingerprint_dtm.n_cells),\n",
    "#     count_matrix_type='raw',\n",
    "#     n_particles_cell=1)\n",
    "\n",
    "# print(sc_fingerprint_base.gene_names_list[gene_index])\n",
    "# print((-feature_based_gene_expression_model.log_alpha_posterior_loc_g[gene_index]).exp().item())\n",
    "\n",
    "# with torch.no_grad():\n",
    "#     out = feature_based_gene_expression_model.decode_output_to_nb_params_dict(\n",
    "#         feature_based_gene_expression_model.guide(mb_data), mb_data)\n",
    "#     mu = out['log_mu_e_hi_n'].exp()\n",
    "    \n",
    "# x = mb_data['counts_tensor'].cpu().numpy()\n",
    "# # x = np.asarray(sc_fingerprint_dtm.sparse_count_matrix_csc[:, gene_index].todense()).flatten()\n",
    "# y = mu.cpu().numpy()\n",
    "\n",
    "# plt.figure()\n",
    "# plt.scatter(x, y, s=1)\n",
    "# plt.gca().set_aspect('equal')\n",
    "\n",
    "# plt.figure()\n",
    "# plt.scatter(np.log(sc_fingerprint_dtm.arithmetic_mean_obs_expr_per_gene),\n",
    "#             feature_based_gene_expression_model.gamma_posterior_loc_gf[:, 0].detach().cpu().numpy(), s=1, alpha=0.5)"
   ]
  },
  {
   "cell_type": "markdown",
   "metadata": {},
   "source": [
    "## Training the Droplet Time Machine (TM)"
   ]
  },
  {
   "cell_type": "code",
   "execution_count": 121,
   "metadata": {},
   "outputs": [],
   "source": [
    "n_training_iters = 5_000\n",
    "\n",
    "minibatch_genes_per_gene_group = 20\n",
    "minibatch_expressing_cells_per_gene = 50\n",
    "minibatch_silent_cells_per_gene = 5\n",
    "minibatch_sampling_strategy = 'without_replacement'\n",
    "\n",
    "slow_params_lr_reduction_factor = 1.0\n",
    "slow_modules_lr_reduction_factor = 1.0\n",
    "weight_decay = 0.0\n",
    "adam_lr_start = 1e-2\n",
    "adam_lr_stop = 1e-3\n",
    "adam_betas = (0.95, 0.995)\n",
    "adam_eps = 1e-6"
   ]
  },
  {
   "cell_type": "code",
   "execution_count": 122,
   "metadata": {},
   "outputs": [],
   "source": [
    "pyro.clear_param_store()\n",
    "\n",
    "gene_expression_model = feature_based_gene_expression_model\n",
    "\n",
    "fsd_model = FSDModelGPLVM(\n",
    "    sc_fingerprint_dtm=sc_fingerprint_dtm,\n",
    "    n_fsd_lo_comps=1,\n",
    "    n_fsd_hi_comps=2,\n",
    "    init_params_dict=init_params_dict,\n",
    "    device=device,\n",
    "    dtype=dtype)\n",
    "\n",
    "# fsd_model = FSDModelGPLVMRestricted(\n",
    "#     sc_fingerprint_dtm=sc_fingerprint_dtm,\n",
    "#     n_fsd_hi_comps=2,\n",
    "#     init_params_dict=init_params_dict,\n",
    "#     device=device,\n",
    "#     dtype=dtype)\n",
    "\n",
    "chimera_rate_model = UniformChimeraRateModel(\n",
    "    sc_fingerprint_dtm=sc_fingerprint_dtm,\n",
    "    init_params_dict=init_params_dict,\n",
    "    device=device,\n",
    "    dtype=dtype)\n",
    "\n",
    "# chimera_rate_model = GeneLevelChimeraRateModel(\n",
    "#     sc_fingerprint_dtm=sc_fingerprint_dtm,\n",
    "#     init_params_dict=init_params_dict,\n",
    "#     trainable_prior=True,\n",
    "#     device=device,\n",
    "#     dtype=dtype)\n",
    "\n",
    "dtm = DropletTimeMachineModel(\n",
    "    init_params_dict=init_params_dict,\n",
    "    model_constraint_params_dict=model_constraint_params_dict,\n",
    "    sc_fingerprint_dtm=sc_fingerprint_dtm,\n",
    "    gene_expression_model=gene_expression_model,\n",
    "    chimera_rate_model=chimera_rate_model,\n",
    "    fsd_model=fsd_model,\n",
    "    monitor_constraint_pressure=True,\n",
    "    device=device,\n",
    "    dtype=dtype)\n",
    "dtm.constraint_pressure_forgetting_factor = 0.999\n",
    "\n",
    "def get_adam_args(\n",
    "    base_lr: float,\n",
    "    slow_params_base_lr: float,\n",
    "    slow_modules_base_lr: float,\n",
    "    slow_params: Set[str],\n",
    "    slow_modules: Set[str],\n",
    "    weight_decay_params: Set[str],\n",
    "    weight_decay: float,\n",
    "    adam_eps: float,\n",
    "    adam_betas: Tuple[float, float]) -> Callable:\n",
    "    \n",
    "    def adam_args(module_name, param_name):\n",
    "        if module_name in slow_modules:\n",
    "            lr = slow_modules_base_lr\n",
    "        elif param_name in slow_params:\n",
    "            lr = slow_params_base_lr\n",
    "        else:\n",
    "            lr = base_lr\n",
    "            \n",
    "        if param_name in weight_decay_params:\n",
    "            weight_decay = weight_decay\n",
    "        else:\n",
    "            weight_decay = 0\n",
    "            \n",
    "        return {\n",
    "            'lr': lr,\n",
    "            'eps': adam_eps,\n",
    "            'betas': adam_betas,\n",
    "            'weight_decay': weight_decay,\n",
    "        }\n",
    "\n",
    "    return adam_args\n",
    "\n",
    "adam_args = get_adam_args(\n",
    "    base_lr=adam_lr_start,\n",
    "    slow_params_base_lr=slow_params_lr_reduction_factor * adam_lr_start,\n",
    "    slow_modules_base_lr=slow_modules_lr_reduction_factor * adam_lr_start,\n",
    "    slow_params=slow_params,\n",
    "    slow_modules=slow_modules,\n",
    "    weight_decay_params=weight_decay_params,\n",
    "    weight_decay=weight_decay,\n",
    "    adam_eps=adam_eps,\n",
    "    adam_betas=adam_betas)\n",
    "\n",
    "optimizer = torch.optim.Adam\n",
    "adam_lr_decay_per_iter = np.exp(np.log(adam_lr_stop / adam_lr_start) / n_training_iters)\n",
    "\n",
    "scheduler = pyro.optim.ExponentialLR({\n",
    "    'optimizer': optimizer,\n",
    "    'optim_args': adam_args,\n",
    "    'gamma': adam_lr_decay_per_iter})\n",
    "\n",
    "svi = SVI(\n",
    "    model=dtm.model,\n",
    "    guide=dtm.guide,\n",
    "    optim=scheduler,\n",
    "    loss=Trace_ELBO())"
   ]
  },
  {
   "cell_type": "code",
   "execution_count": 123,
   "metadata": {},
   "outputs": [],
   "source": [
    "i_iter = 0\n",
    "loss_hist = []\n",
    "# load_latest_checkpoint(checkpoint_path)"
   ]
  },
  {
   "cell_type": "code",
   "execution_count": 124,
   "metadata": {},
   "outputs": [],
   "source": [
    "# suffix_to_load = \"all_genes__21__final_3_weakreg\"\n",
    "# output_path_to_load = os.path.join(\n",
    "#     root,\n",
    "#     f\"{dataset_name}_\" +\n",
    "#     f\"_{suffix_to_load}\")\n",
    "\n",
    "# model_output_path = os.path.join(\n",
    "#     output_path_to_load,\n",
    "#     f\"{dataset_name}_{sc_fingerprint_dtm.n_genes}_genes_marginalized.pyro\")\n",
    "# pyro.get_param_store().load(model_output_path)"
   ]
  },
  {
   "cell_type": "code",
   "execution_count": 136,
   "metadata": {},
   "outputs": [
    {
     "name": "stderr",
     "output_type": "stream",
     "text": [
      "WARNING:root:Iteration number: 600, loss: 1.690 +- 0.251, time: 3.981s\n",
      "WARNING:root:Iteration number: 650, loss: 1.750 +- 0.321, time: 6.291s\n",
      "WARNING:root:Iteration number: 700, loss: 1.772 +- 0.295, time: 6.231s\n",
      "WARNING:root:Iteration number: 750, loss: 1.859 +- 0.297, time: 6.261s\n",
      "WARNING:root:Iteration number: 800, loss: 1.798 +- 0.321, time: 6.213s\n",
      "WARNING:root:Iteration number: 850, loss: 1.773 +- 0.306, time: 6.218s\n",
      "WARNING:root:Iteration number: 900, loss: 1.812 +- 0.306, time: 6.284s\n",
      "WARNING:root:Iteration number: 950, loss: 1.770 +- 0.261, time: 6.295s\n",
      "WARNING:root:Iteration number: 1000, loss: 1.709 +- 0.238, time: 6.311s\n",
      "WARNING:root:Checkpointing the latest model parameters...\n",
      "WARNING:root:Iteration number: 1050, loss: 1.807 +- 0.329, time: 6.389s\n",
      "WARNING:root:Iteration number: 1100, loss: 1.703 +- 0.287, time: 6.292s\n",
      "WARNING:root:Iteration number: 1150, loss: 1.751 +- 0.312, time: 6.239s\n",
      "WARNING:root:Iteration number: 1200, loss: 1.759 +- 0.281, time: 6.261s\n",
      "WARNING:root:Iteration number: 1250, loss: 1.748 +- 0.289, time: 6.255s\n",
      "WARNING:root:Iteration number: 1300, loss: 1.777 +- 0.281, time: 6.275s\n",
      "WARNING:root:Iteration number: 1350, loss: 1.726 +- 0.266, time: 6.286s\n",
      "WARNING:root:Iteration number: 1400, loss: 1.710 +- 0.271, time: 6.254s\n",
      "WARNING:root:Iteration number: 1450, loss: 1.684 +- 0.246, time: 6.238s\n",
      "WARNING:root:Iteration number: 1500, loss: 1.749 +- 0.317, time: 6.233s\n",
      "WARNING:root:Iteration number: 1550, loss: 1.763 +- 0.335, time: 6.269s\n",
      "WARNING:root:Iteration number: 1600, loss: 1.699 +- 0.267, time: 6.299s\n",
      "WARNING:root:Iteration number: 1650, loss: 1.752 +- 0.326, time: 6.262s\n",
      "WARNING:root:Iteration number: 1700, loss: 1.714 +- 0.258, time: 6.270s\n",
      "WARNING:root:Iteration number: 1750, loss: 1.714 +- 0.270, time: 6.274s\n",
      "WARNING:root:Iteration number: 1800, loss: 1.706 +- 0.255, time: 6.250s\n",
      "WARNING:root:Iteration number: 1850, loss: 1.799 +- 0.351, time: 6.275s\n",
      "WARNING:root:Iteration number: 1900, loss: 1.785 +- 0.242, time: 6.285s\n",
      "WARNING:root:Iteration number: 1950, loss: 1.719 +- 0.303, time: 6.191s\n",
      "WARNING:root:Iteration number: 2000, loss: 1.731 +- 0.314, time: 6.231s\n",
      "WARNING:root:Checkpointing the latest model parameters...\n",
      "WARNING:root:Iteration number: 2050, loss: 1.750 +- 0.313, time: 6.223s\n"
     ]
    },
    {
     "ename": "KeyboardInterrupt",
     "evalue": "",
     "output_type": "error",
     "traceback": [
      "\u001b[0;31m---------------------------------------------------------------------------\u001b[0m",
      "\u001b[0;31mKeyboardInterrupt\u001b[0m                         Traceback (most recent call last)",
      "\u001b[0;32m<ipython-input-136-9c84927638ea>\u001b[0m in \u001b[0;36m<module>\u001b[0;34m\u001b[0m\n\u001b[1;32m     18\u001b[0m \u001b[0;34m\u001b[0m\u001b[0m\n\u001b[1;32m     19\u001b[0m     \u001b[0;31m# SVI update\u001b[0m\u001b[0;34m\u001b[0m\u001b[0;34m\u001b[0m\u001b[0;34m\u001b[0m\u001b[0m\n\u001b[0;32m---> 20\u001b[0;31m     \u001b[0mmb_loss\u001b[0m \u001b[0;34m=\u001b[0m \u001b[0msvi\u001b[0m\u001b[0;34m.\u001b[0m\u001b[0mstep\u001b[0m\u001b[0;34m(\u001b[0m\u001b[0mmb_data\u001b[0m\u001b[0;34m)\u001b[0m\u001b[0;34m\u001b[0m\u001b[0;34m\u001b[0m\u001b[0m\n\u001b[0m\u001b[1;32m     21\u001b[0m     \u001b[0mscheduler\u001b[0m\u001b[0;34m.\u001b[0m\u001b[0mstep\u001b[0m\u001b[0;34m(\u001b[0m\u001b[0mepoch\u001b[0m\u001b[0;34m=\u001b[0m\u001b[0mi_iter\u001b[0m\u001b[0;34m)\u001b[0m\u001b[0;34m\u001b[0m\u001b[0;34m\u001b[0m\u001b[0m\n\u001b[1;32m     22\u001b[0m     \u001b[0mi_iter\u001b[0m \u001b[0;34m+=\u001b[0m \u001b[0;36m1\u001b[0m\u001b[0;34m\u001b[0m\u001b[0;34m\u001b[0m\u001b[0m\n",
      "\u001b[0;32m/opt/anaconda3/lib/python3.7/site-packages/pyro/infer/svi.py\u001b[0m in \u001b[0;36mstep\u001b[0;34m(self, *args, **kwargs)\u001b[0m\n\u001b[1;32m     96\u001b[0m         \u001b[0;31m# get loss and compute gradients\u001b[0m\u001b[0;34m\u001b[0m\u001b[0;34m\u001b[0m\u001b[0;34m\u001b[0m\u001b[0m\n\u001b[1;32m     97\u001b[0m         \u001b[0;32mwith\u001b[0m \u001b[0mpoutine\u001b[0m\u001b[0;34m.\u001b[0m\u001b[0mtrace\u001b[0m\u001b[0;34m(\u001b[0m\u001b[0mparam_only\u001b[0m\u001b[0;34m=\u001b[0m\u001b[0;32mTrue\u001b[0m\u001b[0;34m)\u001b[0m \u001b[0;32mas\u001b[0m \u001b[0mparam_capture\u001b[0m\u001b[0;34m:\u001b[0m\u001b[0;34m\u001b[0m\u001b[0;34m\u001b[0m\u001b[0m\n\u001b[0;32m---> 98\u001b[0;31m             \u001b[0mloss\u001b[0m \u001b[0;34m=\u001b[0m \u001b[0mself\u001b[0m\u001b[0;34m.\u001b[0m\u001b[0mloss_and_grads\u001b[0m\u001b[0;34m(\u001b[0m\u001b[0mself\u001b[0m\u001b[0;34m.\u001b[0m\u001b[0mmodel\u001b[0m\u001b[0;34m,\u001b[0m \u001b[0mself\u001b[0m\u001b[0;34m.\u001b[0m\u001b[0mguide\u001b[0m\u001b[0;34m,\u001b[0m \u001b[0;34m*\u001b[0m\u001b[0margs\u001b[0m\u001b[0;34m,\u001b[0m \u001b[0;34m**\u001b[0m\u001b[0mkwargs\u001b[0m\u001b[0;34m)\u001b[0m\u001b[0;34m\u001b[0m\u001b[0;34m\u001b[0m\u001b[0m\n\u001b[0m\u001b[1;32m     99\u001b[0m \u001b[0;34m\u001b[0m\u001b[0m\n\u001b[1;32m    100\u001b[0m         params = set(site[\"value\"].unconstrained()\n",
      "\u001b[0;32m/opt/anaconda3/lib/python3.7/site-packages/pyro/infer/trace_elbo.py\u001b[0m in \u001b[0;36mloss_and_grads\u001b[0;34m(self, model, guide, *args, **kwargs)\u001b[0m\n\u001b[1;32m    121\u001b[0m         \u001b[0mloss\u001b[0m \u001b[0;34m=\u001b[0m \u001b[0;36m0.0\u001b[0m\u001b[0;34m\u001b[0m\u001b[0;34m\u001b[0m\u001b[0m\n\u001b[1;32m    122\u001b[0m         \u001b[0;31m# grab a trace from the generator\u001b[0m\u001b[0;34m\u001b[0m\u001b[0;34m\u001b[0m\u001b[0;34m\u001b[0m\u001b[0m\n\u001b[0;32m--> 123\u001b[0;31m         \u001b[0;32mfor\u001b[0m \u001b[0mmodel_trace\u001b[0m\u001b[0;34m,\u001b[0m \u001b[0mguide_trace\u001b[0m \u001b[0;32min\u001b[0m \u001b[0mself\u001b[0m\u001b[0;34m.\u001b[0m\u001b[0m_get_traces\u001b[0m\u001b[0;34m(\u001b[0m\u001b[0mmodel\u001b[0m\u001b[0;34m,\u001b[0m \u001b[0mguide\u001b[0m\u001b[0;34m,\u001b[0m \u001b[0;34m*\u001b[0m\u001b[0margs\u001b[0m\u001b[0;34m,\u001b[0m \u001b[0;34m**\u001b[0m\u001b[0mkwargs\u001b[0m\u001b[0;34m)\u001b[0m\u001b[0;34m:\u001b[0m\u001b[0;34m\u001b[0m\u001b[0;34m\u001b[0m\u001b[0m\n\u001b[0m\u001b[1;32m    124\u001b[0m             \u001b[0mloss_particle\u001b[0m\u001b[0;34m,\u001b[0m \u001b[0msurrogate_loss_particle\u001b[0m \u001b[0;34m=\u001b[0m \u001b[0mself\u001b[0m\u001b[0;34m.\u001b[0m\u001b[0m_differentiable_loss_particle\u001b[0m\u001b[0;34m(\u001b[0m\u001b[0mmodel_trace\u001b[0m\u001b[0;34m,\u001b[0m \u001b[0mguide_trace\u001b[0m\u001b[0;34m)\u001b[0m\u001b[0;34m\u001b[0m\u001b[0;34m\u001b[0m\u001b[0m\n\u001b[1;32m    125\u001b[0m             \u001b[0mloss\u001b[0m \u001b[0;34m+=\u001b[0m \u001b[0mloss_particle\u001b[0m \u001b[0;34m/\u001b[0m \u001b[0mself\u001b[0m\u001b[0;34m.\u001b[0m\u001b[0mnum_particles\u001b[0m\u001b[0;34m\u001b[0m\u001b[0;34m\u001b[0m\u001b[0m\n",
      "\u001b[0;32m/opt/anaconda3/lib/python3.7/site-packages/pyro/infer/elbo.py\u001b[0m in \u001b[0;36m_get_traces\u001b[0;34m(self, model, guide, *args, **kwargs)\u001b[0m\n\u001b[1;32m    165\u001b[0m         \u001b[0;32melse\u001b[0m\u001b[0;34m:\u001b[0m\u001b[0;34m\u001b[0m\u001b[0;34m\u001b[0m\u001b[0m\n\u001b[1;32m    166\u001b[0m             \u001b[0;32mfor\u001b[0m \u001b[0mi\u001b[0m \u001b[0;32min\u001b[0m \u001b[0mrange\u001b[0m\u001b[0;34m(\u001b[0m\u001b[0mself\u001b[0m\u001b[0;34m.\u001b[0m\u001b[0mnum_particles\u001b[0m\u001b[0;34m)\u001b[0m\u001b[0;34m:\u001b[0m\u001b[0;34m\u001b[0m\u001b[0;34m\u001b[0m\u001b[0m\n\u001b[0;32m--> 167\u001b[0;31m                 \u001b[0;32myield\u001b[0m \u001b[0mself\u001b[0m\u001b[0;34m.\u001b[0m\u001b[0m_get_trace\u001b[0m\u001b[0;34m(\u001b[0m\u001b[0mmodel\u001b[0m\u001b[0;34m,\u001b[0m \u001b[0mguide\u001b[0m\u001b[0;34m,\u001b[0m \u001b[0;34m*\u001b[0m\u001b[0margs\u001b[0m\u001b[0;34m,\u001b[0m \u001b[0;34m**\u001b[0m\u001b[0mkwargs\u001b[0m\u001b[0;34m)\u001b[0m\u001b[0;34m\u001b[0m\u001b[0;34m\u001b[0m\u001b[0m\n\u001b[0m",
      "\u001b[0;32m/opt/anaconda3/lib/python3.7/site-packages/pyro/infer/trace_elbo.py\u001b[0m in \u001b[0;36m_get_trace\u001b[0;34m(self, model, guide, *args, **kwargs)\u001b[0m\n\u001b[1;32m     48\u001b[0m         \"\"\"\n\u001b[1;32m     49\u001b[0m         model_trace, guide_trace = get_importance_trace(\n\u001b[0;32m---> 50\u001b[0;31m             \"flat\", self.max_plate_nesting, model, guide, *args, **kwargs)\n\u001b[0m\u001b[1;32m     51\u001b[0m         \u001b[0;32mif\u001b[0m \u001b[0mis_validation_enabled\u001b[0m\u001b[0;34m(\u001b[0m\u001b[0;34m)\u001b[0m\u001b[0;34m:\u001b[0m\u001b[0;34m\u001b[0m\u001b[0;34m\u001b[0m\u001b[0m\n\u001b[1;32m     52\u001b[0m             \u001b[0mcheck_if_enumerated\u001b[0m\u001b[0;34m(\u001b[0m\u001b[0mguide_trace\u001b[0m\u001b[0;34m)\u001b[0m\u001b[0;34m\u001b[0m\u001b[0;34m\u001b[0m\u001b[0m\n",
      "\u001b[0;32m/opt/anaconda3/lib/python3.7/site-packages/pyro/infer/enum.py\u001b[0m in \u001b[0;36mget_importance_trace\u001b[0;34m(graph_type, max_plate_nesting, model, guide, *args, **kwargs)\u001b[0m\n\u001b[1;32m     40\u001b[0m     \u001b[0mguide_trace\u001b[0m \u001b[0;34m=\u001b[0m \u001b[0mpoutine\u001b[0m\u001b[0;34m.\u001b[0m\u001b[0mtrace\u001b[0m\u001b[0;34m(\u001b[0m\u001b[0mguide\u001b[0m\u001b[0;34m,\u001b[0m \u001b[0mgraph_type\u001b[0m\u001b[0;34m=\u001b[0m\u001b[0mgraph_type\u001b[0m\u001b[0;34m)\u001b[0m\u001b[0;34m.\u001b[0m\u001b[0mget_trace\u001b[0m\u001b[0;34m(\u001b[0m\u001b[0;34m*\u001b[0m\u001b[0margs\u001b[0m\u001b[0;34m,\u001b[0m \u001b[0;34m**\u001b[0m\u001b[0mkwargs\u001b[0m\u001b[0;34m)\u001b[0m\u001b[0;34m\u001b[0m\u001b[0;34m\u001b[0m\u001b[0m\n\u001b[1;32m     41\u001b[0m     model_trace = poutine.trace(poutine.replay(model, trace=guide_trace),\n\u001b[0;32m---> 42\u001b[0;31m                                 graph_type=graph_type).get_trace(*args, **kwargs)\n\u001b[0m\u001b[1;32m     43\u001b[0m     \u001b[0;32mif\u001b[0m \u001b[0mis_validation_enabled\u001b[0m\u001b[0;34m(\u001b[0m\u001b[0;34m)\u001b[0m\u001b[0;34m:\u001b[0m\u001b[0;34m\u001b[0m\u001b[0;34m\u001b[0m\u001b[0m\n\u001b[1;32m     44\u001b[0m         \u001b[0mcheck_model_guide_match\u001b[0m\u001b[0;34m(\u001b[0m\u001b[0mmodel_trace\u001b[0m\u001b[0;34m,\u001b[0m \u001b[0mguide_trace\u001b[0m\u001b[0;34m,\u001b[0m \u001b[0mmax_plate_nesting\u001b[0m\u001b[0;34m)\u001b[0m\u001b[0;34m\u001b[0m\u001b[0;34m\u001b[0m\u001b[0m\n",
      "\u001b[0;32m/opt/anaconda3/lib/python3.7/site-packages/pyro/poutine/trace_messenger.py\u001b[0m in \u001b[0;36mget_trace\u001b[0;34m(self, *args, **kwargs)\u001b[0m\n\u001b[1;32m    161\u001b[0m         \u001b[0mCalls\u001b[0m \u001b[0mthis\u001b[0m \u001b[0mpoutine\u001b[0m \u001b[0;32mand\u001b[0m \u001b[0mreturns\u001b[0m \u001b[0mits\u001b[0m \u001b[0mtrace\u001b[0m \u001b[0minstead\u001b[0m \u001b[0mof\u001b[0m \u001b[0mthe\u001b[0m \u001b[0mfunction\u001b[0m\u001b[0;31m'\u001b[0m\u001b[0ms\u001b[0m \u001b[0;32mreturn\u001b[0m \u001b[0mvalue\u001b[0m\u001b[0;34m.\u001b[0m\u001b[0;34m\u001b[0m\u001b[0;34m\u001b[0m\u001b[0m\n\u001b[1;32m    162\u001b[0m         \"\"\"\n\u001b[0;32m--> 163\u001b[0;31m         \u001b[0mself\u001b[0m\u001b[0;34m(\u001b[0m\u001b[0;34m*\u001b[0m\u001b[0margs\u001b[0m\u001b[0;34m,\u001b[0m \u001b[0;34m**\u001b[0m\u001b[0mkwargs\u001b[0m\u001b[0;34m)\u001b[0m\u001b[0;34m\u001b[0m\u001b[0;34m\u001b[0m\u001b[0m\n\u001b[0m\u001b[1;32m    164\u001b[0m         \u001b[0;32mreturn\u001b[0m \u001b[0mself\u001b[0m\u001b[0;34m.\u001b[0m\u001b[0mmsngr\u001b[0m\u001b[0;34m.\u001b[0m\u001b[0mget_trace\u001b[0m\u001b[0;34m(\u001b[0m\u001b[0;34m)\u001b[0m\u001b[0;34m\u001b[0m\u001b[0;34m\u001b[0m\u001b[0m\n",
      "\u001b[0;32m/opt/anaconda3/lib/python3.7/site-packages/pyro/poutine/trace_messenger.py\u001b[0m in \u001b[0;36m__call__\u001b[0;34m(self, *args, **kwargs)\u001b[0m\n\u001b[1;32m    141\u001b[0m                                       args=args, kwargs=kwargs)\n\u001b[1;32m    142\u001b[0m             \u001b[0;32mtry\u001b[0m\u001b[0;34m:\u001b[0m\u001b[0;34m\u001b[0m\u001b[0;34m\u001b[0m\u001b[0m\n\u001b[0;32m--> 143\u001b[0;31m                 \u001b[0mret\u001b[0m \u001b[0;34m=\u001b[0m \u001b[0mself\u001b[0m\u001b[0;34m.\u001b[0m\u001b[0mfn\u001b[0m\u001b[0;34m(\u001b[0m\u001b[0;34m*\u001b[0m\u001b[0margs\u001b[0m\u001b[0;34m,\u001b[0m \u001b[0;34m**\u001b[0m\u001b[0mkwargs\u001b[0m\u001b[0;34m)\u001b[0m\u001b[0;34m\u001b[0m\u001b[0;34m\u001b[0m\u001b[0m\n\u001b[0m\u001b[1;32m    144\u001b[0m             \u001b[0;32mexcept\u001b[0m \u001b[0;34m(\u001b[0m\u001b[0mValueError\u001b[0m\u001b[0;34m,\u001b[0m \u001b[0mRuntimeError\u001b[0m\u001b[0;34m)\u001b[0m\u001b[0;34m:\u001b[0m\u001b[0;34m\u001b[0m\u001b[0;34m\u001b[0m\u001b[0m\n\u001b[1;32m    145\u001b[0m                 \u001b[0mexc_type\u001b[0m\u001b[0;34m,\u001b[0m \u001b[0mexc_value\u001b[0m\u001b[0;34m,\u001b[0m \u001b[0mtraceback\u001b[0m \u001b[0;34m=\u001b[0m \u001b[0msys\u001b[0m\u001b[0;34m.\u001b[0m\u001b[0mexc_info\u001b[0m\u001b[0;34m(\u001b[0m\u001b[0;34m)\u001b[0m\u001b[0;34m\u001b[0m\u001b[0;34m\u001b[0m\u001b[0m\n",
      "\u001b[0;32m/opt/anaconda3/lib/python3.7/site-packages/pyro/poutine/messenger.py\u001b[0m in \u001b[0;36m_context_wrap\u001b[0;34m(context, fn, *args, **kwargs)\u001b[0m\n\u001b[1;32m      6\u001b[0m \u001b[0;32mdef\u001b[0m \u001b[0m_context_wrap\u001b[0m\u001b[0;34m(\u001b[0m\u001b[0mcontext\u001b[0m\u001b[0;34m,\u001b[0m \u001b[0mfn\u001b[0m\u001b[0;34m,\u001b[0m \u001b[0;34m*\u001b[0m\u001b[0margs\u001b[0m\u001b[0;34m,\u001b[0m \u001b[0;34m**\u001b[0m\u001b[0mkwargs\u001b[0m\u001b[0;34m)\u001b[0m\u001b[0;34m:\u001b[0m\u001b[0;34m\u001b[0m\u001b[0;34m\u001b[0m\u001b[0m\n\u001b[1;32m      7\u001b[0m     \u001b[0;32mwith\u001b[0m \u001b[0mcontext\u001b[0m\u001b[0;34m:\u001b[0m\u001b[0;34m\u001b[0m\u001b[0;34m\u001b[0m\u001b[0m\n\u001b[0;32m----> 8\u001b[0;31m         \u001b[0;32mreturn\u001b[0m \u001b[0mfn\u001b[0m\u001b[0;34m(\u001b[0m\u001b[0;34m*\u001b[0m\u001b[0margs\u001b[0m\u001b[0;34m,\u001b[0m \u001b[0;34m**\u001b[0m\u001b[0mkwargs\u001b[0m\u001b[0;34m)\u001b[0m\u001b[0;34m\u001b[0m\u001b[0;34m\u001b[0m\u001b[0m\n\u001b[0m\u001b[1;32m      9\u001b[0m \u001b[0;34m\u001b[0m\u001b[0m\n\u001b[1;32m     10\u001b[0m \u001b[0;34m\u001b[0m\u001b[0m\n",
      "\u001b[0;32m~/CellBender/proto/chimera/sources/dtm.py\u001b[0m in \u001b[0;36mmodel\u001b[0;34m(self, data, posterior_sampling_mode)\u001b[0m\n\u001b[1;32m    268\u001b[0m                 \u001b[0mmodel_vars_dict\u001b[0m\u001b[0;34m=\u001b[0m\u001b[0mlocals\u001b[0m\u001b[0;34m(\u001b[0m\u001b[0;34m)\u001b[0m\u001b[0;34m,\u001b[0m\u001b[0;34m\u001b[0m\u001b[0;34m\u001b[0m\u001b[0m\n\u001b[1;32m    269\u001b[0m                 \u001b[0mgene_sampling_site_scale_factor_tensor_n\u001b[0m\u001b[0;34m=\u001b[0m\u001b[0mgene_sampling_site_scale_factor_tensor_n\u001b[0m\u001b[0;34m,\u001b[0m\u001b[0;34m\u001b[0m\u001b[0;34m\u001b[0m\u001b[0m\n\u001b[0;32m--> 270\u001b[0;31m                 batch_shape=batch_shape)\n\u001b[0m\u001b[1;32m    271\u001b[0m \u001b[0;34m\u001b[0m\u001b[0m\n\u001b[1;32m    272\u001b[0m     def guide(self,\n",
      "\u001b[0;32m~/CellBender/proto/chimera/sources/dtm.py\u001b[0m in \u001b[0;36m_sample_gene_plate_soft_constraints\u001b[0;34m(self, model_constraint_params_dict, model_vars_dict, gene_sampling_site_scale_factor_tensor_n, batch_shape)\u001b[0m\n\u001b[1;32m    495\u001b[0m                                 \u001b[0;34m*\u001b[0m \u001b[0mself\u001b[0m\u001b[0;34m.\u001b[0m\u001b[0mconstraint_pressure_dict\u001b[0m\u001b[0;34m[\u001b[0m\u001b[0mvar_name\u001b[0m\u001b[0;34m]\u001b[0m\u001b[0;34m[\u001b[0m\u001b[0;34m'pinning_pressure'\u001b[0m\u001b[0;34m]\u001b[0m\u001b[0;34m\u001b[0m\u001b[0;34m\u001b[0m\u001b[0m\n\u001b[1;32m    496\u001b[0m                                 \u001b[0;34m+\u001b[0m \u001b[0;34m(\u001b[0m\u001b[0;36m1\u001b[0m \u001b[0;34m-\u001b[0m \u001b[0mself\u001b[0m\u001b[0;34m.\u001b[0m\u001b[0mconstraint_pressure_forgetting_factor\u001b[0m\u001b[0;34m)\u001b[0m\u001b[0;34m\u001b[0m\u001b[0;34m\u001b[0m\u001b[0m\n\u001b[0;32m--> 497\u001b[0;31m                                 * constraint_log_prob.abs().sum().item())\n\u001b[0m\u001b[1;32m    498\u001b[0m \u001b[0;34m\u001b[0m\u001b[0m\n\u001b[1;32m    499\u001b[0m     \u001b[0;34m@\u001b[0m\u001b[0mstaticmethod\u001b[0m\u001b[0;34m\u001b[0m\u001b[0;34m\u001b[0m\u001b[0m\n",
      "\u001b[0;31mKeyboardInterrupt\u001b[0m: "
     ]
    }
   ],
   "source": [
    "print_loss_frequency = 50\n",
    "checkpoint_frequency = 1_000\n",
    "\n",
    "mb_loss_list = []\n",
    "fsd_abs_res_list = []\n",
    "loss_scale_factor = 1. / np.sum(sc_fingerprint_dtm.total_obs_molecules_per_cell)\n",
    "\n",
    "t0 = time.time()\n",
    "\n",
    "while i_iter < n_training_iters:\n",
    "    \n",
    "    # generate stratified minibatch\n",
    "    mb_data = sc_fingerprint_dtm.generate_fingerprint_stratified_sample(\n",
    "        minibatch_genes_per_gene_group,\n",
    "        minibatch_expressing_cells_per_gene,\n",
    "        minibatch_silent_cells_per_gene,\n",
    "        minibatch_sampling_strategy)\n",
    "\n",
    "    # SVI update\n",
    "    mb_loss = svi.step(mb_data)\n",
    "    scheduler.step(epoch=i_iter)\n",
    "    i_iter += 1\n",
    "        \n",
    "    # bookkeeping, history tracking, etc.\n",
    "    mb_loss_per_cell_gene = loss_scale_factor * mb_loss\n",
    "    mb_loss_list.append(mb_loss_per_cell_gene)\n",
    "    loss_hist.append(mb_loss_per_cell_gene)\n",
    "    \n",
    "    if i_iter % print_loss_frequency == 0 and i_iter > 0:\n",
    "\n",
    "        # calculate loss stats\n",
    "        t1 = time.time()\n",
    "        mb_loss_mean, mb_loss_std = np.mean(mb_loss_list), np.std(mb_loss_list)\n",
    "        \n",
    "        logging.warning(\n",
    "            f'Iteration number: {i_iter}, loss: {mb_loss_mean:.3f} +- {mb_loss_std:.3f}, '\n",
    "            f'time: {(t1 - t0):.3f}s')\n",
    "        \n",
    "        # reset\n",
    "        mb_loss_list = []\n",
    "        fsd_abs_res_list = []\n",
    "        t0 = t1\n",
    "\n",
    "    if i_iter % checkpoint_frequency == 0:\n",
    "        logging.warning(\"Checkpointing the latest model parameters...\")\n",
    "        checkpoint_model(checkpoint_path)"
   ]
  },
  {
   "cell_type": "code",
   "execution_count": 137,
   "metadata": {},
   "outputs": [
    {
     "data": {
      "text/plain": [
       "{'phi_fsd_lo_comps_nj': {'pinning_pressure': 38185.26959453539},\n",
       " 'phi_fsd_hi_comps_nj': {'upper_bound_pressure': 6676.347056232197},\n",
       " 'mu_fsd_lo_to_mu_fsd_hi_ratio_n': {'lower_bound_pressure': 210.80479489075964,\n",
       "  'upper_bound_pressure': 3470.753082770329},\n",
       " 'mu_fsd_hi_zero_truncated_to_mu_fsd_empirical_ratio_n': {'lower_bound_pressure': 6791.26288090573,\n",
       "  'upper_bound_pressure': 5836.792547375483},\n",
       " 'mu_fsd_hi_comps_to_mu_empirical_ratio_nj': {'lower_bound_pressure': 0.0,\n",
       "  'upper_bound_pressure': 814.4965317165775},\n",
       " 'e_lo_obs_prior_fraction_n': {'lower_bound_pressure': 43568.221720844296,\n",
       "  'upper_bound_pressure': 144365.94728542672},\n",
       " 'w_fsd_hi_comps_nj': {'lower_bound_pressure': 1.4802810876714916},\n",
       " 'w_fsd_lo_comps_nj': {'lower_bound_pressure': 0.0},\n",
       " 'log_mu_e_hi_n': {'lower_bound_pressure': 99.69525620303882,\n",
       "  'upper_bound_pressure': 0.42845823314294934},\n",
       " 'log_phi_e_hi_n': {'lower_bound_pressure': 538.8770744827215,\n",
       "  'upper_bound_pressure': 0.0}}"
      ]
     },
     "execution_count": 137,
     "metadata": {},
     "output_type": "execute_result"
    }
   ],
   "source": [
    "dtm.constraint_pressure_dict"
   ]
  },
  {
   "cell_type": "code",
   "execution_count": 138,
   "metadata": {},
   "outputs": [
    {
     "data": {
      "image/png": "[encoded data removed]",
      "text/plain": [
       "<Figure size 288x288 with 1 Axes>"
      ]
     },
     "metadata": {
      "needs_background": "light"
     },
     "output_type": "display_data"
    }
   ],
   "source": [
    "smoothing = False\n",
    "log = False\n",
    "window_length = 51\n",
    "polyorder = 1\n",
    "\n",
    "if smoothing and len(loss_hist) > window_length:\n",
    "    smooth_loss_hist = savgol_filter(\n",
    "        loss_hist,\n",
    "        window_length=window_length,\n",
    "        polyorder=polyorder)\n",
    "else:\n",
    "    smooth_loss_hist = loss_hist\n",
    "if log:\n",
    "    smooth_loss_hist = np.log1p(smooth_loss_hist)\n",
    "\n",
    "plt.figure(figsize=(4, 4))\n",
    "ax = plt.gca()\n",
    "ax.plot(smooth_loss_hist)\n",
    "ax.set_xlabel('Iteration', fontsize=16)\n",
    "ax.set_ylabel('Loss', fontsize=16)\n",
    "plt.tight_layout()\n",
    "# plt.savefig('/home/jupyter/CellBender/proto/chimera/notebooks/figures/dtm_loss_stratified.pdf')"
   ]
  },
  {
   "cell_type": "code",
   "execution_count": 139,
   "metadata": {},
   "outputs": [
    {
     "data": {
      "image/png": "[encoded data removed]",
      "text/plain": [
       "<Figure size 432x288 with 2 Axes>"
      ]
     },
     "metadata": {
      "needs_background": "light"
     },
     "output_type": "display_data"
    }
   ],
   "source": [
    "fsd_Xu = fsd_model.gplvm.Xu.detach().cpu().numpy()\n",
    "fsd_latent_posterior_loc_gl = fsd_model.fsd_latent_posterior_loc_gl.detach().cpu().numpy()\n",
    "\n",
    "plt.scatter(fsd_latent_posterior_loc_gl[:, 0], fsd_latent_posterior_loc_gl[:, 1],\n",
    "            s=5, c=sc_fingerprint_dtm.empirical_fsd_mu_hi, cmap=plt.cm.jet)\n",
    "plt.colorbar()\n",
    "\n",
    "# plt.scatter(fsd_Xu[:, 0], fsd_Xu[:, 1])\n",
    "plt.xlim((-4, 4))\n",
    "plt.ylim((-1, 1))\n",
    "plt.xlabel(r'$X^1$', fontsize=16)\n",
    "plt.ylabel(r'$X^2$', fontsize=16)\n",
    "plt.tight_layout()\n",
    "\n",
    "# plt.savefig('/home/jupyter/CellBender/proto/chimera/notebooks/figures/pbmc4k_fsd_embedding.png', dpi=300)"
   ]
  },
  {
   "cell_type": "code",
   "execution_count": 140,
   "metadata": {},
   "outputs": [],
   "source": [
    "# plt.hist(chimera_rate_model.log_beta_c_posterior_loc_g.exp().detach().cpu().numpy(), bins=50, log=True);\n",
    "# print(chimera_rate_model.log_alpha_c_posterior_loc_g.exp().mean().item())\n",
    "# print(chimera_rate_model.log_alpha_c_posterior_loc_g.exp().std().item())\n",
    "# print(chimera_rate_model.log_beta_c_posterior_loc_g.exp().mean().item())\n",
    "# print(chimera_rate_model.log_beta_c_posterior_loc_g.exp().std().item())"
   ]
  },
  {
   "cell_type": "code",
   "execution_count": 141,
   "metadata": {},
   "outputs": [
    {
     "name": "stdout",
     "output_type": "stream",
     "text": [
      "0.09345582127571106\n",
      "0.1490781158208847\n"
     ]
    }
   ],
   "source": [
    "print(chimera_rate_model.alpha_c_posterior_loc.item())\n",
    "print(chimera_rate_model.beta_c_posterior_loc.item())"
   ]
  },
  {
   "cell_type": "markdown",
   "metadata": {},
   "source": [
    "## Exploration"
   ]
  },
  {
   "cell_type": "code",
   "execution_count": 142,
   "metadata": {},
   "outputs": [
    {
     "data": {
      "text/plain": [
       "<matplotlib.collections.PathCollection at 0x7f4177a17e48>"
      ]
     },
     "execution_count": 142,
     "metadata": {},
     "output_type": "execute_result"
    },
    {
     "data": {
      "image/png": "[encoded data removed]",
      "text/plain": [
       "<Figure size 432x288 with 1 Axes>"
      ]
     },
     "metadata": {
      "needs_background": "light"
     },
     "output_type": "display_data"
    },
    {
     "data": {
      "image/png": "[encoded data removed]",
      "text/plain": [
       "<Figure size 432x288 with 1 Axes>"
      ]
     },
     "metadata": {
      "needs_background": "light"
     },
     "output_type": "display_data"
    },
    {
     "data": {
      "image/png": "[encoded data removed]",
      "text/plain": [
       "<Figure size 432x288 with 1 Axes>"
      ]
     },
     "metadata": {
      "needs_background": "light"
     },
     "output_type": "display_data"
    },
    {
     "data": {
      "image/png": "[encoded data removed]",
      "text/plain": [
       "<Figure size 432x288 with 1 Axes>"
      ]
     },
     "metadata": {
      "needs_background": "light"
     },
     "output_type": "display_data"
    }
   ],
   "source": [
    "with torch.no_grad():\n",
    "    fsd_params_dict = fsd_model.decode(fsd_model.get_sorted_fsd_xi(fsd_model.fsd_xi_posterior_loc_gq))\n",
    "    empirical_mu = torch.tensor(sc_fingerprint_dtm.empirical_fsd_mu_hi).float().cuda().unsqueeze(-1)\n",
    "    mu_hi = fsd_params_dict['mu_hi'].cpu().numpy()\n",
    "    w_hi = fsd_params_dict['w_hi'].cpu().numpy()\n",
    "    phi_hi = fsd_params_dict['phi_hi'].cpu().numpy()\n",
    "    mu_lo = fsd_params_dict['mu_lo'].cpu().numpy()\n",
    "    w_lo = fsd_params_dict['w_lo'].cpu().numpy()\n",
    "    x = np.arange(sc_fingerprint_dtm.n_genes)\n",
    "    \n",
    "# rgba_colors_1 = np.zeros((sc_fingerprint_dtm.n_genes, 4))\n",
    "# rgba_colors_1[:, 0] = 1.0\n",
    "# rgba_colors_1[:, 3] = w_hi[:, 0]\n",
    "\n",
    "# rgba_colors_2 = np.zeros((sc_fingerprint_dtm.n_genes, 4))\n",
    "# rgba_colors_2[:, 1] = 1.0\n",
    "# rgba_colors_2[:, 3] = w_hi[:, 1]\n",
    "\n",
    "mu_lo_mean = np.sum(mu_lo * w_lo, -1)\n",
    "mu_hi_mean = np.sum(mu_hi * w_hi, -1)\n",
    "\n",
    "plt.figure()\n",
    "for i in range(fsd_model.n_fsd_hi_comps):\n",
    "    plt.scatter(x, mu_hi[:, i], marker='.', s=5, alpha=0.2)\n",
    "\n",
    "\n",
    "plt.figure()\n",
    "plt.scatter(x, mu_hi_mean, marker='.', s=5, color='black')\n",
    "\n",
    "plt.figure()\n",
    "plt.scatter(x, mu_lo_mean, marker='.', s=5, color='black')\n",
    "\n",
    "plt.figure()\n",
    "plt.scatter(x, mu_lo_mean/mu_hi_mean, marker='.', s=5, color='black')\n",
    "\n",
    "#     plt.scatter(x, mu_hi[:, 2], marker='.', s=5, color=rgba_colors_3)\n",
    "    # plt.ylim([0, 5])"
   ]
  },
  {
   "cell_type": "code",
   "execution_count": 143,
   "metadata": {},
   "outputs": [
    {
     "data": {
      "text/plain": [
       "(array([0]),)"
      ]
     },
     "execution_count": 143,
     "metadata": {},
     "output_type": "execute_result"
    }
   ],
   "source": [
    "np.where(mu_lo_mean > 2)"
   ]
  },
  {
   "cell_type": "code",
   "execution_count": 144,
   "metadata": {},
   "outputs": [
    {
     "data": {
      "text/plain": [
       "(array([1343, 1502, 1601, 1611, 1632, 1636, 1675, 1677, 1692, 1697, 1705,\n",
       "        1713, 1726, 1745, 1746, 1760, 1761, 1764, 1774, 1776, 1784, 1797,\n",
       "        1802, 1807, 1808, 1812, 1816, 1818, 1819, 1820, 1822, 1823, 1835,\n",
       "        1839, 1846, 1854, 1855, 1858]),)"
      ]
     },
     "execution_count": 144,
     "metadata": {},
     "output_type": "execute_result"
    }
   ],
   "source": [
    "np.where(sc_fingerprint_dtm.empirical_fsd_mu_hi == 1)"
   ]
  },
  {
   "cell_type": "code",
   "execution_count": 170,
   "metadata": {},
   "outputs": [
    {
     "name": "stdout",
     "output_type": "stream",
     "text": [
      "SYN3\n",
      "mean_e_obs: 0.0010608953957139827\n",
      "mean_e_hi (map): 0.000848716316571186\n",
      "e_hi_z: 4709\n",
      "e_obs_z: 4708\n",
      "mu_e_hi (prior): 0.0009123787749558687\n",
      "phi_e_hi (prior): 0.008770708926022053\n",
      "mean_e_hi (prior): 0.0009123787749558687\n",
      "mu_lo: [0.6928] += [0.1985]\n",
      "phi_lo: [0.9766] += [0.0455]\n",
      "w_lo: [1.] += [0.]\n",
      "mu_hi: [14.7266 12.4758] += [2.6599 2.6498]\n",
      "phi_hi: [0.2057 0.2507] += [0.0644 0.0796]\n",
      "w_hi: [0.6618 0.3382] += [0.0954 0.0954]\n",
      "p_obs_hi: 0.997 +- 0.002\n",
      "p_obs_lo: 0.403 +- 0.066\n"
     ]
    },
    {
     "data": {
      "image/png": "[encoded data removed]",
      "text/plain": [
       "<Figure size 432x288 with 1 Axes>"
      ]
     },
     "metadata": {
      "needs_background": "light"
     },
     "output_type": "display_data"
    }
   ],
   "source": [
    "# original_gene_index = 14724\n",
    "# gene_index = sc_fingerprint_base.gene_idx_list.index(original_gene_index)\n",
    "# print(original_gene_index)\n",
    "\n",
    "gene_index = 1500 # sc_fingerprint_base.gene_names_list.index('CST3')\n",
    "print(sc_fingerprint_base.gene_names_list[gene_index])\n",
    "\n",
    "sampler = PosteriorGeneExpressionSampler(dtm, device, dtype)\n",
    "expr_dict = sampler.get_gene_expression_posterior_sampling_summary(\n",
    "    gene_index=gene_index,\n",
    "    n_proposals_omega=10,\n",
    "    n_particles_omega=5,\n",
    "    n_particles_cell=5,\n",
    "    n_particles_expression=5,\n",
    "    cell_shard_size=100,\n",
    "    run_mode=\"full\",\n",
    "    only_expressing_cells=False)\n",
    "\n",
    "# expr_dict =  sampler.get_gene_expression_posterior_moments_summary(\n",
    "#     gene_index=gene_index,\n",
    "#     n_particles_omega=100,\n",
    "#     n_particles_cell=1,\n",
    "#     cell_shard_size=1000,\n",
    "#     only_expressing_cells=False,\n",
    "#     run_mode='full',\n",
    "#     mode_estimation_strategy='lower_bound')\n",
    "\n",
    "e_hi = expr_dict['e_hi_map']\n",
    "\n",
    "data = sc_fingerprint_dtm.generate_single_gene_fingerprint_minibatch_data(\n",
    "    gene_index, np.arange(0, sc_fingerprint_dtm.n_cells), 1)\n",
    "out = gene_expression_model.guide(data)\n",
    "decoded = gene_expression_model.decode_output_to_nb_params_dict(out, data)\n",
    "mu_e_hi_n = decoded['log_mu_e_hi_n'].exp()\n",
    "phi_e_hi_n = decoded['log_phi_e_hi_n'].exp()\n",
    "\n",
    "e_hi_prior_dist = NegativeBinomial(\n",
    "    mu=mu_e_hi_n,\n",
    "    phi=phi_e_hi_n)\n",
    "\n",
    "e_obs = np.asarray(sc_fingerprint_dtm.sparse_count_matrix_csc[:, gene_index].todense()).squeeze(1)\n",
    "mean_e_obs = np.mean(e_obs)\n",
    "mean_e_hi = np.mean(e_hi)\n",
    "e_hi_z = np.sum(e_hi == 0)\n",
    "e_obs_z = np.sum(e_obs == 0)\n",
    "\n",
    "print('mean_e_obs:', mean_e_obs)\n",
    "print('mean_e_hi (map):', mean_e_hi)\n",
    "print('e_hi_z:', e_hi_z)\n",
    "print('e_obs_z:', e_obs_z)\n",
    "print('mu_e_hi (prior):', mu_e_hi_n.mean().item())\n",
    "print('phi_e_hi (prior):', phi_e_hi_n.mean().item())\n",
    "print('mean_e_hi (prior):', e_hi_prior_dist.mean.mean().item())\n",
    "\n",
    "\n",
    "fig = plt.figure()\n",
    "plt.scatter(np.log1p(e_obs), np.log1p(e_hi), s=1, alpha=0.5)\n",
    "plt.plot(np.log1p([0, np.max(e_obs)]), np.log1p([0, np.max(e_obs)]))\n",
    "plt.xlabel('e_obs', fontsize=16)\n",
    "plt.ylabel('e_hi', fontsize=16)\n",
    "\n",
    "n_posterior_samples = 500\n",
    "cell_index_array = np.zeros((n_posterior_samples,), dtype=np.int).astype(np.int32)\n",
    "gene_index_array = gene_index * np.ones_like(cell_index_array).astype(np.int32)\n",
    "unique_gene_indices_array = np.asarray([gene_index]).astype(np.int32)\n",
    "unique_gene_start_index_in_minibatch_array = np.asarray([0]).astype(np.int32)\n",
    "unique_gene_end_index_in_minibatch_array = np.asarray([n_posterior_samples]).astype(np.int32)\n",
    "cell_sampling_site_scale_factor_array = np.ones_like(cell_index_array)\n",
    "gene_sampling_site_scale_factor_array = np.ones_like(cell_index_array)\n",
    "single_gene_mb_data = sc_fingerprint_dtm.generate_fingerprint_torch_minibatch_data(\n",
    "    cell_index_array=cell_index_array,\n",
    "    gene_index_array=gene_index_array,\n",
    "    unique_gene_indices_array=unique_gene_indices_array,\n",
    "    unique_gene_start_index_in_minibatch_array=unique_gene_start_index_in_minibatch_array,\n",
    "    unique_gene_end_index_in_minibatch_array=unique_gene_end_index_in_minibatch_array,\n",
    "    cell_sampling_site_scale_factor_array=cell_sampling_site_scale_factor_array,\n",
    "    gene_sampling_site_scale_factor_array=gene_sampling_site_scale_factor_array,\n",
    "    fingerprint_array=np.zeros((n_posterior_samples, sc_fingerprint_dtm.max_family_size), dtype=np.float32))\n",
    "guide_trace = poutine.trace(dtm.guide).get_trace(single_gene_mb_data)\n",
    "fsd_params_dict = guide_trace.nodes['_RETURN']['value']['fsd_guide_output_dict']\n",
    "\n",
    "with torch.no_grad():\n",
    "    np.set_printoptions(precision=4)\n",
    "    for k, v in fsd_params_dict.items():\n",
    "        m = torch.mean(v, 0).cpu().numpy()\n",
    "        s = torch.std(v, 0).cpu().numpy()\n",
    "        print(f'{k}: {m} += {s}')\n",
    "        \n",
    "dist_lo, dist_hi = fsd_model.get_fsd_components(fsd_params_dict)\n",
    "p_lo = dist_lo.log_prob(torch.arange(0, sc_fingerprint_dtm.max_family_size + 1).float().cuda()).detach().cpu().exp().numpy()\n",
    "p_hi = dist_hi.log_prob(torch.arange(0, sc_fingerprint_dtm.max_family_size + 1).float().cuda()).detach().cpu().exp().numpy()\n",
    "\n",
    "p_obs_hi_mean, p_obs_hi_std = np.mean(1 - p_hi[:, 0]), np.std(p_hi[:, 0])\n",
    "p_obs_lo_mean, p_obs_lo_std = np.mean(1 - p_lo[:, 0]), np.std(p_lo[:, 0])\n",
    "print(f\"p_obs_hi: {p_obs_hi_mean:.3f} +- {p_obs_hi_std:.3f}\")\n",
    "print(f\"p_obs_lo: {p_obs_lo_mean:.3f} +- {p_obs_lo_std:.3f}\")"
   ]
  },
  {
   "cell_type": "code",
   "execution_count": 171,
   "metadata": {},
   "outputs": [
    {
     "data": {
      "image/png": "[encoded data removed]",
      "text/plain": [
       "<Figure size 288x288 with 1 Axes>"
      ]
     },
     "metadata": {
      "needs_background": "light"
     },
     "output_type": "display_data"
    },
    {
     "data": {
      "image/png": "[encoded data removed]",
      "text/plain": [
       "<Figure size 288x288 with 1 Axes>"
      ]
     },
     "metadata": {
      "needs_background": "light"
     },
     "output_type": "display_data"
    },
    {
     "data": {
      "image/png": "[encoded data removed]",
      "text/plain": [
       "<Figure size 288x288 with 1 Axes>"
      ]
     },
     "metadata": {
      "needs_background": "light"
     },
     "output_type": "display_data"
    }
   ],
   "source": [
    "gene_name = sc_fingerprint_base.gene_names_list[gene_index]\n",
    "fig = plt.figure(figsize=(4, 4))\n",
    "ax = plt.gca()\n",
    "for i in range(n_posterior_samples):\n",
    "    ax.plot(p_hi[i, :], alpha=0.01, color='black')\n",
    "ax.set_xlabel('Family Size', fontsize=16)\n",
    "ax.set_ylabel('PMF', fontsize=16)\n",
    "ax.set_xlim((0, 40))\n",
    "plt.tight_layout()\n",
    "plt.savefig(f'/home/jupyter/CellBender/proto/chimera/notebooks/figures/p_hi_{gene_name}.png', dpi=150)\n",
    "\n",
    "fig = plt.figure(figsize=(4, 4))\n",
    "ax = plt.gca()\n",
    "for i in range(n_posterior_samples):\n",
    "    ax.plot(p_lo[i, :], alpha=0.01, color='black')\n",
    "ax.set_xlabel('Family Size', fontsize=16)\n",
    "ax.set_ylabel('PMF', fontsize=16)\n",
    "ax.set_xlim((0, 40))\n",
    "plt.tight_layout()\n",
    "plt.savefig(f'/home/jupyter/CellBender/proto/chimera/notebooks/figures/p_lo_{gene_name}.png', dpi=150)\n",
    "\n",
    "empircal_fsd = sc_fingerprint_dtm.get_single_gene_dense_fingerprint_array(gene_index, None)\n",
    "empircal_fsd = np.sum(empircal_fsd, 0)\n",
    "empircal_fsd = empircal_fsd / np.sum(empircal_fsd)\n",
    "\n",
    "fig = plt.figure(figsize=(4, 4))\n",
    "ax = plt.gca()\n",
    "ax.bar(np.arange(1, sc_fingerprint_dtm.max_family_size + 1), empircal_fsd)\n",
    "ax.set_xlim((0, 40))\n",
    "ax.set_xticks([1, 10, 20, 30, 40]);\n",
    "ax.set_xlabel('Family Size', fontsize=16)\n",
    "ax.set_ylabel('PMF', fontsize=16)\n",
    "plt.tight_layout()\n",
    "plt.savefig(f'/home/jupyter/CellBender/proto/chimera/notebooks/figures/p_emp_{gene_name}.png', dpi=150)"
   ]
  },
  {
   "cell_type": "code",
   "execution_count": 606,
   "metadata": {},
   "outputs": [
    {
     "name": "stdout",
     "output_type": "stream",
     "text": [
      "1.3178986446970276\n"
     ]
    },
    {
     "data": {
      "image/png": "[encoded data removed]",
      "text/plain": [
       "<Figure size 1296x288 with 1 Axes>"
      ]
     },
     "metadata": {
      "needs_background": "light"
     },
     "output_type": "display_data"
    }
   ],
   "source": [
    "plt.figure(figsize=(18,4))\n",
    "\n",
    "err = 3 * expr_dict['e_hi_std']\n",
    "plt.scatter(np.arange(0, sc_fingerprint_dtm.n_cells), e_obs, marker='o', color='cyan', s=8)\n",
    "plt.errorbar(np.arange(0, sc_fingerprint_dtm.n_cells),\n",
    "             expr_dict['e_hi_map'],\n",
    "             barsabove=True, elinewidth=1, lw=0,\n",
    "             marker='.', ecolor='gray', markersize=4,\n",
    "             yerr=err, alpha=0.5)\n",
    "plt.ylim((0, 2.5 * np.max(expr_dict['e_hi_map'])))\n",
    "# plt.scatter(np.arange(0, sc_fingerprint_dtm.n_cells), expr_dict['e_hi_mean'], marker='x', color='red', s=8)\n",
    "plt.xlim((0, 100))\n",
    "plt.ylim((1e-1, 5000))\n",
    "plt.yscale('log')\n",
    "\n",
    "print(np.sum(expr_dict['e_hi_map']) / np.sum(e_obs))\n",
    "\n",
    "# print(np.sum(expr_dict['e_hi_map'][mouse_droplets]) / np.sum(e_obs[mouse_droplets]))\n",
    "# print(np.sum(expr_dict['e_hi_map'][human_droplets]) / np.sum(e_obs[human_droplets]))"
   ]
  },
  {
   "cell_type": "code",
   "execution_count": 524,
   "metadata": {},
   "outputs": [],
   "source": [
    "fp = sc_fingerprint_dtm.get_single_gene_dense_fingerprint_array(gene_index)"
   ]
  },
  {
   "cell_type": "code",
   "execution_count": 525,
   "metadata": {},
   "outputs": [
    {
     "data": {
      "text/plain": [
       "[<matplotlib.lines.Line2D at 0x7faaa1adecf8>]"
      ]
     },
     "execution_count": 525,
     "metadata": {},
     "output_type": "execute_result"
    },
    {
     "data": {
      "image/png": "[encoded data removed]",
      "text/plain": [
       "<Figure size 432x288 with 1 Axes>"
      ]
     },
     "metadata": {
      "needs_background": "light"
     },
     "output_type": "display_data"
    }
   ],
   "source": [
    "plt.plot(fp[fp.sum(-1) <= 2, :].sum(0) / fp[fp.sum(-1) <= 2, :].sum(0).sum(0))\n",
    "plt.plot(fp[fp.sum(-1) > 20, :].sum(0) / fp[fp.sum(-1) > 20, :].sum(0).sum(0))"
   ]
  },
  {
   "cell_type": "code",
   "execution_count": 528,
   "metadata": {},
   "outputs": [
    {
     "data": {
      "text/plain": [
       "120"
      ]
     },
     "execution_count": 528,
     "metadata": {},
     "output_type": "execute_result"
    }
   ],
   "source": [
    "np.sum(fp.sum(-1) > 0)"
   ]
  },
  {
   "cell_type": "code",
   "execution_count": 546,
   "metadata": {},
   "outputs": [],
   "source": [
    "single_cells = np.where(fp[:, 0] > 0)[0]\n",
    "multiplet_cells = np.where(fp[:, 1:].sum(-1) > 0)[0]"
   ]
  },
  {
   "cell_type": "code",
   "execution_count": 550,
   "metadata": {},
   "outputs": [
    {
     "data": {
      "text/plain": [
       "15"
      ]
     },
     "execution_count": 550,
     "metadata": {},
     "output_type": "execute_result"
    }
   ],
   "source": [
    "len(set(single_cells).intersection(set(multiplet_cells)))"
   ]
  },
  {
   "cell_type": "code",
   "execution_count": 549,
   "metadata": {},
   "outputs": [
    {
     "data": {
      "text/plain": [
       "83"
      ]
     },
     "execution_count": 549,
     "metadata": {},
     "output_type": "execute_result"
    }
   ],
   "source": [
    "len(multiplet_cells)"
   ]
  },
  {
   "cell_type": "code",
   "execution_count": 182,
   "metadata": {},
   "outputs": [],
   "source": [
    "data = mb_data"
   ]
  },
  {
   "cell_type": "code",
   "execution_count": 183,
   "metadata": {},
   "outputs": [],
   "source": [
    "sampler = PosteriorGeneExpressionSampler(dtm, device, dtype)\n",
    "ctx = sampler._get_trained_model_context(data)\n",
    "chimera_out = chimera_rate_model.guide(data)\n",
    "ctx['total_obs_gene_expr_per_cell_n'] = ctx['arithmetic_mean_obs_expr_per_gene_tensor_n']\n",
    "chimera_dict = chimera_rate_model.decode_output_to_chimera_rate(chimera_out, data, ctx)"
   ]
  },
  {
   "cell_type": "code",
   "execution_count": 184,
   "metadata": {},
   "outputs": [],
   "source": [
    "log_mu_e_hi_n = ctx['e_hi_nb_params_dict']['log_mu_e_hi_n']\n",
    "mu_e_hi_n = log_mu_e_hi_n.exp()\n",
    "cell_sampling_site_scale_factor_tensor = data['cell_sampling_site_scale_factor_tensor']"
   ]
  },
  {
   "cell_type": "code",
   "execution_count": 185,
   "metadata": {},
   "outputs": [],
   "source": [
    "index = torch.cat([\n",
    "    j * torch.ones(data['unique_gene_end_index_in_minibatch_tensor'][j] - data['unique_gene_start_index_in_minibatch_tensor'][j])\n",
    "    for j in range(len(data['unique_gene_indices_tensor']))]).to(device).long()"
   ]
  },
  {
   "cell_type": "code",
   "execution_count": 186,
   "metadata": {},
   "outputs": [
    {
     "data": {
      "text/plain": [
       "tensor([0.8100, 0.8100, 0.8100,  ..., 0.0013, 0.0013, 0.0013], device='cuda:0')"
      ]
     },
     "execution_count": 186,
     "metadata": {},
     "output_type": "execute_result"
    }
   ],
   "source": [
    "mu_e_hi_sum_cell_weighted_sum_g = torch.zeros(sc_fingerprint_dtm.n_genes, device=device, dtype=dtype)\n",
    "cell_weight_sum_g = torch.zeros(sc_fingerprint_dtm.n_genes, device=device, dtype=dtype)\n",
    "\n",
    "mu_e_hi_sum_cell_weighted_sum_g = torch.index_add(\n",
    "    input=mu_e_hi_sum_cell_weighted_sum_g,\n",
    "    dim=0,\n",
    "    index=data['gene_index_tensor'],\n",
    "    source=mu_e_hi_n * cell_sampling_site_scale_factor_tensor)\n",
    "\n",
    "cell_weight_sum_g = torch.index_add(\n",
    "    input=cell_weight_sum_g,\n",
    "    dim=0,\n",
    "    index=data['gene_index_tensor'],\n",
    "    source=cell_sampling_site_scale_factor_tensor)\n",
    "\n",
    "mu_e_hi_cell_averaged_g = mu_e_hi_sum_cell_weighted_sum_g / (1e-12 + cell_weight_sum_g)\n",
    "\n",
    "torch.gather(mu_e_hi_cell_averaged_g, dim=0, index=data['gene_index_tensor'])"
   ]
  },
  {
   "cell_type": "code",
   "execution_count": 187,
   "metadata": {},
   "outputs": [
    {
     "data": {
      "text/plain": [
       "tensor([  50,   50,   50,  ..., 1467, 1467, 1467], device='cuda:0')"
      ]
     },
     "execution_count": 187,
     "metadata": {},
     "output_type": "execute_result"
    }
   ],
   "source": [
    "data['gene_index_tensor']"
   ]
  },
  {
   "cell_type": "code",
   "execution_count": null,
   "metadata": {},
   "outputs": [],
   "source": []
  },
  {
   "cell_type": "code",
   "execution_count": 139,
   "metadata": {},
   "outputs": [
    {
     "data": {
      "text/plain": [
       "(array([], dtype=int64),)"
      ]
     },
     "execution_count": 139,
     "metadata": {},
     "output_type": "execute_result"
    }
   ],
   "source": [
    "np.where((expr_dict['e_hi_map'] > 0) & (e_obs == 0))"
   ]
  },
  {
   "cell_type": "code",
   "execution_count": 140,
   "metadata": {},
   "outputs": [
    {
     "data": {
      "text/plain": [
       "array([0., 0., 0., 0., 0., 0., 0., 0., 0., 0., 0., 0., 0., 0., 0., 0., 0.,\n",
       "       0., 0., 0., 0., 0., 0., 0., 0., 0., 0., 0., 0., 0., 0., 0., 0., 0.,\n",
       "       0., 0., 0., 0., 0., 0., 0., 0., 0., 0., 0., 0., 0., 0., 0., 0., 0.,\n",
       "       0., 0.], dtype=float32)"
      ]
     },
     "execution_count": 140,
     "metadata": {},
     "output_type": "execute_result"
    }
   ],
   "source": [
    "sc_fingerprint_dtm.get_single_gene_dense_fingerprint_array(gene_index)[22, :]"
   ]
  },
  {
   "cell_type": "code",
   "execution_count": 141,
   "metadata": {},
   "outputs": [
    {
     "data": {
      "text/plain": [
       "Text(0.5, 0, '$e_\\\\mathrm{obs}$')"
      ]
     },
     "execution_count": 141,
     "metadata": {},
     "output_type": "execute_result"
    },
    {
     "data": {
      "image/png": "[encoded data removed]",
      "text/plain": [
       "<Figure size 432x288 with 1 Axes>"
      ]
     },
     "metadata": {
      "needs_background": "light"
     },
     "output_type": "display_data"
    }
   ],
   "source": [
    "from collections import Counter\n",
    "x_vals = e_obs\n",
    "y_vals = expr_dict['e_hi_map']\n",
    "combos = list(zip(x_vals, y_vals))\n",
    "weight_counter = Counter(combos)\n",
    "weights = [weight_counter[(x_vals[i], y_vals[i])] for i, _ in enumerate(x_vals)]\n",
    "\n",
    "\n",
    "plt.scatter(x_vals, y_vals, s=weights, alpha=0.7)\n",
    "plt.plot([0, np.max(x_vals)], [0, np.max(x_vals)], '--', color='black')\n",
    "plt.ylabel(r'$e^>$', fontsize=16)\n",
    "plt.xlabel(r'$e_\\mathrm{obs}$', fontsize=16)"
   ]
  },
  {
   "cell_type": "code",
   "execution_count": 65,
   "metadata": {},
   "outputs": [
    {
     "data": {
      "text/plain": [
       "<matplotlib.collections.PathCollection at 0x7fb2ab794940>"
      ]
     },
     "execution_count": 65,
     "metadata": {},
     "output_type": "execute_result"
    },
    {
     "data": {
      "image/png": "[encoded data removed]",
      "text/plain": [
       "<Figure size 432x288 with 1 Axes>"
      ]
     },
     "metadata": {
      "needs_background": "light"
     },
     "output_type": "display_data"
    }
   ],
   "source": [
    "plt.scatter(\n",
    "    np.log1p(e_obs),\n",
    "    np.log1p(e_hi_prior_dist.mean.detach().cpu().numpy()), s=1, alpha=0.5)"
   ]
  },
  {
   "cell_type": "code",
   "execution_count": 33,
   "metadata": {},
   "outputs": [
    {
     "data": {
      "text/plain": [
       "<matplotlib.legend.Legend at 0x7f41a093ddd8>"
      ]
     },
     "execution_count": 33,
     "metadata": {},
     "output_type": "execute_result"
    },
    {
     "data": {
      "image/png": "[encoded data removed]",
      "text/plain": [
       "<Figure size 432x288 with 1 Axes>"
      ]
     },
     "metadata": {
      "needs_background": "light"
     },
     "output_type": "display_data"
    }
   ],
   "source": [
    "with torch.no_grad():\n",
    "    fsd_params_dict = fsd_model.decode(fsd_model.fsd_xi_posterior_loc_gq)\n",
    "    dist_lo, dist_hi = fsd_model.get_fsd_components(fsd_params_dict)\n",
    "    mu_lo = dist_lo.mean.cpu().numpy()\n",
    "    mu_hi = dist_hi.mean.cpu().numpy()\n",
    "    phi_lo = fsd_params_dict['phi_lo'].squeeze(-1).cpu().numpy()\n",
    "    \n",
    "# assignments = torch.argmin(\n",
    "#     (fsd_codec.get_sorted_fsd_xi(pyro.param(\"fsd_xi_posterior_loc_gq\")).unsqueeze(-1)\n",
    "#      - fsd_codec.get_sorted_fsd_xi(pyro.param(\"fsd_xi_prior_locs_kq\")).permute(-1, -2)).pow(2).sum(1), dim=-1).detach().cpu().numpy()\n",
    "\n",
    "plt.scatter(mu_hi.squeeze(), mu_lo.squeeze(), s=1, alpha=0.1, label='mu_lo')\n",
    "plt.scatter(mu_hi.squeeze(), phi_lo.squeeze(), s=1, alpha=0.1, label='phi_lo')\n",
    "plt.yscale('log')\n",
    "plt.xscale('log')\n",
    "plt.ylim((1e-5, 3.))\n",
    "plt.xlim((0.1, 50)) \n",
    "plt.legend()\n"
   ]
  },
  {
   "cell_type": "code",
   "execution_count": 608,
   "metadata": {},
   "outputs": [],
   "source": [
    "# with torch.no_grad():\n",
    "#     fsd_hi_params_dict = fsd_codec.decode_xi_to_fsd_hi_params_dict(pyro.param(\"fsd_xi_posterior_loc_gq\"))\n",
    "#     log_w_hi_nj = fsd_hi_params_dict['w_hi'].log()\n",
    "#     log_mu_hi_nj = fsd_hi_params_dict['mu_hi'].log()\n",
    "#     log_mu_hi_n = (log_w_hi_nj + log_mu_hi_nj).logsumexp(dim=-1)\n",
    "#     fsd_codec.vsgp.set_data(X=log_mu_hi_n, y=None)\n",
    "#     log_mu_lo_loc_rn, log_mu_lo_var_rn = fsd_codec.vsgp.model()\n",
    "#     log_mu_lo_loc_n = log_mu_lo_loc_rn.squeeze(0).cpu().numpy()\n",
    "#     log_mu_lo_scale_n = log_mu_lo_var_rn.squeeze(0).sqrt().cpu().numpy()\n",
    "#     log_mu_hi_n = log_mu_hi_n.cpu().numpy()\n",
    "\n",
    "# ax = plt.gca()\n",
    "# ind = np.argsort(log_mu_hi_n)\n",
    "# ax.plot(log_mu_hi_n[ind], log_mu_lo_loc_n[ind], color='red')\n",
    "# ax.fill_between(log_mu_hi_n[ind],\n",
    "#                 log_mu_lo_loc_n[ind] - 2.0 * log_mu_lo_scale_n[ind],\n",
    "#                 log_mu_lo_loc_n[ind] + 2.0 * log_mu_lo_scale_n[ind],\n",
    "#                 color='C0', alpha=0.3)\n",
    "# ax.set_xlabel('$\\log \\,\\, \\\\mu^>$', fontsize=14)\n",
    "# ax.set_ylabel('$\\log \\,\\, \\\\mu^<$', fontsize=14)\n",
    "\n",
    "# # plt.scatter(mu_hi.squeeze(), mu_lo.squeeze(), s=1, alpha=0.1, c=assignments, cmap=plt.cm.jet)\n",
    "# # plt.ylim((1e-3, 2.))\n",
    "# # plt.xlim((0.1, 50)) \n"
   ]
  },
  {
   "cell_type": "code",
   "execution_count": null,
   "metadata": {},
   "outputs": [],
   "source": [
    "# ax = plt.gca()\n",
    "\n",
    "# with torch.no_grad():\n",
    "#     fsd_hi_params_dict = fsd_model.decode_xi_to_fsd_hi_params_dict(pyro.param(\"fsd_xi_posterior_loc_gq\"))\n",
    "#     log_w_hi_nj = fsd_hi_params_dict['w_hi'].log()\n",
    "#     log_mu_hi_nj = fsd_hi_params_dict['mu_hi'].log()\n",
    "#     log_mu_hi_n = (log_w_hi_nj + log_mu_hi_nj).logsumexp(dim=-1)\n",
    "#     fsd_model.vsgp.set_data(X=log_mu_hi_n, y=None)\n",
    "#     log_mu_lo_loc_rn, log_mu_lo_var_rn = fsd_model.vsgp.model()\n",
    "#     log_mu_lo_loc_n = log_mu_lo_loc_rn.squeeze(0).cpu().numpy()\n",
    "#     log_mu_lo_scale_n = log_mu_lo_var_rn.squeeze(0).sqrt().cpu().numpy()\n",
    "#     log_mu_hi_n = log_mu_hi_n.cpu().numpy()\n",
    "\n",
    "# ind = np.argsort(log_mu_hi_n)\n",
    "# ax.plot(log_mu_hi_n[ind], log_mu_lo_loc_n[ind], color='red')\n",
    "# ax.fill_between(log_mu_hi_n[ind],\n",
    "#                 log_mu_lo_loc_n[ind] - 2.0 * log_mu_lo_scale_n[ind],\n",
    "#                 log_mu_lo_loc_n[ind] + 2.0 * log_mu_lo_scale_n[ind],\n",
    "#                 color='C0', alpha=0.3)\n",
    "\n",
    "\n",
    "# with torch.no_grad():\n",
    "#     fsd_hi_params_dict = fsd_model.decode(pyro.param(\"fsd_xi_posterior_loc_gq\"))\n",
    "#     log_w_hi_nj = fsd_hi_params_dict['w_hi'].log()\n",
    "#     log_mu_hi_nj = fsd_hi_params_dict['mu_hi'].log()\n",
    "#     log_mu_hi_g = (log_w_hi_nj + log_mu_hi_nj).logsumexp(dim=-1).cpu().numpy()\n",
    "#     log_mu_lo_g = pyro.param(\"log_mu_lo_posterior_loc_gj\").squeeze(-1).cpu().numpy()\n",
    "# plt.scatter(log_mu_hi_g.squeeze(), log_mu_lo_g.squeeze(), s=1, alpha=0.1)\n",
    "\n",
    "\n",
    "\n",
    "# ax.set_xlabel('$\\log \\,\\, \\\\mu^>$', fontsize=14)\n",
    "# ax.set_ylabel('$\\log \\,\\, \\\\mu^<$', fontsize=14)"
   ]
  },
  {
   "cell_type": "code",
   "execution_count": null,
   "metadata": {},
   "outputs": [],
   "source": [
    "# mu_e_hi_g, phi_e_hi_g, logit_p_zero_e_hi_g = model._decode_e_hi_zeta(\n",
    "#     pyro.param(\"e_hi_zeta_posterior_loc_gr\"))\n",
    "# logit_p_zero_e_hi = logit_p_zero_e_hi_g.detach().cpu().numpy()\n",
    "# _ = plt.hist(logit_p_zero_e_hi, bins=400)"
   ]
  },
  {
   "cell_type": "code",
   "execution_count": null,
   "metadata": {},
   "outputs": [],
   "source": [
    "# plt.scatter(np.log(mu_e_hi_g.detach().cpu().numpy()), logit_p_zero_e_hi_g.detach().cpu().numpy(), alpha=0.1, s=1)"
   ]
  },
  {
   "cell_type": "code",
   "execution_count": null,
   "metadata": {},
   "outputs": [],
   "source": [
    "from pyro_extras import get_log_prob_compl\n",
    "\n",
    "with torch.no_grad():\n",
    "    xi_posterior = fsd_model.get_sorted_fsd_xi(fsd_model.fsd_xi_posterior_loc_gq)\n",
    "    zero = torch.tensor(0, device=device, dtype=dtype)\n",
    "    fsd_params_dict = fsd_model.decode(xi_posterior)\n",
    "\n",
    "    # get chimeric and real family size distributions\n",
    "    fsd_lo_dist, fsd_hi_dist = fsd_model.get_fsd_components(fsd_params_dict)\n",
    "\n",
    "    # extract required quantities from the distributions\n",
    "    mu_fsd_lo_g = fsd_lo_dist.mean.squeeze(-1)\n",
    "    mu_fsd_hi_g = fsd_hi_dist.mean.squeeze(-1)\n",
    "    log_p_unobs_lo_g = fsd_lo_dist.log_prob(zero).squeeze(-1)\n",
    "    log_p_unobs_hi_g = fsd_hi_dist.log_prob(zero).squeeze(-1)\n",
    "    log_p_obs_lo_g = get_log_prob_compl(log_p_unobs_lo_g)\n",
    "    log_p_obs_hi_g = get_log_prob_compl(log_p_unobs_hi_g)\n",
    "    p_obs_lo_g = log_p_obs_lo_g.exp()\n",
    "    p_obs_hi_g = log_p_obs_hi_g.exp()\n",
    "    \n",
    "plt.scatter(np.arange(sc_fingerprint_dtm.n_genes), p_obs_hi_g.cpu().numpy(), alpha=0.2, s=1)"
   ]
  },
  {
   "cell_type": "markdown",
   "metadata": {},
   "source": [
    "## Visualizing the distributions parameters $\\xi$"
   ]
  },
  {
   "cell_type": "code",
   "execution_count": 609,
   "metadata": {},
   "outputs": [
    {
     "data": {
      "text/plain": [
       "<matplotlib.collections.PathCollection at 0x7faa65b55240>"
      ]
     },
     "execution_count": 609,
     "metadata": {},
     "output_type": "execute_result"
    },
    {
     "data": {
      "image/png": "[encoded data removed]",
      "text/plain": [
       "<Figure size 576x576 with 1 Axes>"
      ]
     },
     "metadata": {
      "needs_background": "light"
     },
     "output_type": "display_data"
    }
   ],
   "source": [
    "import pyro.distributions as dist\n",
    "from pyro_extras import MixtureDistribution\n",
    "from sklearn.decomposition import PCA\n",
    "\n",
    "n_prior_samples = 5_000\n",
    "\n",
    "with torch.no_grad():\n",
    "    xi_posterior = fsd_model.get_sorted_fsd_xi(fsd_model.fsd_xi_posterior_loc_gq).detach().cpu().numpy()\n",
    "    \n",
    "#     fsd_xi_prior_locs = fsd_model.get_sorted_fsd_xi(pyro.param(\"fsd_xi_prior_locs_kq\"))\n",
    "#     fsd_xi_prior_scales = pyro.param(\"fsd_xi_prior_scales_kq\")\n",
    "#     fsd_xi_prior_dist = model._get_fsd_xi_prior_dist(fsd_xi_prior_locs, fsd_xi_prior_scales)\n",
    "#     xi_prior = fsd_xi_prior_dist.sample((n_prior_samples,)).cpu().numpy()\n",
    "    \n",
    "\n",
    "pca = PCA(n_components=2)\n",
    "xi_prior_pca_fit = pca.fit(xi_posterior)\n",
    "# xi_prior_pca = xi_prior_pca_fit.transform(xi_prior)\n",
    "xi_posterior_pca = xi_prior_pca_fit.transform(xi_posterior)\n",
    "# xi_prior_locs_pca = xi_prior_pca_fit.transform(pyro.param(\"fsd_xi_prior_locs_kq\").detach().cpu().numpy())\n",
    "\n",
    "\n",
    "fig = plt.figure(figsize=(8, 8))\n",
    "# plt.scatter(xi_prior_pca[:, 0], xi_prior_pca[:, 1], alpha=0.5, s=1)\n",
    "plt.scatter(xi_posterior_pca[:, 0], xi_posterior_pca[:, 1], alpha=0.1, s=2, color='red')\n",
    "# for j in range(model.fsd_gmm_num_components):\n",
    "#     plt.scatter(xi_prior_locs_pca[j, 0], xi_prior_locs_pca[j, 1], s=30, marker='o', label=str(j))\n",
    "#     plt.text(xi_prior_locs_pca[j, 0], xi_prior_locs_pca[j, 1], str(j), color='cyan', size=12)\n",
    "# plt.legend()\n"
   ]
  },
  {
   "cell_type": "code",
   "execution_count": 610,
   "metadata": {},
   "outputs": [
    {
     "data": {
      "text/plain": [
       "Parameter containing:\n",
       "tensor([[ 0.8451,  0.0078],\n",
       "        [ 0.7461, -0.0100],\n",
       "        [ 0.1684,  0.0276],\n",
       "        ...,\n",
       "        [-0.0246, -0.0252],\n",
       "        [ 0.0863, -0.0862],\n",
       "        [ 1.7620, -0.0034]], device='cuda:0', requires_grad=True)"
      ]
     },
     "execution_count": 610,
     "metadata": {},
     "output_type": "execute_result"
    }
   ],
   "source": [
    "fsd_model.fsd_latent_posterior_loc_gl"
   ]
  },
  {
   "cell_type": "code",
   "execution_count": 611,
   "metadata": {},
   "outputs": [],
   "source": [
    "# n_steps = 20\n",
    "# idx_0 = 1\n",
    "# idx_1 = 0\n",
    "\n",
    "# with torch.no_grad():\n",
    "#     fsd_model.gplvm.set_mode(\"guide\")\n",
    "#     fsd_model.gplvm.set_data(X=fsd_model.fsd_latent_posterior_loc_gl.detach().clone(), y=None)\n",
    "#     u = torch.zeros((n_steps, 2), device=device, dtype=dtype)\n",
    "#     u[:, idx_0] = torch.linspace(-1, 1, steps=n_steps)\n",
    "#     u[:, idx_1] = 0.\n",
    "#     xi, _ = fsd_model.gplvm.forward(u)\n",
    "#     fsd_params_dict = fsd_model.decode(xi.permute(-1, -2))\n",
    "\n",
    "# dist_lo, dist_hi = fsd_model.get_fsd_components(fsd_params_dict)\n",
    "# p_lo = dist_lo.log_prob(torch.arange(0, sc_fingerprint_dtm.max_family_size + 1).float().cuda()).detach().cpu().exp().numpy()\n",
    "# p_hi = dist_hi.log_prob(torch.arange(0, sc_fingerprint_dtm.max_family_size + 1).float().cuda()).detach().cpu().exp().numpy()\n",
    "\n",
    "# fig = plt.figure()\n",
    "# for i in range(n_steps):\n",
    "#     plt.plot(p_hi[i, :], alpha=0.1, color='black')\n",
    "\n",
    "# fig = plt.figure()\n",
    "# for i in range(n_steps):\n",
    "#     plt.plot(p_lo[i, :], alpha=0.1, color='black')"
   ]
  },
  {
   "cell_type": "code",
   "execution_count": 94,
   "metadata": {},
   "outputs": [
    {
     "data": {
      "image/png": "[encoded data removed]",
      "text/plain": [
       "<Figure size 288x288 with 1 Axes>"
      ]
     },
     "metadata": {
      "needs_background": "light"
     },
     "output_type": "display_data"
    },
    {
     "data": {
      "image/png": "[encoded data removed]",
      "text/plain": [
       "<Figure size 288x288 with 1 Axes>"
      ]
     },
     "metadata": {
      "needs_background": "light"
     },
     "output_type": "display_data"
    }
   ],
   "source": [
    "n_steps = 50\n",
    "\n",
    "idx_0 = 0\n",
    "idx_1 = 1\n",
    "\n",
    "with torch.no_grad():\n",
    "    fsd_model.gplvm.set_mode(\"guide\")\n",
    "    fsd_model.gplvm.set_data(X=fsd_model.fsd_latent_posterior_loc_gl.detach().clone(), y=None)\n",
    "    u = torch.zeros((n_steps, 2), device=device, dtype=dtype)\n",
    "    u[:, idx_0] = torch.linspace(-3, 2, steps=n_steps)\n",
    "    u[:, idx_1] = 0\n",
    "    xi, _ = fsd_model.gplvm.forward(u)\n",
    "    fsd_params_dict = fsd_model.decode(xi.permute(-1, -2))\n",
    "\n",
    "dist_lo, dist_hi = fsd_model.get_fsd_components(fsd_params_dict)\n",
    "p_lo = dist_lo.log_prob(torch.arange(0, sc_fingerprint_dtm.max_family_size + 1).float().cuda()).detach().cpu().exp().numpy()\n",
    "p_hi = dist_hi.log_prob(torch.arange(0, sc_fingerprint_dtm.max_family_size + 1).float().cuda()).detach().cpu().exp().numpy()\n",
    "\n",
    "fig = plt.figure(figsize=(4, 4))\n",
    "for i in range(n_steps):\n",
    "    plt.plot(p_hi[i, :], alpha=0.1, color='black')\n",
    "plt.xlabel('Family Size', fontsize=16)\n",
    "plt.ylabel('PMF', fontsize=16)\n",
    "plt.xlim((-1, 40))\n",
    "plt.tight_layout()\n",
    "plt.savefig('/home/jupyter/CellBender/proto/chimera/notebooks/figures/pbmc4k_fsd_sweep_hi.pdf')\n",
    "\n",
    "fig = plt.figure(figsize=(4, 4))\n",
    "for i in range(n_steps):\n",
    "    plt.plot(p_lo[i, :], alpha=0.1, color='black')\n",
    "plt.xlabel('Family Size', fontsize=16)\n",
    "plt.ylabel('PMF', fontsize=16)\n",
    "plt.xlim((-0.2, 5))\n",
    "plt.tight_layout()\n",
    "plt.savefig('/home/jupyter/CellBender/proto/chimera/notebooks/figures/pbmc4k_fsd_sweep_lo.pdf')"
   ]
  },
  {
   "cell_type": "markdown",
   "metadata": {},
   "source": [
    "## Save Model"
   ]
  },
  {
   "cell_type": "code",
   "execution_count": 614,
   "metadata": {},
   "outputs": [],
   "source": [
    "model_output_path = os.path.join(\n",
    "    output_path,\n",
    "    f\"{dataset_name}_{sc_fingerprint_dtm.n_genes}_genes_marginalized.pyro\")\n",
    "pyro.get_param_store().save(model_output_path)"
   ]
  },
  {
   "cell_type": "markdown",
   "metadata": {},
   "source": [
    "## Extract and save gene expression posterior"
   ]
  },
  {
   "cell_type": "code",
   "execution_count": 615,
   "metadata": {},
   "outputs": [],
   "source": [
    "sampler = PosteriorGeneExpressionSampler(dtm, device, dtype)\n",
    "\n",
    "run_mode = 'full'\n",
    "only_expressing_cells = False\n",
    "\n",
    "n_proposals_omega = 30\n",
    "n_particles_omega = 10\n",
    "n_particles_cell = 10\n",
    "n_particles_expression = 20\n",
    "log_frequency = 50\n",
    "\n",
    "def get_init_cell_shard_size(gene_index):\n",
    "    if gene_index < 200:\n",
    "        return 50\n",
    "    else:\n",
    "        return 5000\n",
    "    \n",
    "suffix = ''\n",
    "if run_mode == 'only_observed':\n",
    "    suffix = 'only_observed'\n",
    "elif run_mode == 'full':\n",
    "    suffix = 'full'"
   ]
  },
  {
   "cell_type": "code",
   "execution_count": 616,
   "metadata": {},
   "outputs": [
    {
     "name": "stderr",
     "output_type": "stream",
     "text": [
      "WARNING:root:Processing gene 51/17852 (2.77 s/gene)...\n",
      "WARNING:root:Processing gene 101/17852 (2.38 s/gene)...\n",
      "WARNING:root:Processing gene 151/17852 (2.28 s/gene)...\n",
      "WARNING:root:Processing gene 201/17852 (2.21 s/gene)...\n",
      "WARNING:root:Processing gene 251/17852 (0.36 s/gene)...\n",
      "WARNING:root:Processing gene 301/17852 (0.35 s/gene)...\n",
      "WARNING:root:Processing gene 351/17852 (0.34 s/gene)...\n",
      "WARNING:root:Processing gene 401/17852 (0.34 s/gene)...\n",
      "WARNING:root:Processing gene 451/17852 (0.34 s/gene)...\n",
      "WARNING:root:Processing gene 501/17852 (0.34 s/gene)...\n",
      "WARNING:root:Processing gene 551/17852 (0.34 s/gene)...\n",
      "WARNING:root:Processing gene 601/17852 (0.34 s/gene)...\n",
      "WARNING:root:Processing gene 651/17852 (0.34 s/gene)...\n",
      "WARNING:root:Processing gene 701/17852 (0.33 s/gene)...\n",
      "WARNING:root:Processing gene 751/17852 (0.34 s/gene)...\n",
      "WARNING:root:Processing gene 801/17852 (0.34 s/gene)...\n",
      "WARNING:root:Processing gene 851/17852 (0.34 s/gene)...\n",
      "WARNING:root:Processing gene 901/17852 (0.33 s/gene)...\n",
      "WARNING:root:Processing gene 951/17852 (0.34 s/gene)...\n",
      "WARNING:root:Processing gene 1001/17852 (0.33 s/gene)...\n",
      "WARNING:root:Processing gene 1051/17852 (0.33 s/gene)...\n",
      "WARNING:root:Processing gene 1101/17852 (0.33 s/gene)...\n",
      "WARNING:root:Processing gene 1151/17852 (0.33 s/gene)...\n",
      "WARNING:root:Processing gene 1201/17852 (0.33 s/gene)...\n",
      "WARNING:root:Processing gene 1251/17852 (0.33 s/gene)...\n",
      "WARNING:root:Processing gene 1301/17852 (0.33 s/gene)...\n",
      "WARNING:root:Processing gene 1351/17852 (0.33 s/gene)...\n",
      "WARNING:root:Processing gene 1401/17852 (0.33 s/gene)...\n",
      "WARNING:root:Processing gene 1451/17852 (0.33 s/gene)...\n",
      "WARNING:root:Processing gene 1501/17852 (0.33 s/gene)...\n",
      "WARNING:root:Processing gene 1551/17852 (0.33 s/gene)...\n",
      "WARNING:root:Processing gene 1601/17852 (0.33 s/gene)...\n",
      "WARNING:root:Processing gene 1651/17852 (0.33 s/gene)...\n",
      "WARNING:root:Processing gene 1701/17852 (0.33 s/gene)...\n",
      "WARNING:root:Processing gene 1751/17852 (0.33 s/gene)...\n",
      "WARNING:root:Processing gene 1801/17852 (0.33 s/gene)...\n",
      "WARNING:root:Processing gene 1851/17852 (0.34 s/gene)...\n",
      "WARNING:root:Processing gene 1901/17852 (0.33 s/gene)...\n",
      "WARNING:root:Processing gene 1951/17852 (0.33 s/gene)...\n",
      "WARNING:root:Processing gene 2001/17852 (0.33 s/gene)...\n",
      "WARNING:root:Processing gene 2051/17852 (0.33 s/gene)...\n",
      "WARNING:root:Processing gene 2101/17852 (0.33 s/gene)...\n",
      "WARNING:root:Processing gene 2151/17852 (0.33 s/gene)...\n",
      "WARNING:root:Processing gene 2201/17852 (0.33 s/gene)...\n",
      "WARNING:root:Processing gene 2251/17852 (0.33 s/gene)...\n",
      "WARNING:root:Processing gene 2301/17852 (0.33 s/gene)...\n",
      "WARNING:root:Processing gene 2351/17852 (0.33 s/gene)...\n",
      "WARNING:root:Processing gene 2401/17852 (0.34 s/gene)...\n",
      "WARNING:root:Processing gene 2451/17852 (0.33 s/gene)...\n",
      "WARNING:root:Processing gene 2501/17852 (0.33 s/gene)...\n",
      "WARNING:root:Processing gene 2551/17852 (0.33 s/gene)...\n",
      "WARNING:root:Processing gene 2601/17852 (0.33 s/gene)...\n",
      "WARNING:root:Processing gene 2651/17852 (0.33 s/gene)...\n",
      "WARNING:root:Processing gene 2701/17852 (0.33 s/gene)...\n",
      "WARNING:root:Processing gene 2751/17852 (0.33 s/gene)...\n",
      "WARNING:root:Processing gene 2801/17852 (0.33 s/gene)...\n",
      "WARNING:root:Processing gene 2851/17852 (0.33 s/gene)...\n",
      "WARNING:root:Processing gene 2901/17852 (0.33 s/gene)...\n",
      "WARNING:root:Processing gene 2951/17852 (0.33 s/gene)...\n",
      "WARNING:root:Processing gene 3001/17852 (0.33 s/gene)...\n",
      "WARNING:root:Processing gene 3051/17852 (0.33 s/gene)...\n",
      "WARNING:root:Processing gene 3101/17852 (0.33 s/gene)...\n",
      "WARNING:root:Processing gene 3151/17852 (0.33 s/gene)...\n",
      "WARNING:root:Processing gene 3201/17852 (0.33 s/gene)...\n",
      "WARNING:root:Processing gene 3251/17852 (0.33 s/gene)...\n",
      "WARNING:root:Processing gene 3301/17852 (0.33 s/gene)...\n",
      "WARNING:root:Processing gene 3351/17852 (0.33 s/gene)...\n",
      "WARNING:root:Processing gene 3401/17852 (0.33 s/gene)...\n",
      "WARNING:root:Processing gene 3451/17852 (0.33 s/gene)...\n",
      "WARNING:root:Processing gene 3501/17852 (0.33 s/gene)...\n",
      "WARNING:root:Processing gene 3551/17852 (0.33 s/gene)...\n",
      "WARNING:root:Processing gene 3601/17852 (0.33 s/gene)...\n",
      "WARNING:root:Processing gene 3651/17852 (0.33 s/gene)...\n",
      "WARNING:root:Processing gene 3701/17852 (0.33 s/gene)...\n",
      "WARNING:root:Processing gene 3751/17852 (0.33 s/gene)...\n",
      "WARNING:root:Processing gene 3801/17852 (0.33 s/gene)...\n",
      "WARNING:root:Processing gene 3851/17852 (0.33 s/gene)...\n",
      "WARNING:root:Processing gene 3901/17852 (0.33 s/gene)...\n",
      "WARNING:root:Processing gene 3951/17852 (0.33 s/gene)...\n",
      "WARNING:root:Processing gene 4001/17852 (0.33 s/gene)...\n",
      "WARNING:root:Processing gene 4051/17852 (0.33 s/gene)...\n",
      "WARNING:root:Processing gene 4101/17852 (0.33 s/gene)...\n",
      "WARNING:root:Processing gene 4151/17852 (0.33 s/gene)...\n",
      "WARNING:root:Processing gene 4201/17852 (0.33 s/gene)...\n",
      "WARNING:root:Processing gene 4251/17852 (0.33 s/gene)...\n",
      "WARNING:root:Processing gene 4301/17852 (0.33 s/gene)...\n",
      "WARNING:root:Processing gene 4351/17852 (0.33 s/gene)...\n",
      "WARNING:root:Processing gene 4401/17852 (0.33 s/gene)...\n",
      "WARNING:root:Processing gene 4451/17852 (0.33 s/gene)...\n",
      "WARNING:root:Processing gene 4501/17852 (0.33 s/gene)...\n",
      "WARNING:root:Processing gene 4551/17852 (0.33 s/gene)...\n",
      "WARNING:root:Processing gene 4601/17852 (0.33 s/gene)...\n",
      "WARNING:root:Processing gene 4651/17852 (0.33 s/gene)...\n",
      "WARNING:root:Processing gene 4701/17852 (0.33 s/gene)...\n",
      "WARNING:root:Processing gene 4751/17852 (0.33 s/gene)...\n",
      "WARNING:root:Processing gene 4801/17852 (0.33 s/gene)...\n",
      "WARNING:root:Processing gene 4851/17852 (0.33 s/gene)...\n",
      "WARNING:root:Processing gene 4901/17852 (0.33 s/gene)...\n",
      "WARNING:root:Processing gene 4951/17852 (0.33 s/gene)...\n",
      "WARNING:root:Processing gene 5001/17852 (0.33 s/gene)...\n",
      "WARNING:root:Processing gene 5051/17852 (0.33 s/gene)...\n",
      "WARNING:root:Processing gene 5101/17852 (0.33 s/gene)...\n",
      "WARNING:root:Processing gene 5151/17852 (0.33 s/gene)...\n",
      "WARNING:root:Processing gene 5201/17852 (0.33 s/gene)...\n",
      "WARNING:root:Processing gene 5251/17852 (0.33 s/gene)...\n",
      "WARNING:root:Processing gene 5301/17852 (0.33 s/gene)...\n",
      "WARNING:root:Processing gene 5351/17852 (0.33 s/gene)...\n",
      "WARNING:root:Processing gene 5401/17852 (0.33 s/gene)...\n",
      "WARNING:root:Processing gene 5451/17852 (0.33 s/gene)...\n",
      "WARNING:root:Processing gene 5501/17852 (0.33 s/gene)...\n",
      "WARNING:root:Processing gene 5551/17852 (0.33 s/gene)...\n",
      "WARNING:root:Processing gene 5601/17852 (0.33 s/gene)...\n",
      "WARNING:root:Processing gene 5651/17852 (0.33 s/gene)...\n",
      "WARNING:root:Processing gene 5701/17852 (0.33 s/gene)...\n",
      "WARNING:root:Processing gene 5751/17852 (0.33 s/gene)...\n",
      "WARNING:root:Processing gene 5801/17852 (0.33 s/gene)...\n",
      "WARNING:root:Processing gene 5851/17852 (0.33 s/gene)...\n",
      "WARNING:root:Processing gene 5901/17852 (0.33 s/gene)...\n",
      "WARNING:root:Processing gene 5951/17852 (0.33 s/gene)...\n",
      "WARNING:root:Processing gene 6001/17852 (0.33 s/gene)...\n",
      "WARNING:root:Processing gene 6051/17852 (0.33 s/gene)...\n",
      "WARNING:root:Processing gene 6101/17852 (0.33 s/gene)...\n",
      "WARNING:root:Processing gene 6151/17852 (0.33 s/gene)...\n",
      "WARNING:root:Processing gene 6201/17852 (0.33 s/gene)...\n",
      "WARNING:root:Processing gene 6251/17852 (0.33 s/gene)...\n",
      "WARNING:root:Processing gene 6301/17852 (0.33 s/gene)...\n",
      "WARNING:root:Processing gene 6351/17852 (0.33 s/gene)...\n",
      "WARNING:root:Processing gene 6401/17852 (0.33 s/gene)...\n",
      "WARNING:root:Processing gene 6451/17852 (0.33 s/gene)...\n",
      "WARNING:root:Processing gene 6501/17852 (0.33 s/gene)...\n",
      "WARNING:root:Processing gene 6551/17852 (0.33 s/gene)...\n",
      "WARNING:root:Processing gene 6601/17852 (0.33 s/gene)...\n",
      "WARNING:root:Processing gene 6651/17852 (0.33 s/gene)...\n",
      "WARNING:root:Processing gene 6701/17852 (0.33 s/gene)...\n",
      "WARNING:root:Processing gene 6751/17852 (0.33 s/gene)...\n",
      "WARNING:root:Processing gene 6801/17852 (0.33 s/gene)...\n",
      "WARNING:root:Processing gene 6851/17852 (0.33 s/gene)...\n",
      "WARNING:root:Processing gene 6901/17852 (0.33 s/gene)...\n",
      "WARNING:root:Processing gene 6951/17852 (0.33 s/gene)...\n",
      "WARNING:root:Processing gene 7001/17852 (0.33 s/gene)...\n",
      "WARNING:root:Processing gene 7051/17852 (0.33 s/gene)...\n",
      "WARNING:root:Processing gene 7101/17852 (0.33 s/gene)...\n",
      "WARNING:root:Processing gene 7151/17852 (0.33 s/gene)...\n",
      "WARNING:root:Processing gene 7201/17852 (0.33 s/gene)...\n",
      "WARNING:root:Processing gene 7251/17852 (0.33 s/gene)...\n",
      "WARNING:root:Processing gene 7301/17852 (0.33 s/gene)...\n",
      "WARNING:root:Processing gene 7351/17852 (0.33 s/gene)...\n",
      "WARNING:root:Processing gene 7401/17852 (0.33 s/gene)...\n",
      "WARNING:root:Processing gene 7451/17852 (0.33 s/gene)...\n",
      "WARNING:root:Processing gene 7501/17852 (0.33 s/gene)...\n",
      "WARNING:root:Processing gene 7551/17852 (0.33 s/gene)...\n",
      "WARNING:root:Processing gene 7601/17852 (0.33 s/gene)...\n",
      "WARNING:root:Processing gene 7651/17852 (0.33 s/gene)...\n",
      "WARNING:root:Processing gene 7701/17852 (0.33 s/gene)...\n",
      "WARNING:root:Processing gene 7751/17852 (0.33 s/gene)...\n",
      "WARNING:root:Processing gene 7801/17852 (0.33 s/gene)...\n",
      "WARNING:root:Processing gene 7851/17852 (0.33 s/gene)...\n",
      "WARNING:root:Processing gene 7901/17852 (0.33 s/gene)...\n",
      "WARNING:root:Processing gene 7951/17852 (0.33 s/gene)...\n",
      "WARNING:root:Processing gene 8001/17852 (0.33 s/gene)...\n",
      "WARNING:root:Processing gene 8051/17852 (0.33 s/gene)...\n",
      "WARNING:root:Processing gene 8101/17852 (0.33 s/gene)...\n",
      "WARNING:root:Processing gene 8151/17852 (0.33 s/gene)...\n",
      "WARNING:root:Processing gene 8201/17852 (0.33 s/gene)...\n",
      "WARNING:root:Processing gene 8251/17852 (0.33 s/gene)...\n",
      "WARNING:root:Processing gene 8301/17852 (0.33 s/gene)...\n",
      "WARNING:root:Processing gene 8351/17852 (0.33 s/gene)...\n",
      "WARNING:root:Processing gene 8401/17852 (0.33 s/gene)...\n",
      "WARNING:root:Processing gene 8451/17852 (0.33 s/gene)...\n",
      "WARNING:root:Processing gene 8501/17852 (0.33 s/gene)...\n",
      "WARNING:root:Processing gene 8551/17852 (0.33 s/gene)...\n",
      "WARNING:root:Processing gene 8601/17852 (0.33 s/gene)...\n",
      "WARNING:root:Processing gene 8651/17852 (0.33 s/gene)...\n",
      "WARNING:root:Processing gene 8701/17852 (0.33 s/gene)...\n",
      "WARNING:root:Processing gene 8751/17852 (0.33 s/gene)...\n",
      "WARNING:root:Processing gene 8801/17852 (0.33 s/gene)...\n",
      "WARNING:root:Processing gene 8851/17852 (0.33 s/gene)...\n",
      "WARNING:root:Processing gene 8901/17852 (0.33 s/gene)...\n",
      "WARNING:root:Processing gene 8951/17852 (0.33 s/gene)...\n",
      "WARNING:root:Processing gene 9001/17852 (0.33 s/gene)...\n",
      "WARNING:root:Processing gene 9051/17852 (0.33 s/gene)...\n",
      "WARNING:root:Processing gene 9101/17852 (0.33 s/gene)...\n",
      "WARNING:root:Processing gene 9151/17852 (0.33 s/gene)...\n",
      "WARNING:root:Processing gene 9201/17852 (0.33 s/gene)...\n",
      "WARNING:root:Processing gene 9251/17852 (0.33 s/gene)...\n",
      "WARNING:root:Processing gene 9301/17852 (0.33 s/gene)...\n",
      "WARNING:root:Processing gene 9351/17852 (0.33 s/gene)...\n",
      "WARNING:root:Processing gene 9401/17852 (0.33 s/gene)...\n",
      "WARNING:root:Processing gene 9451/17852 (0.33 s/gene)...\n",
      "WARNING:root:Processing gene 9501/17852 (0.33 s/gene)...\n",
      "WARNING:root:Processing gene 9551/17852 (0.33 s/gene)...\n",
      "WARNING:root:Processing gene 9601/17852 (0.33 s/gene)...\n",
      "WARNING:root:Processing gene 9651/17852 (0.33 s/gene)...\n",
      "WARNING:root:Processing gene 9701/17852 (0.33 s/gene)...\n",
      "WARNING:root:Processing gene 9751/17852 (0.33 s/gene)...\n",
      "WARNING:root:Processing gene 9801/17852 (0.33 s/gene)...\n",
      "WARNING:root:Processing gene 9851/17852 (0.33 s/gene)...\n",
      "WARNING:root:Processing gene 9901/17852 (0.33 s/gene)...\n",
      "WARNING:root:Processing gene 9951/17852 (0.33 s/gene)...\n",
      "WARNING:root:Processing gene 10001/17852 (0.33 s/gene)...\n",
      "WARNING:root:Processing gene 10051/17852 (0.33 s/gene)...\n",
      "WARNING:root:Processing gene 10101/17852 (0.33 s/gene)...\n",
      "WARNING:root:Processing gene 10151/17852 (0.33 s/gene)...\n",
      "WARNING:root:Processing gene 10201/17852 (0.33 s/gene)...\n",
      "WARNING:root:Processing gene 10251/17852 (0.33 s/gene)...\n",
      "WARNING:root:Processing gene 10301/17852 (0.33 s/gene)...\n",
      "WARNING:root:Processing gene 10351/17852 (0.33 s/gene)...\n",
      "WARNING:root:Processing gene 10401/17852 (0.33 s/gene)...\n",
      "WARNING:root:Processing gene 10451/17852 (0.33 s/gene)...\n",
      "WARNING:root:Processing gene 10501/17852 (0.33 s/gene)...\n",
      "WARNING:root:Processing gene 10551/17852 (0.33 s/gene)...\n",
      "WARNING:root:Processing gene 10601/17852 (0.33 s/gene)...\n",
      "WARNING:root:Processing gene 10651/17852 (0.33 s/gene)...\n",
      "WARNING:root:Processing gene 10701/17852 (0.33 s/gene)...\n",
      "WARNING:root:Processing gene 10751/17852 (0.33 s/gene)...\n",
      "WARNING:root:Processing gene 10801/17852 (0.33 s/gene)...\n",
      "WARNING:root:Processing gene 10851/17852 (0.33 s/gene)...\n",
      "WARNING:root:Processing gene 10901/17852 (0.33 s/gene)...\n",
      "WARNING:root:Processing gene 10951/17852 (0.33 s/gene)...\n",
      "WARNING:root:Processing gene 11001/17852 (0.33 s/gene)...\n",
      "WARNING:root:Processing gene 11051/17852 (0.33 s/gene)...\n",
      "WARNING:root:Processing gene 11101/17852 (0.33 s/gene)...\n",
      "WARNING:root:Processing gene 11151/17852 (0.33 s/gene)...\n",
      "WARNING:root:Processing gene 11201/17852 (0.33 s/gene)...\n",
      "WARNING:root:Processing gene 11251/17852 (0.33 s/gene)...\n",
      "WARNING:root:Processing gene 11301/17852 (0.33 s/gene)...\n",
      "WARNING:root:Processing gene 11351/17852 (0.33 s/gene)...\n",
      "WARNING:root:Processing gene 11401/17852 (0.33 s/gene)...\n",
      "WARNING:root:Processing gene 11451/17852 (0.33 s/gene)...\n",
      "WARNING:root:Processing gene 11501/17852 (0.33 s/gene)...\n",
      "WARNING:root:Processing gene 11551/17852 (0.33 s/gene)...\n",
      "WARNING:root:Processing gene 11601/17852 (0.33 s/gene)...\n",
      "WARNING:root:Processing gene 11651/17852 (0.33 s/gene)...\n",
      "WARNING:root:Processing gene 11701/17852 (0.33 s/gene)...\n",
      "WARNING:root:Processing gene 11751/17852 (0.33 s/gene)...\n",
      "WARNING:root:Processing gene 11801/17852 (0.33 s/gene)...\n",
      "WARNING:root:Processing gene 11851/17852 (0.33 s/gene)...\n",
      "WARNING:root:Processing gene 11901/17852 (0.33 s/gene)...\n",
      "WARNING:root:Processing gene 11951/17852 (0.33 s/gene)...\n",
      "WARNING:root:Processing gene 12001/17852 (0.33 s/gene)...\n",
      "WARNING:root:Processing gene 12051/17852 (0.33 s/gene)...\n",
      "WARNING:root:Processing gene 12101/17852 (0.33 s/gene)...\n",
      "WARNING:root:Processing gene 12151/17852 (0.33 s/gene)...\n",
      "WARNING:root:Processing gene 12201/17852 (0.33 s/gene)...\n",
      "WARNING:root:Processing gene 12251/17852 (0.33 s/gene)...\n",
      "WARNING:root:Processing gene 12301/17852 (0.33 s/gene)...\n",
      "WARNING:root:Processing gene 12351/17852 (0.33 s/gene)...\n",
      "WARNING:root:Processing gene 12401/17852 (0.34 s/gene)...\n",
      "WARNING:root:Processing gene 12451/17852 (0.33 s/gene)...\n",
      "WARNING:root:Processing gene 12501/17852 (0.33 s/gene)...\n",
      "WARNING:root:Processing gene 12551/17852 (0.33 s/gene)...\n",
      "WARNING:root:Processing gene 12601/17852 (0.33 s/gene)...\n",
      "WARNING:root:Processing gene 12651/17852 (0.33 s/gene)...\n",
      "WARNING:root:Processing gene 12701/17852 (0.33 s/gene)...\n",
      "WARNING:root:Processing gene 12751/17852 (0.33 s/gene)...\n",
      "WARNING:root:Processing gene 12801/17852 (0.33 s/gene)...\n",
      "WARNING:root:Processing gene 12851/17852 (0.33 s/gene)...\n",
      "WARNING:root:Processing gene 12901/17852 (0.33 s/gene)...\n",
      "WARNING:root:Processing gene 12951/17852 (0.33 s/gene)...\n",
      "WARNING:root:Processing gene 13001/17852 (0.33 s/gene)...\n",
      "WARNING:root:Processing gene 13051/17852 (0.34 s/gene)...\n",
      "WARNING:root:Processing gene 13101/17852 (0.33 s/gene)...\n",
      "WARNING:root:Processing gene 13151/17852 (0.33 s/gene)...\n",
      "WARNING:root:Processing gene 13201/17852 (0.33 s/gene)...\n",
      "WARNING:root:Processing gene 13251/17852 (0.33 s/gene)...\n",
      "WARNING:root:Processing gene 13301/17852 (0.33 s/gene)...\n",
      "WARNING:root:Processing gene 13351/17852 (0.33 s/gene)...\n",
      "WARNING:root:Processing gene 13401/17852 (0.33 s/gene)...\n",
      "WARNING:root:Processing gene 13451/17852 (0.33 s/gene)...\n",
      "WARNING:root:Processing gene 13501/17852 (0.33 s/gene)...\n",
      "WARNING:root:Processing gene 13551/17852 (0.33 s/gene)...\n",
      "WARNING:root:Processing gene 13601/17852 (0.33 s/gene)...\n",
      "WARNING:root:Processing gene 13651/17852 (0.33 s/gene)...\n",
      "WARNING:root:Processing gene 13701/17852 (0.33 s/gene)...\n",
      "WARNING:root:Processing gene 13751/17852 (0.33 s/gene)...\n",
      "WARNING:root:Processing gene 13801/17852 (0.33 s/gene)...\n",
      "WARNING:root:Processing gene 13851/17852 (0.34 s/gene)...\n",
      "WARNING:root:Processing gene 13901/17852 (0.33 s/gene)...\n",
      "WARNING:root:Processing gene 13951/17852 (0.33 s/gene)...\n",
      "WARNING:root:Processing gene 14001/17852 (0.33 s/gene)...\n",
      "WARNING:root:Processing gene 14051/17852 (0.33 s/gene)...\n",
      "WARNING:root:Processing gene 14101/17852 (0.34 s/gene)...\n",
      "WARNING:root:Processing gene 14151/17852 (0.33 s/gene)...\n",
      "WARNING:root:Processing gene 14201/17852 (0.33 s/gene)...\n",
      "WARNING:root:Processing gene 14251/17852 (0.33 s/gene)...\n",
      "WARNING:root:Processing gene 14301/17852 (0.33 s/gene)...\n",
      "WARNING:root:Processing gene 14351/17852 (0.34 s/gene)...\n",
      "WARNING:root:Processing gene 14401/17852 (0.33 s/gene)...\n",
      "WARNING:root:Processing gene 14451/17852 (0.34 s/gene)...\n",
      "WARNING:root:Processing gene 14501/17852 (0.33 s/gene)...\n",
      "WARNING:root:Processing gene 14551/17852 (0.33 s/gene)...\n",
      "WARNING:root:Processing gene 14601/17852 (0.33 s/gene)...\n",
      "WARNING:root:Processing gene 14651/17852 (0.33 s/gene)...\n",
      "WARNING:root:Processing gene 14701/17852 (0.33 s/gene)...\n",
      "WARNING:root:Processing gene 14751/17852 (0.33 s/gene)...\n",
      "WARNING:root:Processing gene 14801/17852 (0.33 s/gene)...\n",
      "WARNING:root:Processing gene 14851/17852 (0.33 s/gene)...\n",
      "WARNING:root:Processing gene 14901/17852 (0.33 s/gene)...\n",
      "WARNING:root:Processing gene 14951/17852 (0.34 s/gene)...\n",
      "WARNING:root:Processing gene 15001/17852 (0.34 s/gene)...\n",
      "WARNING:root:Processing gene 15051/17852 (0.34 s/gene)...\n",
      "WARNING:root:Processing gene 15101/17852 (0.33 s/gene)...\n",
      "WARNING:root:Processing gene 15151/17852 (0.33 s/gene)...\n",
      "WARNING:root:Processing gene 15201/17852 (0.33 s/gene)...\n",
      "WARNING:root:Processing gene 15251/17852 (0.33 s/gene)...\n",
      "WARNING:root:Processing gene 15301/17852 (0.33 s/gene)...\n",
      "WARNING:root:Processing gene 15351/17852 (0.33 s/gene)...\n",
      "WARNING:root:Processing gene 15401/17852 (0.33 s/gene)...\n",
      "WARNING:root:Processing gene 15451/17852 (0.34 s/gene)...\n",
      "WARNING:root:Processing gene 15501/17852 (0.33 s/gene)...\n",
      "WARNING:root:Processing gene 15551/17852 (0.33 s/gene)...\n",
      "WARNING:root:Processing gene 15601/17852 (0.33 s/gene)...\n",
      "WARNING:root:Processing gene 15651/17852 (0.33 s/gene)...\n",
      "WARNING:root:Processing gene 15701/17852 (0.33 s/gene)...\n",
      "WARNING:root:Processing gene 15751/17852 (0.33 s/gene)...\n",
      "WARNING:root:Processing gene 15801/17852 (0.34 s/gene)...\n",
      "WARNING:root:Processing gene 15851/17852 (0.34 s/gene)...\n",
      "WARNING:root:Processing gene 15901/17852 (0.34 s/gene)...\n",
      "WARNING:root:Processing gene 15951/17852 (0.33 s/gene)...\n",
      "WARNING:root:Processing gene 16001/17852 (0.34 s/gene)...\n",
      "WARNING:root:Processing gene 16051/17852 (0.34 s/gene)...\n",
      "WARNING:root:Processing gene 16101/17852 (0.34 s/gene)...\n",
      "WARNING:root:Processing gene 16151/17852 (0.34 s/gene)...\n",
      "WARNING:root:Processing gene 16201/17852 (0.34 s/gene)...\n",
      "WARNING:root:Processing gene 16251/17852 (0.34 s/gene)...\n",
      "WARNING:root:Processing gene 16301/17852 (0.33 s/gene)...\n",
      "WARNING:root:Processing gene 16351/17852 (0.33 s/gene)...\n",
      "WARNING:root:Processing gene 16401/17852 (0.33 s/gene)...\n",
      "WARNING:root:Processing gene 16451/17852 (0.34 s/gene)...\n",
      "WARNING:root:Processing gene 16501/17852 (0.34 s/gene)...\n",
      "WARNING:root:Processing gene 16551/17852 (0.33 s/gene)...\n",
      "WARNING:root:Processing gene 16601/17852 (0.34 s/gene)...\n",
      "WARNING:root:Processing gene 16651/17852 (0.34 s/gene)...\n",
      "WARNING:root:Processing gene 16701/17852 (0.33 s/gene)...\n",
      "WARNING:root:Processing gene 16751/17852 (0.33 s/gene)...\n",
      "WARNING:root:Processing gene 16801/17852 (0.33 s/gene)...\n",
      "WARNING:root:Processing gene 16851/17852 (0.34 s/gene)...\n",
      "WARNING:root:Processing gene 16901/17852 (0.34 s/gene)...\n",
      "WARNING:root:Processing gene 16951/17852 (0.34 s/gene)...\n",
      "WARNING:root:Processing gene 17001/17852 (0.34 s/gene)...\n",
      "WARNING:root:Processing gene 17051/17852 (0.33 s/gene)...\n",
      "WARNING:root:Processing gene 17101/17852 (0.34 s/gene)...\n",
      "WARNING:root:Processing gene 17151/17852 (0.34 s/gene)...\n",
      "WARNING:root:Processing gene 17201/17852 (0.33 s/gene)...\n",
      "WARNING:root:Processing gene 17251/17852 (0.34 s/gene)...\n",
      "WARNING:root:Processing gene 17301/17852 (0.33 s/gene)...\n",
      "WARNING:root:Processing gene 17351/17852 (0.34 s/gene)...\n",
      "WARNING:root:Processing gene 17401/17852 (0.34 s/gene)...\n",
      "WARNING:root:Processing gene 17451/17852 (0.34 s/gene)...\n",
      "WARNING:root:Processing gene 17501/17852 (0.33 s/gene)...\n",
      "WARNING:root:Processing gene 17551/17852 (0.33 s/gene)...\n",
      "WARNING:root:Processing gene 17601/17852 (0.33 s/gene)...\n",
      "WARNING:root:Processing gene 17651/17852 (0.33 s/gene)...\n",
      "WARNING:root:Processing gene 17701/17852 (0.34 s/gene)...\n",
      "WARNING:root:Processing gene 17751/17852 (0.33 s/gene)...\n",
      "WARNING:root:Processing gene 17801/17852 (0.33 s/gene)...\n",
      "WARNING:root:Processing gene 17851/17852 (0.33 s/gene)...\n"
     ]
    }
   ],
   "source": [
    "e_hi_map = np.zeros((sc_fingerprint_dtm.n_cells, sc_fingerprint_dtm.n_genes), dtype=np.int)\n",
    "e_hi_mean = np.zeros((sc_fingerprint_dtm.n_cells, sc_fingerprint_dtm.n_genes), dtype=np.float32)\n",
    "e_hi_std = np.zeros((sc_fingerprint_dtm.n_cells, sc_fingerprint_dtm.n_genes), dtype=np.float32)\n",
    "\n",
    "t0 = time.time()\n",
    "\n",
    "for i_gene in range(sc_fingerprint_dtm.n_genes):\n",
    "#     expr_dict = sampler.get_gene_expression_posterior_moments_summary(\n",
    "#         gene_index=i_gene,\n",
    "#         n_particles_omega=n_particles_omega,\n",
    "#         n_particles_cell=n_particles_cell,\n",
    "#         cell_shard_size=cell_shard_size,\n",
    "#         run_mode=run_mode,\n",
    "#         only_expressing_cells=only_expressing_cells)\n",
    "    \n",
    "    adaptive_cell_shard_size = get_init_cell_shard_size(i_gene)\n",
    "    expr_dict = None\n",
    "    \n",
    "    while True:\n",
    "        try:\n",
    "            expr_dict = sampler.get_gene_expression_posterior_sampling_summary(\n",
    "                gene_index=i_gene,\n",
    "                n_proposals_omega=n_proposals_omega,\n",
    "                n_particles_omega=n_particles_omega,\n",
    "                n_particles_cell=n_particles_cell,\n",
    "                n_particles_expression=n_particles_expression,\n",
    "                cell_shard_size=adaptive_cell_shard_size,\n",
    "                run_mode=run_mode,\n",
    "                only_expressing_cells=only_expressing_cells)\n",
    "        except (RuntimeError, ValueError) as e:\n",
    "            print(e)\n",
    "            logging.warning(\"CUDA out of memory -- reducing cell shard size and retrying...\")\n",
    "            adaptive_cell_shard_size = int(np.ceil(adaptive_cell_shard_size / 2))\n",
    "        \n",
    "        if expr_dict is not None:\n",
    "            break\n",
    "            1\n",
    "        if adaptive_cell_shard_size == 1:\n",
    "            raise RuntimeError(\"Buy a better GPU!\")\n",
    "\n",
    "    e_hi_map[:, i_gene] = expr_dict['e_hi_map']\n",
    "    e_hi_mean[:, i_gene] = expr_dict['e_hi_mean']\n",
    "    e_hi_std[:, i_gene] = expr_dict['e_hi_std']\n",
    "    \n",
    "    if i_gene % log_frequency == 0 and i_gene > 0:\n",
    "        t1 = time.time()\n",
    "        seconds_per_gene = (t1 - t0) / log_frequency\n",
    "        t0 = t1\n",
    "        logging.warning(f'Processing gene {i_gene+1}/{sc_fingerprint_dtm.n_genes} ({seconds_per_gene:.2f} s/gene)...')\n",
    "\n",
    "# gene indices and cell barcodes\n",
    "original_gene_indices = np.asarray(sc_fingerprint_dtm.sc_fingerprint_base.gene_idx_list)\n",
    "cell_barcodes = np.asarray(sc_fingerprint_dtm.sc_fingerprint_base.barcode_list)\n",
    "\n",
    "# save\n",
    "np.save(os.path.join(output_path, f'e_hi_map__{suffix}.npy'), e_hi_map)\n",
    "np.save(os.path.join(output_path, f'e_hi_mean__{suffix}.npy'), e_hi_mean)\n",
    "np.save(os.path.join(output_path, f'e_hi_std__{suffix}.npy'), e_hi_std)\n",
    "np.save(os.path.join(output_path, 'gene_indices.npy'), original_gene_indices)\n",
    "np.save(os.path.join(output_path, 'cell_barcodes.npy'), cell_barcodes)"
   ]
  },
  {
   "cell_type": "code",
   "execution_count": null,
   "metadata": {},
   "outputs": [],
   "source": [
    "# single_gene_data = sampler._generate_single_gene_minibatch_data(\n",
    "#     gene_index=18848,\n",
    "#     cell_index_list=np.random.randint(\n",
    "#         low=0, high=sc_fingerprint_dtm.n_cells, size=n_fsd_posterior_samples),\n",
    "#     n_particles_cell=1)\n",
    "# ctx = sampler._get_trained_model_context(single_gene_data)\n",
    "# np.where(np.sum(e_hi_map, axis=0) == 0)\n",
    "\n",
    "# out2 = sampler.get_gene_expression_posterior_sampling_summary(\n",
    "#     gene_index=18848,\n",
    "#     n_proposals_omega=100,\n",
    "#     n_particles_omega=50,\n",
    "#     n_particles_cell=50,\n",
    "#     n_particles_expression=50,\n",
    "#     cell_shard_size=100,\n",
    "#     run_mode=run_mode,\n",
    "#     only_expressing_cells=True)\n",
    "\n",
    "# out = sampler.get_gene_expression_posterior_moments_summary(\n",
    "#     18848, 10, 10, 100, False, 'full')"
   ]
  },
  {
   "cell_type": "code",
   "execution_count": null,
   "metadata": {},
   "outputs": [],
   "source": [
    "from pyro_extras import get_log_prob_compl\n",
    "\n",
    "n_fsd_posterior_samples = 1000\n",
    "\n",
    "zero = torch.tensor(0, device=device, dtype=dtype)\n",
    "p_obs_lo_mean_array = np.zeros((sc_fingerprint_dtm.n_genes,))\n",
    "p_obs_hi_mean_array = np.zeros((sc_fingerprint_dtm.n_genes,))\n",
    "p_obs_lo_std_array = np.zeros((sc_fingerprint_dtm.n_genes,))\n",
    "p_obs_hi_std_array = np.zeros((sc_fingerprint_dtm.n_genes,))\n",
    "\n",
    "with torch.no_grad():\n",
    "    for gene_index in range(sc_fingerprint_dtm.n_genes):\n",
    "        single_gene_data = sc_fingerprint_dtm.generate_single_gene_fingerprint_minibatch_data(\n",
    "            gene_index=gene_index,\n",
    "            cell_index_list=np.random.randint(\n",
    "                low=0, high=sc_fingerprint_dtm.n_cells, size=n_fsd_posterior_samples),\n",
    "            n_particles_cell=1)\n",
    "        guide_trace = poutine.trace(model.guide).get_trace(single_gene_data)\n",
    "        fsd_params_dict = guide_trace.nodes['_RETURN']['value']['fsd_params_dict']\n",
    "\n",
    "        # get chimeric and real family size distributions\n",
    "        fsd_lo_dist, fsd_hi_dist = fsd_model.get_fsd_components(fsd_params_dict)\n",
    "\n",
    "        # extract required quantities from the distributions\n",
    "        mu_fsd_lo_g = fsd_lo_dist.mean.squeeze(-1)\n",
    "        mu_fsd_hi_g = fsd_hi_dist.mean.squeeze(-1)\n",
    "        \n",
    "        log_p_unobs_lo_g = fsd_lo_dist.log_prob(zero).squeeze(-1)\n",
    "        log_p_unobs_hi_g = fsd_hi_dist.log_prob(zero).squeeze(-1)\n",
    "        \n",
    "        log_p_obs_lo_g = get_log_prob_compl(log_p_unobs_lo_g)\n",
    "        log_p_obs_hi_g = get_log_prob_compl(log_p_unobs_hi_g)\n",
    "        \n",
    "        p_obs_lo_g = log_p_obs_lo_g.exp()\n",
    "        p_obs_hi_g = log_p_obs_hi_g.exp()\n",
    "        \n",
    "        p_obs_lo_mean_array[gene_index] = torch.mean(p_obs_lo_g)\n",
    "        p_obs_hi_mean_array[gene_index] = torch.mean(p_obs_hi_g)\n",
    "\n",
    "        p_obs_lo_std_array[gene_index] = torch.std(p_obs_lo_g)\n",
    "        p_obs_hi_std_array[gene_index] = torch.std(p_obs_hi_g)\n",
    "\n",
    "np.save(os.path.join(output_path, 'p_obs_lo_mean.npy'), p_obs_lo_mean_array)\n",
    "np.save(os.path.join(output_path, 'p_obs_hi_mean.npy'), p_obs_hi_mean_array)\n",
    "np.save(os.path.join(output_path, 'p_obs_lo_std.npy'), p_obs_lo_std_array)\n",
    "np.save(os.path.join(output_path, 'p_obs_hi_std.npy'), p_obs_hi_std_array)"
   ]
  },
  {
   "cell_type": "code",
   "execution_count": null,
   "metadata": {},
   "outputs": [],
   "source": [
    "# mb_data = sc_fingerprint_datastore.generate_stratified_sample_torch(1, 10, 15)\n",
    "# trace = poutine.trace(model.model).get_trace(mb_data)\n",
    "# print(trace.format_shapes())\n",
    "\n",
    "# with torch.no_grad():\n",
    "#     # adapt model parameters to downsampled dataset\n",
    "#     fsd_params_dict = fsd_codec.decode(pyro.param(\"fsd_xi_posterior_loc\"))\n",
    "\n",
    "#     kappa = 0.25\n",
    "#     downsampled_fsd_params_dict = dict()\n",
    "#     downsampled_fsd_params_dict['phi_lo'] = fsd_params_dict['phi_lo']\n",
    "#     downsampled_fsd_params_dict['phi_hi'] = fsd_params_dict['phi_hi']\n",
    "#     downsampled_fsd_params_dict['w_lo'] = fsd_params_dict['w_lo']\n",
    "#     downsampled_fsd_params_dict['w_hi'] = fsd_params_dict['w_hi']\n",
    "#     downsampled_fsd_params_dict['mu_lo'] = kappa * fsd_params_dict['mu_lo']\n",
    "#     downsampled_fsd_params_dict['mu_hi'] = kappa * fsd_params_dict['mu_hi']\n",
    "#     downsampled_fsd_xi_posterior_loc = fsd_codec.encode(downsampled_fsd_params_dict)\n",
    "    \n",
    "# pyro.get_param_store()['fsd_xi_posterior_loc'].data.copy_(downsampled_fsd_xi_posterior_loc.data)\n",
    "\n",
    "# # reset e_hi parameters to the initial estimate\n",
    "# from pyro_extras import logit\n",
    "# with torch.no_grad():\n",
    "#     pyro.get_param_store()._params['mu_e_hi'].data.copy_(torch.tensor(sc_fingerprint_datastore.estimated_mu_e_hi).log())\n",
    "#     pyro.get_param_store()._params['phi_e_hi'].data.copy_(torch.tensor(sc_fingerprint_datastore.estimated_phi_e_hi).log())\n",
    "#     pyro.get_param_store()._params['logit_p_zero_e_hi'].data.copy_(logit(torch.tensor(sc_fingerprint_datastore.estimated_p_zero_e_hi)))\n",
    "\n",
    "# pyro.get_param_store()._params['beta_c'].data.copy_(torch.tensor(1.).log())"
   ]
  },
  {
   "cell_type": "code",
   "execution_count": null,
   "metadata": {},
   "outputs": [],
   "source": [
    "# use_other = True\n",
    "# other_model_path = '/home/jupyter/data/10x/out/pbmc4k__alpha_0.0__beta_0.5__all_genes__fully_reg__rc_2/pbmc4k_19822_genes_marginalized.pyro'\n",
    "# other_genes_path = '/home/jupyter/data/10x/out/pbmc4k__alpha_0.0__beta_0.5__all_genes__fully_reg__rc_2/gene_indices.npy'\n",
    "# kappa = 1.0\n",
    "\n",
    "# if use_other:\n",
    "#     with torch.no_grad():\n",
    "#         other_gene_idx_list = np.load(other_genes_path)\n",
    "#         other_gene_id_to_gene_idx_map = {gene_id: gene_idx for gene_idx, gene_id in enumerate(other_gene_idx_list)}\n",
    "#         gene_slice = [other_gene_id_to_gene_idx_map[gene_id] for gene_id in sc_fingerprint_base.gene_idx_list]\n",
    "\n",
    "#         other_state_dict = torch.load(other_model_path)\n",
    "#         adapted_state_dict = dict()\n",
    "\n",
    "#         adapted_state_dict['constraints'] = other_state_dict['constraints']\n",
    "#         adapted_state_dict['params'] = dict()\n",
    "\n",
    "#         # independent of sampling rate\n",
    "#         adapted_state_dict['params']['e_hi_zeta_loc_r'] = other_state_dict['params']['e_hi_zeta_loc_r']\n",
    "#         adapted_state_dict['params']['e_hi_zeta_scale_tril_rr'] = other_state_dict['params']['e_hi_zeta_scale_tril_rr']\n",
    "#         adapted_state_dict['params']['e_hi_zeta_posterior_loc_gr'] = other_state_dict['params']['e_hi_zeta_posterior_loc_gr'][gene_slice, :]\n",
    "#         adapted_state_dict['params']['e_hi_zeta_posterior_scale_gr'] = other_state_dict['params']['e_hi_zeta_posterior_scale_gr'][gene_slice, :]\n",
    "#         # adapted_state_dict['params']['alpha_c'] = init_params_dict['chimera.alpha_c']\n",
    "#         # adapted_state_dict['params']['beta_c'] = init_params_dict['chimera.beta_c']\n",
    "\n",
    "#         # don't know how to transform, so let's directly bring over\n",
    "#         adapted_state_dict['params']['fsd_xi_prior_scales_kq'] = other_state_dict['params']['fsd_xi_prior_scales_kq']\n",
    "#         adapted_state_dict['params']['fsd_xi_posterior_scale_gq'] = other_state_dict['params']['fsd_xi_posterior_scale_gq'][gene_slice, :]\n",
    "\n",
    "#         # need to be downsampled property\n",
    "#         fsd_prior_params_dict = fsd_codec.decode(other_state_dict['params']['fsd_xi_prior_locs_kq'])\n",
    "#         downsampled_fsd_prior_params_dict = dict()\n",
    "#         downsampled_fsd_prior_params_dict['phi_lo'] = fsd_prior_params_dict['phi_lo']\n",
    "#         downsampled_fsd_prior_params_dict['phi_hi'] = fsd_prior_params_dict['phi_hi']\n",
    "#         downsampled_fsd_prior_params_dict['w_lo'] = fsd_prior_params_dict['w_lo']\n",
    "#         downsampled_fsd_prior_params_dict['w_hi'] = fsd_prior_params_dict['w_hi']\n",
    "#         downsampled_fsd_prior_params_dict['mu_lo'] = kappa * fsd_prior_params_dict['mu_lo']\n",
    "#         downsampled_fsd_prior_params_dict['mu_hi'] = kappa * fsd_prior_params_dict['mu_hi']\n",
    "#         downsampled_fsd_xi_prior_locs_kq = fsd_codec.encode(downsampled_fsd_prior_params_dict)\n",
    "#         adapted_state_dict['params']['fsd_xi_prior_locs_kq'] = downsampled_fsd_xi_prior_locs_kq\n",
    "\n",
    "#         fsd_posterior_params_dict = fsd_codec.decode(other_state_dict['params']['fsd_xi_posterior_loc_gq'][gene_slice, :])\n",
    "#         downsampled_fsd_posterior_params_dict = dict()\n",
    "#         downsampled_fsd_posterior_params_dict['phi_lo'] = fsd_posterior_params_dict['phi_lo']\n",
    "#         downsampled_fsd_posterior_params_dict['phi_hi'] = fsd_posterior_params_dict['phi_hi']\n",
    "#         downsampled_fsd_posterior_params_dict['w_lo'] = fsd_posterior_params_dict['w_lo']\n",
    "#         downsampled_fsd_posterior_params_dict['w_hi'] = fsd_posterior_params_dict['w_hi']\n",
    "#         downsampled_fsd_posterior_params_dict['mu_lo'] = kappa * fsd_posterior_params_dict['mu_lo']\n",
    "#         downsampled_fsd_posterior_params_dict['mu_hi'] = kappa * fsd_posterior_params_dict['mu_hi']\n",
    "#         downsampled_fsd_xi_posterior_loc_gq = fsd_codec.encode(downsampled_fsd_posterior_params_dict)\n",
    "#         adapted_state_dict['params']['fsd_xi_posterior_loc_gq'] = downsampled_fsd_xi_posterior_loc_gq    \n",
    "\n",
    "#     for name, param in adapted_state_dict['params'].items():\n",
    "#         adapted_state_dict['params'][name] = torch.autograd.Variable(param.data, requires_grad=True)\n",
    "    \n",
    "#     pyro.get_param_store().set_state(adapted_state_dict)\n",
    "\n",
    "#     ##################\n",
    "#     # model.mean_total_reads_per_cell = np.median(sc_fingerprint_dtm.total_obs_reads_per_cell).item()\n",
    "#     # model.mean_fsd_mu_hi = np.median(sc_fingerprint_dtm.empirical_fsd_mu_hi).item()\n",
    "#     ##################\n",
    "    \n",
    "# else:\n",
    "    \n",
    "#     model_output_path = os.path.join(\n",
    "#         other_output_path,\n",
    "#         f\"{dataset_name}_{sc_fingerprint_dtm.n_genes}_genes_marginalized.pyro\")\n",
    "#     pyro.get_param_store().load(model_output_path)"
   ]
  },
  {
   "cell_type": "code",
   "execution_count": null,
   "metadata": {},
   "outputs": [],
   "source": [
    "# sc_fingerprint_base_small = sc_fingerprint_base.subset_genes(np.asarray(sc_fingerprint_base.gene_idx_list)[:300])\n",
    "# sc_fingerprint_dtm_small = SingleCellFingerprintDTM(sc_fingerprint_base_small, allow_dense_int_ndarray=True)\n",
    "\n",
    "# fig = plt.figure(figsize=(4, 4))\n",
    "# ax = plt.gca()\n",
    "# ax.imshow(np.log1p(sc_fingerprint_dtm_small.dense_fingerprint_ndarray.sum(-1)[::16, :]).T, vmin=0, vmax=2, cmap=plt.cm.gray_r, origin='lower')\n",
    "# ax.get_xaxis().set_visible(False)\n",
    "# ax.get_yaxis().set_visible(False)\n",
    "# plt.tight_layout()\n",
    "# plt.savefig(f'plot_count_matrix.png', dpi=100, transparent=True)\n",
    "\n",
    "# fig = plt.figure(figsize=(4, 4))\n",
    "# ax = plt.gca()\n",
    "# for fs in range(0, 30):\n",
    "#     ax.imshow(np.log1p(sc_fingerprint_dtm_small.dense_fingerprint_ndarray[::16, :, fs]).T, vmin=0, vmax=2, cmap=plt.cm.gray_r, origin='lower')\n",
    "#     ax.get_xaxis().set_visible(False)\n",
    "#     ax.get_yaxis().set_visible(False)\n",
    "#     plt.tight_layout()\n",
    "#     plt.savefig(f'plot_fs_{fs}.png', dpi=100, transparent=True)"
   ]
  },
  {
   "cell_type": "markdown",
   "metadata": {},
   "source": [
    "## Playground"
   ]
  },
  {
   "cell_type": "code",
   "execution_count": null,
   "metadata": {},
   "outputs": [],
   "source": [
    "from sklearn.decomposition import PCA"
   ]
  },
  {
   "cell_type": "code",
   "execution_count": null,
   "metadata": {},
   "outputs": [],
   "source": [
    "feature_gene_indices = hvg_selector.get_highly_variable_gene_indices()\n",
    "raw_count_matrix = np.asarray(sc_fingerprint_dtm.sparse_family_size_truncated_count_matrix_csc[:, feature_gene_indices].todense())\n",
    "\n",
    "# normalize by total counts\n",
    "normed_count_matrix = raw_count_matrix / sc_fingerprint_dtm.total_obs_molecules_per_cell[:, None]\n",
    "\n",
    "# log transform\n",
    "mean_obs_molecules_per_cell = np.mean(sc_fingerprint_dtm.total_obs_molecules_per_cell)\n",
    "trans_count_matrix = np.log1p(mean_obs_molecules_per_cell * normed_count_matrix)"
   ]
  },
  {
   "cell_type": "code",
   "execution_count": null,
   "metadata": {},
   "outputs": [],
   "source": [
    "pca = PCA(n_components=20, whiten=True)\n",
    "out_pca = pca.fit_transform(trans_count_matrix)"
   ]
  },
  {
   "cell_type": "code",
   "execution_count": null,
   "metadata": {},
   "outputs": [],
   "source": [
    "plt.scatter(out_pca[:, 0], out_pca[:, 1], s=1, alpha=0.5)"
   ]
  },
  {
   "cell_type": "code",
   "execution_count": null,
   "metadata": {},
   "outputs": [],
   "source": [
    "out_pca.shape"
   ]
  },
  {
   "cell_type": "code",
   "execution_count": null,
   "metadata": {},
   "outputs": [],
   "source": [
    "np.concatenate((out_pca, sc_fingerprint_dtm.total_obs_molecules_per_cell[:, None]), axis=1).shape"
   ]
  },
  {
   "cell_type": "code",
   "execution_count": null,
   "metadata": {},
   "outputs": [],
   "source": [
    "## binarized family-size truncated count matrix"
   ]
  },
  {
   "cell_type": "code",
   "execution_count": null,
   "metadata": {},
   "outputs": [],
   "source": []
  },
  {
   "cell_type": "code",
   "execution_count": null,
   "metadata": {},
   "outputs": [],
   "source": [
    "self = sc_fingerprint_dtm\n",
    "\n",
    "dense_fst_count_matrix = self.dense_family_size_truncated_count_matrix_ndarray\n",
    "normed_fst_count_matrix = dense_fst_count_matrix / self.empirical_droplet_efficiency[:, None]\n",
    "median_normed_expr_per_gene = np.median(normed_fst_count_matrix, axis=0)\n",
    "median_based_hard_expression_mask = normed_fst_count_matrix > median_normed_expr_per_gene[None, :]\n",
    "\n",
    "\n",
    "expr_family_size_truncated_count_matrix = np.log1p(normed_fst_count_matrix * hard_expression_mask)"
   ]
  },
  {
   "cell_type": "code",
   "execution_count": null,
   "metadata": {},
   "outputs": [],
   "source": [
    "# perform PCA\n",
    "pca_features = PCA(n_components=self.n_cell_pca_features, whiten=True).fit_transform(\n",
    "    expr_family_size_truncated_count_matrix[:, self.highly_variable_gene_indices])"
   ]
  },
  {
   "cell_type": "code",
   "execution_count": null,
   "metadata": {},
   "outputs": [],
   "source": [
    "plt.scatter(pca_features[:, 0], pca_features[:, 1], alpha=0.5, s=1)"
   ]
  },
  {
   "cell_type": "code",
   "execution_count": null,
   "metadata": {},
   "outputs": [],
   "source": [
    "plt.scatter(self.features_per_cell[:, 0], self.features_per_cell[:, 1], alpha=0.5, s=1)"
   ]
  },
  {
   "cell_type": "code",
   "execution_count": null,
   "metadata": {},
   "outputs": [],
   "source": [
    "gene_index = 101\n",
    "r = np.sum(sc_fingerprint_dtm.dense_count_matrix_ndarray[human_droplets, gene_index]) / (\n",
    "    len(human_droplets) * 0.5)\n",
    "c = np.sum(sc_fingerprint_dtm.dense_count_matrix_ndarray[mouse_droplets, gene_index]) / (\n",
    "    len(mouse_droplets) * 0.15)\n",
    "\n",
    "print(sc_fingerprint_dtm.empirical_fsd_mu_hi[gene_index])"
   ]
  },
  {
   "cell_type": "code",
   "execution_count": null,
   "metadata": {},
   "outputs": [],
   "source": [
    "np.mean(sc_fingerprint_dtm.dense_count_matrix_ndarray[mouse_droplets, gene_index])"
   ]
  },
  {
   "cell_type": "code",
   "execution_count": null,
   "metadata": {},
   "outputs": [],
   "source": [
    "c / r"
   ]
  },
  {
   "cell_type": "code",
   "execution_count": null,
   "metadata": {},
   "outputs": [],
   "source": [
    "z = torch.distributions.Exponential(rate=10.0).sample([100000])"
   ]
  },
  {
   "cell_type": "code",
   "execution_count": null,
   "metadata": {},
   "outputs": [],
   "source": [
    "plt.hist(z.log().numpy(), bins=50);"
   ]
  },
  {
   "cell_type": "code",
   "execution_count": null,
   "metadata": {},
   "outputs": [],
   "source": []
  },
  {
   "cell_type": "code",
   "execution_count": 644,
   "metadata": {},
   "outputs": [
    {
     "data": {
      "text/plain": [
       "[(712, 5039.0),\n",
       " (1453, 5038.0),\n",
       " (2246, 5037.0),\n",
       " (1330, 5035.0),\n",
       " (4514, 5035.0),\n",
       " (1014, 5034.0),\n",
       " (2098, 5034.0),\n",
       " (2376, 5034.0),\n",
       " (651, 5031.0),\n",
       " (3939, 5031.0)]"
      ]
     },
     "execution_count": 644,
     "metadata": {},
     "output_type": "execute_result"
    }
   ],
   "source": [
    "sorted(enumerate(sc_fingerprint_dtm.total_obs_molecules_per_cell), key=lambda x: x[1], reverse=True)[1000:1010]"
   ]
  },
  {
   "cell_type": "code",
   "execution_count": 647,
   "metadata": {},
   "outputs": [
    {
     "data": {
      "text/plain": [
       "[<matplotlib.lines.Line2D at 0x7faa65b325f8>]"
      ]
     },
     "execution_count": 647,
     "metadata": {},
     "output_type": "execute_result"
    },
    {
     "data": {
      "image/png": "[encoded data removed]",
      "text/plain": [
       "<Figure size 432x288 with 1 Axes>"
      ]
     },
     "metadata": {
      "needs_background": "light"
     },
     "output_type": "display_data"
    }
   ],
   "source": [
    "plt.plot(np.asarray(sc_fingerprint_base.csr_fingerprint_dict[sc_fingerprint_base.barcode_list[2246]].sum(0)).flatten())"
   ]
  },
  {
   "cell_type": "code",
   "execution_count": null,
   "metadata": {},
   "outputs": [],
   "source": []
  },
  {
   "cell_type": "code",
   "execution_count": null,
   "metadata": {},
   "outputs": [],
   "source": []
  },
  {
   "cell_type": "code",
   "execution_count": null,
   "metadata": {},
   "outputs": [],
   "source": []
  },
  {
   "cell_type": "code",
   "execution_count": null,
   "metadata": {},
   "outputs": [],
   "source": []
  }
 ],
 "metadata": {
  "kernelspec": {
   "display_name": "Python 3",
   "language": "python",
   "name": "python3"
  },
  "language_info": {
   "codemirror_mode": {
    "name": "ipython",
    "version": 3
   },
   "file_extension": ".py",
   "mimetype": "text/x-python",
   "name": "python",
   "nbconvert_exporter": "python",
   "pygments_lexer": "ipython3",
   "version": "3.7.4"
  }
 },
 "nbformat": 4,
 "nbformat_minor": 4
}
