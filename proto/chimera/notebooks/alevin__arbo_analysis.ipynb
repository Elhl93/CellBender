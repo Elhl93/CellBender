{
 "cells": [
  {
   "cell_type": "code",
   "execution_count": 1,
   "metadata": {},
   "outputs": [],
   "source": [
    "%matplotlib inline\n",
    "\n",
    "import os\n",
    "import sys\n",
    "notebook_path = os.path.abspath('')\n",
    "sources_path = os.path.abspath(os.path.join(notebook_path, '..', 'sources'))\n",
    "sys.path.insert(0, sources_path)\n",
    "\n",
    "import time\n",
    "import matplotlib.pylab as plt\n",
    "from commons import *\n",
    "from fingerprint import SingleCellFingerprintBase, SingleCellFingerprintDTM\n",
    "from collections import Counter\n",
    "from collections import defaultdict\n",
    "import pandas as pd\n",
    "\n",
    "from vpolo.alevin import parser as alevin_parser\n",
    "\n",
    "plt.rc('xtick', labelsize=16)\n",
    "plt.rc('ytick', labelsize=16)"
   ]
  },
  {
   "cell_type": "code",
   "execution_count": 2,
   "metadata": {},
   "outputs": [],
   "source": [
    "alevin_root = '/home/jupyter/data/alevin/alevin_output_orig_fix/'\n",
    "gtf_path = '/home/jupyter/data/alevin/resources/gencode.v31.primary_assembly.annotation.gtf'"
   ]
  },
  {
   "cell_type": "code",
   "execution_count": 4,
   "metadata": {},
   "outputs": [
    {
     "name": "stdout",
     "output_type": "stream",
     "text": [
      "/home/jupyter/data/alevin/alevin_output_orig_fix/alevin\n",
      " Done reading 5390 cells\n",
      "Read Total 5391 cells w/ 208094591 fragments\n"
     ]
    }
   ],
   "source": [
    "arbo_txt_gz_path = os.path.join(alevin_root, 'alevin', 'arborescence_dump.txt.gz')\n",
    "parsed_arbo = alevin_parser.read_arborescences(alevin_root)"
   ]
  },
  {
   "cell_type": "code",
   "execution_count": 5,
   "metadata": {},
   "outputs": [],
   "source": [
    "# load gene ids\n",
    "gene_ids = pd.read_csv(os.path.join(alevin_root, 'alevin', 'quants_mat_cols.txt'), header=None).values.flatten().tolist()"
   ]
  },
  {
   "cell_type": "code",
   "execution_count": 6,
   "metadata": {},
   "outputs": [],
   "source": [
    "# load gene ids and names from the gtf\n",
    "def extract_item_from_gtf_line(gtf_line, key):\n",
    "    value_start = line.find(key) + len(key) + 2\n",
    "    value_end = gtf_line[value_start:].find('\"')\n",
    "    return gtf_line[value_start:value_start + value_end]\n",
    "\n",
    "gtf_gene_id_list = []\n",
    "gtf_gene_name_list = []\n",
    "with open(gtf_path, 'r') as f:\n",
    "    for line in f:\n",
    "        if line[0] == '#':\n",
    "            continue\n",
    "        gene_id = extract_item_from_gtf_line(line, 'gene_id')\n",
    "        gene_name = extract_item_from_gtf_line(line, 'gene_name')\n",
    "        gtf_gene_id_list.append(gene_id)\n",
    "        gtf_gene_name_list.append(gene_name)\n",
    "\n",
    "gene_id_to_gene_name_map = {gene_id: gene_name for gene_id, gene_name in zip(gtf_gene_id_list, gtf_gene_name_list)}"
   ]
  },
  {
   "cell_type": "code",
   "execution_count": 7,
   "metadata": {},
   "outputs": [],
   "source": [
    "# list of all barcodes\n",
    "barcode_list = list(parsed_arbo.keys())"
   ]
  },
  {
   "cell_type": "code",
   "execution_count": 8,
   "metadata": {},
   "outputs": [],
   "source": [
    "# set of all gene ids\n",
    "all_gids_set = set()\n",
    "for barcode in barcode_list:\n",
    "    all_gids_set = all_gids_set.union(set(parsed_arbo[barcode].keys()))\n",
    "\n",
    "# gene idx list for the fingerprint\n",
    "gene_idx_list = sorted(list(all_gids_set))\n",
    "\n",
    "# mapping from gene_idx to fingerprint internal gene index\n",
    "gene_idx_to_internal_idx_map = {gene_idx_list[idx]: idx for idx in range(len(gene_idx_list))}"
   ]
  },
  {
   "cell_type": "code",
   "execution_count": 9,
   "metadata": {},
   "outputs": [],
   "source": [
    "summed_fingerprint = defaultdict(int)\n",
    "for barcode in barcode_list:\n",
    "    for gene_idx, fp in parsed_arbo[barcode].items():\n",
    "        for arbo_length, freq in fp.items():\n",
    "            summed_fingerprint[arbo_length] += freq"
   ]
  },
  {
   "cell_type": "code",
   "execution_count": 10,
   "metadata": {},
   "outputs": [
    {
     "data": {
      "image/png": "[encoded data removed]",
      "text/plain": [
       "<Figure size 432x288 with 1 Axes>"
      ]
     },
     "metadata": {
      "needs_background": "light"
     },
     "output_type": "display_data"
    }
   ],
   "source": [
    "summed_fingerprint_list = [summed_fingerprint[j] for j in range(1, max(summed_fingerprint.keys()) + 1)]\n",
    "plt.bar(np.arange(1, len(summed_fingerprint_list) + 1), summed_fingerprint_list)\n",
    "cumsum_fingerprint = np.cumsum(summed_fingerprint_list)\n",
    "max_empirical_family_size = len(summed_fingerprint_list) + 1"
   ]
  },
  {
   "cell_type": "code",
   "execution_count": 11,
   "metadata": {},
   "outputs": [
    {
     "name": "stdout",
     "output_type": "stream",
     "text": [
      "Max determined family size: 56\n"
     ]
    }
   ],
   "source": [
    "# neglected mol fraction to choose max family size\n",
    "neg_mol_fraction = 1e-4\n",
    "fs_cutoff = 1\n",
    "while fs_cutoff <= max_empirical_family_size:\n",
    "    frac = cumsum_fingerprint[fs_cutoff - 1] / cumsum_fingerprint[-1]\n",
    "    if frac > 1. - neg_mol_fraction:\n",
    "        break\n",
    "    else:\n",
    "        fs_cutoff += 1\n",
    "print(f'Max determined family size: {fs_cutoff}')"
   ]
  },
  {
   "cell_type": "code",
   "execution_count": 55,
   "metadata": {},
   "outputs": [
    {
     "name": "stderr",
     "output_type": "stream",
     "text": [
      "WARNING:root:Processing cell 1/5391...\n",
      "WARNING:root:Processing cell 1001/5391...\n",
      "WARNING:root:Processing cell 2001/5391...\n",
      "WARNING:root:Processing cell 3001/5391...\n",
      "WARNING:root:Processing cell 4001/5391...\n",
      "WARNING:root:Processing cell 5001/5391...\n"
     ]
    }
   ],
   "source": [
    "import scipy.sparse as sp\n",
    "\n",
    "def single_cell_fingerprint_to_gene_fs_array(single_cell_fp, fs_cutoff):\n",
    "    gene_list = []\n",
    "    fs_list = []\n",
    "    for gene_idx, single_gene_fp_dict in single_cell_fp.items():\n",
    "        n_mols = np.sum(list(single_gene_fp_dict.values()))\n",
    "        gene_list += ([gene_idx] * n_mols)\n",
    "        for fs, freq in single_gene_fp_dict.items():\n",
    "            fs_list += ([fs - 1] * freq)\n",
    "    return np.asarray(gene_list), np.clip(np.asarray(fs_list), a_min=None, a_max=fs_cutoff - 1)\n",
    "\n",
    "# generate an empty single-cell fingerprint instance\n",
    "n_genes = len(gene_ids)\n",
    "n_cells = len(barcode_list)\n",
    "al_sc_fingerprint_base = SingleCellFingerprintBase(\n",
    "    gene_idx_list=list(i_gene for i_gene in range(n_genes)),\n",
    "    gene_names_list=list(map(gene_id_to_gene_name_map.get, gene_ids)),\n",
    "    max_family_size=fs_cutoff)\n",
    "\n",
    "# populate\n",
    "for i_cell, barcode in enumerate(barcode_list):\n",
    "    c_gene_array, c_fs_array = single_cell_fingerprint_to_gene_fs_array(parsed_arbo[barcode], fs_cutoff)\n",
    "    c_fingerprint_matrix = sp.coo_matrix(\n",
    "        (np.ones_like(c_gene_array), (c_gene_array, c_fs_array)),\n",
    "        shape=(n_genes, fs_cutoff)).tocsr()\n",
    "    al_sc_fingerprint_base._add_new_barcode(encode(barcode), c_fingerprint_matrix)\n",
    "    \n",
    "    if i_cell % 1_000 == 0:\n",
    "        logging.warning(f'Processing cell {i_cell + 1}/{n_cells}...')"
   ]
  },
  {
   "cell_type": "code",
   "execution_count": 56,
   "metadata": {},
   "outputs": [
    {
     "name": "stderr",
     "output_type": "stream",
     "text": [
      "WARNING:root:Calculating and caching \"SingleCellFingerprintBase.good_turing_estimator_g\"...\n",
      "WARNING:root:Calculating and caching \"SingleCellFingerprintBase.total_molecules_per_gene_g\"...\n",
      "WARNING:root:Number of genes failed the maximum Good-Turing criterion: 4737\n",
      "WARNING:root:Number of genes failed the minimum expression criterion: 4737\n",
      "WARNING:root:Number of genes failed both criteria: 4737\n",
      "WARNING:root:Number of retained genes: 15580\n",
      "WARNING:root:Calculating and caching \"SingleCellFingerprintBase.total_molecules_per_gene_g\"...\n",
      "WARNING:root:Calculating and caching \"SingleCellFingerprintBase.total_molecules_per_gene_g\"...\n",
      "WARNING:root:Calculating and caching \"SingleCellFingerprintBase.sparse_count_matrix_csr\"...\n"
     ]
    }
   ],
   "source": [
    "al_sc_fingerprint_base = al_sc_fingerprint_base\\\n",
    "    .filter_genes(max_good_turing=1., min_total_gene_expression=1)\\\n",
    "    .sort_genes_by_expression()\n",
    "al_sc_fingerprint_dtm = SingleCellFingerprintDTM(al_sc_fingerprint_base)"
   ]
  },
  {
   "cell_type": "code",
   "execution_count": 57,
   "metadata": {},
   "outputs": [],
   "source": [
    "# fig, axs = plt.subplots(nrows=5, ncols=5, figsize=(20, 20))\n",
    "\n",
    "# gene_index = 0 \n",
    "# for i in range(5):\n",
    "#     for j in range(5):\n",
    "#         ax = axs[i, j]\n",
    "#         gene_name = sc_fingerprint_base.gene_names_list[gene_index]\n",
    "#         fp = sc_fingerprint_dtm.get_single_gene_dense_fingerprint_array(gene_index).sum(0)\n",
    "#         ax.bar(np.arange(1, len(fp) + 1), fp)\n",
    "#         ax.set_xlim((0, 50))\n",
    "#         ax.set_xlabel('Family Size', fontsize=16)\n",
    "#         ax.set_ylabel('Abundance', fontsize=16)\n",
    "#         ax.set_title(gene_name, fontsize=16)\n",
    "        \n",
    "#         gene_index += 1\n",
    "         \n",
    "# plt.tight_layout()\n",
    "# plt.savefig('/home/jupyter/CellBender/proto/chimera/notebooks/figures/alevin_top_genes_fsd.pdf')"
   ]
  },
  {
   "cell_type": "markdown",
   "metadata": {},
   "source": [
    "## Save Alevin's fingerprint"
   ]
  },
  {
   "cell_type": "code",
   "execution_count": 58,
   "metadata": {},
   "outputs": [],
   "source": [
    "al_sc_fingerprint_base.save('/home/jupyter/data/10x/pbmc4k_alevin_sc_fingerprint.pkl')"
   ]
  },
  {
   "cell_type": "markdown",
   "metadata": {},
   "source": [
    "## CellRanger fingerprint"
   ]
  },
  {
   "cell_type": "code",
   "execution_count": 37,
   "metadata": {},
   "outputs": [
    {
     "name": "stderr",
     "output_type": "stream",
     "text": [
      "WARNING:root:Calculating and caching \"SingleCellFingerprintBase.total_molecules_per_gene_g\"...\n",
      "WARNING:root:Calculating and caching \"SingleCellFingerprintBase.sparse_count_matrix_csr\"...\n"
     ]
    }
   ],
   "source": [
    "cr_sc_fingerprint_base = SingleCellFingerprintBase.load(\n",
    "    '/home/jupyter/data/10x/pbmc4k_only_expressing_sc_fingerprint.pkl')\n",
    "cr_sc_fingerprint_dtm = SingleCellFingerprintDTM(cr_sc_fingerprint_base)"
   ]
  },
  {
   "cell_type": "code",
   "execution_count": 38,
   "metadata": {},
   "outputs": [],
   "source": [
    "# fig, axs = plt.subplots(nrows=5, ncols=5, figsize=(20, 20))\n",
    "\n",
    "# gene_index = 0 \n",
    "# for i in range(5):\n",
    "#     for j in range(5):\n",
    "#         ax = axs[i, j]\n",
    "#         gene_name = cr_sc_fingerprint_base.gene_names_list[gene_index]\n",
    "#         fp = cr_sc_fingerprint_dtm.get_single_gene_dense_fingerprint_array(gene_index).sum(0)\n",
    "#         ax.bar(np.arange(1, len(fp) + 1), fp)\n",
    "#         ax.set_xlim((0, 50))\n",
    "#         ax.set_xlabel('Family Size', fontsize=16)\n",
    "#         ax.set_ylabel('Abundance', fontsize=16)\n",
    "#         ax.set_title(gene_name, fontsize=16)\n",
    "        \n",
    "#         gene_index += 1\n",
    "         \n",
    "# plt.tight_layout()\n",
    "# plt.savefig('/home/jupyter/CellBender/proto/chimera/notebooks/figures/cellranger_top_genes_fsd.pdf')"
   ]
  },
  {
   "cell_type": "markdown",
   "metadata": {},
   "source": [
    "## Alevin quantification"
   ]
  },
  {
   "cell_type": "code",
   "execution_count": 39,
   "metadata": {},
   "outputs": [],
   "source": [
    "from scipy.io import mmread\n",
    "import gzip\n",
    "from operator import itemgetter\n",
    "\n",
    "alevin_expr_matrix = mmread(os.path.join(alevin_root, 'alevin', 'quants_mat.mtx.gz'))\n",
    "alevin_expr_matrix_rows = []\n",
    "alevin_expr_matrix_cols = []\n",
    "\n",
    "with open(os.path.join(alevin_root, 'alevin', 'quants_mat_cols.txt'), 'r') as f:\n",
    "    for line in f:\n",
    "        alevin_expr_matrix_cols.append(line.strip())\n",
    "with open(os.path.join(alevin_root, 'alevin', 'quants_mat_rows.txt'), 'r') as f:\n",
    "    for line in f:\n",
    "        alevin_expr_matrix_rows.append(line.strip())\n",
    "\n",
    "alevin_total_gene_expr_per_cell = np.asarray(alevin_expr_matrix.sum(0)).flatten() / alevin_expr_matrix.shape[0]\n",
    "alevin_total_gene_expr_sorted = sorted(zip(alevin_total_gene_expr_per_cell, alevin_expr_matrix_cols), key=itemgetter(0), reverse=True)"
   ]
  },
  {
   "cell_type": "code",
   "execution_count": 40,
   "metadata": {},
   "outputs": [
    {
     "name": "stdout",
     "output_type": "stream",
     "text": [
      "TMSB4X     56.21906881840104\n",
      "RPS27     45.27508810981265\n",
      "B2M     45.04841402337229\n",
      "EEF1A1     39.58504915600074\n",
      "RPL41     39.14895195696531\n",
      "RPL10     37.63921009757002\n",
      "RPL21     33.82359488035615\n",
      "RPL34     33.67835281023929\n",
      "RPL13     33.076423669078096\n",
      "RPL13A     31.02188833240586\n",
      "RPS18     29.85475792988314\n",
      "RPLP1     29.0608421443146\n",
      "RPL39     26.475792988313856\n",
      "RPS2     26.464848822110927\n",
      "RPL32     26.071786310517528\n",
      "RPS14     25.293842272676667\n",
      "RPS12     25.17121127805602\n",
      "MT-CO1     24.51530328324986\n",
      "ACTB     24.26247449452792\n",
      "RPS6     24.18363939899833\n",
      "RPLP2     23.983676497866814\n",
      "RPS15A     23.198906057132255\n",
      "RPS27A     22.189222436839177\n",
      "RPS3A     21.879985160452605\n",
      "FTL     21.08291597106288\n"
     ]
    }
   ],
   "source": [
    "for j in range(25):\n",
    "    expr, gid = alevin_total_gene_expr_sorted[j]\n",
    "    print(gene_id_to_gene_name_map[gid], '   ', expr)"
   ]
  },
  {
   "cell_type": "code",
   "execution_count": 44,
   "metadata": {},
   "outputs": [
    {
     "name": "stdout",
     "output_type": "stream",
     "text": [
      "TMSB4X     56.21907\n",
      "RPS27     45.27509\n",
      "B2M     45.048412\n",
      "EEF1A1     39.58505\n",
      "RPL41     39.148952\n",
      "RPL10     37.639214\n",
      "RPL21     33.823593\n",
      "RPL34     33.678352\n",
      "RPL13     33.076424\n",
      "RPL13A     31.021889\n",
      "RPS18     29.854757\n",
      "RPLP1     29.060843\n",
      "RPL39     26.475794\n",
      "RPS2     26.46485\n",
      "RPL32     26.071787\n",
      "RPS14     25.295307\n",
      "RPS12     25.171211\n",
      "MT-CO1     24.515303\n",
      "ACTB     24.262474\n",
      "RPS6     24.18364\n",
      "RPLP2     23.983677\n",
      "RPS15A     23.199593\n",
      "RPS27A     22.189205\n",
      "RPS3A     21.879986\n",
      "FTL     21.082916\n"
     ]
    }
   ],
   "source": [
    "for j in range(25):\n",
    "    expr, gn = al_sc_fingerprint_dtm.arithmetic_mean_obs_expr_per_gene[j], al_sc_fingerprint_base.gene_names_list[j]\n",
    "    print(gn, '   ', expr)"
   ]
  },
  {
   "cell_type": "markdown",
   "metadata": {},
   "source": [
    "## Comparison between Alevin and CellRanger"
   ]
  },
  {
   "cell_type": "code",
   "execution_count": 53,
   "metadata": {},
   "outputs": [
    {
     "data": {
      "image/png": "[encoded data removed]",
      "text/plain": [
       "<Figure size 720x288 with 2 Axes>"
      ]
     },
     "metadata": {
      "needs_background": "light"
     },
     "output_type": "display_data"
    }
   ],
   "source": [
    "fig, axs = plt.subplots(ncols=2, figsize=(10, 4))\n",
    "gene_name = 'LYZ'\n",
    "al_gene_index = al_sc_fingerprint_base.gene_names_list.index(gene_name)\n",
    "cr_gene_index = cr_sc_fingerprint_base.gene_names_list.index(gene_name)\n",
    "\n",
    "al_fp = al_sc_fingerprint_dtm.get_single_gene_dense_fingerprint_array(al_gene_index).sum(0)\n",
    "cr_fp = cr_sc_fingerprint_dtm.get_single_gene_dense_fingerprint_array(cr_gene_index).sum(0)\n",
    "\n",
    "axs[0].bar(np.arange(1, len(al_fp) + 1), al_fp)\n",
    "axs[0].set_xlim((0, 50))\n",
    "axs[0].set_xlabel('Family Size', fontsize=16)\n",
    "axs[0].set_ylabel('Abundance', fontsize=16)\n",
    "axs[0].set_title(gene_name, fontsize=16)\n",
    "\n",
    "axs[1].bar(np.arange(1, len(cr_fp) + 1), cr_fp)\n",
    "axs[1].set_xlim((0, 50))\n",
    "axs[1].set_xlabel('Family Size', fontsize=16)\n",
    "axs[1].set_ylabel('Abundance', fontsize=16)\n",
    "axs[1].set_title(gene_name, fontsize=16)\n",
    "\n",
    "plt.tight_layout()"
   ]
  },
  {
   "cell_type": "code",
   "execution_count": null,
   "metadata": {},
   "outputs": [],
   "source": []
  }
 ],
 "metadata": {
  "kernelspec": {
   "display_name": "Python 3",
   "language": "python",
   "name": "python3"
  },
  "language_info": {
   "codemirror_mode": {
    "name": "ipython",
    "version": 3
   },
   "file_extension": ".py",
   "mimetype": "text/x-python",
   "name": "python",
   "nbconvert_exporter": "python",
   "pygments_lexer": "ipython3",
   "version": "3.7.3"
  }
 },
 "nbformat": 4,
 "nbformat_minor": 2
}
