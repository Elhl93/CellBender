{
 "cells": [
  {
   "cell_type": "markdown",
   "metadata": {},
   "source": [
    "## Generate cellranger-like output from droplet-counts output"
   ]
  },
  {
   "cell_type": "code",
   "execution_count": 2,
   "metadata": {},
   "outputs": [],
   "source": [
    "%matplotlib inline\n",
    "\n",
    "import os\n",
    "import sys\n",
    "notebook_path = os.path.abspath('')\n",
    "sources_path = os.path.abspath(os.path.join(notebook_path, '..', 'sources'))\n",
    "sys.path.insert(0, sources_path)\n",
    "\n",
    "import os\n",
    "import numpy as np\n",
    "import tables\n",
    "from scipy.io import mmwrite\n",
    "import scipy.sparse as sp\n",
    "\n",
    "from commons import *\n",
    "\n",
    "from fingerprint import SingleCellFingerprintBase, SingleCellFingerprintDTM\n",
    "\n",
    "plt.rc('xtick', labelsize=16)\n",
    "plt.rc('ytick', labelsize=16)"
   ]
  },
  {
   "cell_type": "code",
   "execution_count": 5,
   "metadata": {},
   "outputs": [],
   "source": [
    "dataset_name = 'pbmc4k_ss_rate_0.0625'\n",
    "run_id = 'all_genes__11__final_3_weakreg'\n",
    "mol_info_h5_root_root = '/home/jupyter/data/10x/'\n",
    "dtm_out_root = '/home/jupyter/data/10x/out'\n",
    "gem_group_suffix = \"-1\"\n",
    "\n",
    "# dataset_name = 'pbmc4k_ss_rate_0.0625'\n",
    "# run_id = 'all_genes__11__final_3_weakreg'\n",
    "# mol_info_h5_root_root = '/home/jupyter/data/10x/'\n",
    "# dtm_out_root = '/home/jupyter/data/10x/out'\n",
    "# gem_group_suffix = \"-3\"\n",
    "\n",
    "# input paths\n",
    "mol_info_h5 = os.path.join(mol_info_h5_root_root, f\"{dataset_name}_molecule_info.h5\")\n",
    "input_e_hi_map_npy = os.path.join(dtm_out_root, f\"{dataset_name}__{run_id}\", \"e_hi_map__full.npy\")\n",
    "gene_indices_npy = os.path.join(dtm_out_root, f\"{dataset_name}__{run_id}\", \"gene_indices.npy\")\n",
    "cell_barcodes_npy = os.path.join(dtm_out_root, f\"{dataset_name}__{run_id}\", \"cell_barcodes.npy\")\n",
    "\n",
    "# output paths\n",
    "output_root = os.path.join(dtm_out_root, f\"{dataset_name}__{run_id}__mtx_output\")\n",
    "try:\n",
    "    os.mkdir(output_root)\n",
    "except:\n",
    "    pass"
   ]
  },
  {
   "cell_type": "code",
   "execution_count": 33,
   "metadata": {},
   "outputs": [],
   "source": [
    "# load gene names and gene IDs\n",
    "mol_info_h5_tab = tables.open_file(mol_info_h5)\n",
    "gene_names_array = mol_info_h5_tab.root.gene_names.read()\n",
    "gene_ids_array = mol_info_h5_tab.root.gene_ids.read()\n",
    "\n",
    "# load e_hi count, included genes, and included barcodes\n",
    "e_hi_map_array = np.load(input_e_hi_map_npy)\n",
    "gene_indices_array = np.load(gene_indices_npy)\n",
    "cell_barcodes_array = np.load(cell_barcodes_npy)\n",
    "\n",
    "# generate genes.tsv\n",
    "with open(os.path.join(output_root, 'genes.tsv'), 'w') as f:\n",
    "    for gene_index in gene_indices_array:\n",
    "        gene_name = gene_names_array[gene_index].decode('ascii')\n",
    "        gene_id = gene_ids_array[gene_index].decode('ascii')\n",
    "        f.write(f\"{gene_id}\\t{gene_name}\\n\")\n",
    "        \n",
    "# generate barcodes.tsv\n",
    "with open(os.path.join(output_root, 'barcodes.tsv'), 'w') as f:\n",
    "    for encoded_barcode in cell_barcodes_array:\n",
    "        decoded_barcode_with_gem = decode(encoded_barcode, 16) + gem_group_suffix\n",
    "        f.write(f\"{decoded_barcode_with_gem}\\n\")\n",
    "        \n",
    "# generate matrix.mtx\n",
    "coo_e_hi_map_counts = sp.coo_matrix(e_hi_map_array.astype(np.int).T)\n",
    "mmwrite(os.path.join(output_root, \"matrix.mtx\"), coo_e_hi_map_counts)"
   ]
  },
  {
   "cell_type": "code",
   "execution_count": 6,
   "metadata": {},
   "outputs": [],
   "source": [
    "# (optional) save raw counts on the same genes and barcodes\n",
    "sc_fingerprint_path = '/home/jupyter/data/10x/pbmc4k_ss_rate_0.0625_sc_fingerprint.pkl'\n",
    "output_root = os.path.join(dtm_out_root, f\"{dataset_name}__raw__mtx_output\")\n",
    "try:\n",
    "    os.mkdir(output_root)\n",
    "except:\n",
    "    pass"
   ]
  },
  {
   "cell_type": "code",
   "execution_count": 17,
   "metadata": {},
   "outputs": [
    {
     "name": "stderr",
     "output_type": "stream",
     "text": [
      "Calculating and caching \"SingleCellFingerprintBase.sparse_count_matrix_csr\"...\n"
     ]
    }
   ],
   "source": [
    "sc_fingerprint_base = SingleCellFingerprintBase.load(sc_fingerprint_path)\n",
    "gene_indices_array = np.asarray(sc_fingerprint_base.gene_idx_list)\n",
    "mol_info_h5_tab = tables.open_file(mol_info_h5)\n",
    "gene_names_array = mol_info_h5_tab.root.gene_names.read()\n",
    "gene_ids_array = mol_info_h5_tab.root.gene_ids.read()\n",
    "raw_counts = np.asarray(sc_fingerprint_base.sparse_count_matrix_csr.todense())\n",
    "\n",
    "# generate genes.tsv\n",
    "with open(os.path.join(output_root, 'genes.tsv'), 'w') as f:\n",
    "    for gene_index in gene_indices_array:\n",
    "        gene_name = gene_names_array[gene_index].decode('ascii')\n",
    "        gene_id = gene_ids_array[gene_index].decode('ascii')\n",
    "        f.write(f\"{gene_id}\\t{gene_name}\\n\")\n",
    "        \n",
    "# generate barcodes.tsv\n",
    "with open(os.path.join(output_root, 'barcodes.tsv'), 'w') as f:\n",
    "    for encoded_barcode in sc_fingerprint_base.barcode_list:\n",
    "        decoded_barcode_with_gem = decode(encoded_barcode, 16) + gem_group_suffix\n",
    "        f.write(f\"{decoded_barcode_with_gem}\\n\")\n",
    "        \n",
    "# generate matrix.mtx\n",
    "coo_raw_counts = sp.coo_matrix(raw_counts.astype(np.int).T)\n",
    "mmwrite(os.path.join(output_root, \"matrix.mtx\"), coo_raw_counts)"
   ]
  },
  {
   "cell_type": "markdown",
   "metadata": {},
   "source": [
    "## Generate CellRanger output counts from a given SingleCellFingerprint"
   ]
  },
  {
   "cell_type": "code",
   "execution_count": 9,
   "metadata": {},
   "outputs": [
    {
     "name": "stderr",
     "output_type": "stream",
     "text": [
      "Calculating and caching \"SingleCellFingerprintBase.sparse_count_matrix_csr\"...\n"
     ]
    }
   ],
   "source": [
    "sc_fingerprint_path = '/home/jupyter/data/10x/pbmc4k_alevin_sc_fingerprint.pkl'\n",
    "sc_fingerprint_base = SingleCellFingerprintBase.load(sc_fingerprint_path)\n",
    "raw_counts = np.asarray(sc_fingerprint_base.sparse_count_matrix_csr.todense())\n",
    "\n",
    "# output paths\n",
    "dataset_name = 'pbmc4k'\n",
    "run_id = 'alevin__raw'\n",
    "gem_group_suffix = \"-1\"\n",
    "output_root = os.path.join('/home/jupyter/data/10x', f\"{dataset_name}__{run_id}__mtx_output\")\n",
    "try:\n",
    "    os.mkdir(output_root)\n",
    "except:\n",
    "    pass\n",
    "\n",
    "# generate genes.tsv\n",
    "with open(os.path.join(output_root, 'genes.tsv'), 'w') as f:\n",
    "    for gene_name in sc_fingerprint_base.gene_names_list:\n",
    "        gene_id = gene_name  ## fix later\n",
    "        f.write(f\"{gene_id}\\t{gene_name}\\n\")\n",
    "\n",
    "# generate barcodes.tsv\n",
    "with open(os.path.join(output_root, 'barcodes.tsv'), 'w') as f:\n",
    "    for encoded_barcode in sc_fingerprint_base.barcode_list:\n",
    "        decoded_barcode_with_gem = decode(encoded_barcode, 16) + gem_group_suffix\n",
    "        f.write(f\"{decoded_barcode_with_gem}\\n\")\n",
    "        \n",
    "# generate matrix.mtx\n",
    "coo_raw_counts = sp.coo_matrix(raw_counts.astype(np.int).T)\n",
    "mmwrite(os.path.join(output_root, \"matrix.mtx\"), coo_raw_counts)"
   ]
  },
  {
   "cell_type": "code",
   "execution_count": null,
   "metadata": {},
   "outputs": [],
   "source": []
  }
 ],
 "metadata": {
  "kernelspec": {
   "display_name": "Python 3",
   "language": "python",
   "name": "python3"
  },
  "language_info": {
   "codemirror_mode": {
    "name": "ipython",
    "version": 3
   },
   "file_extension": ".py",
   "mimetype": "text/x-python",
   "name": "python",
   "nbconvert_exporter": "python",
   "pygments_lexer": "ipython3",
   "version": "3.7.3"
  }
 },
 "nbformat": 4,
 "nbformat_minor": 2
}
