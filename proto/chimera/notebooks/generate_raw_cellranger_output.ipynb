{
 "cells": [
  {
   "cell_type": "markdown",
   "metadata": {},
   "source": [
    "## Generate cellranger-like output from droplet-counts output\n",
    "\n",
    "Generate cellranger-like output using the same gene and barcode filters used by droplet-counts."
   ]
  },
  {
   "cell_type": "code",
   "execution_count": 7,
   "metadata": {},
   "outputs": [],
   "source": [
    "%matplotlib inline\n",
    "\n",
    "import os\n",
    "import numpy as np\n",
    "import tables\n",
    "from scipy.io import mmwrite\n",
    "import scipy.sparse as sp\n",
    "\n",
    "from commons import *\n",
    "from sc_fingerprint import SingleCellFingerprint, SingleCellFingerprintDataStore\n",
    "\n",
    "plt.rc('xtick', labelsize=16)\n",
    "plt.rc('ytick', labelsize=16)"
   ]
  },
  {
   "cell_type": "code",
   "execution_count": 3,
   "metadata": {},
   "outputs": [],
   "source": [
    "dataset_name = 'pbmc4k'\n",
    "run_id = 'default_gene_filters'\n",
    "root = '/home/jupyter/data/10x/'\n",
    "\n",
    "# input paths\n",
    "sc_fingerprint_path = os.path.join(root, f\"{dataset_name}_sc_fingerprint.pkl\")\n",
    "mol_info_h5 = os.path.join(root, f\"{dataset_name}_molecule_info.h5\")\n",
    "gene_indices_npy = os.path.join(root, f\"{dataset_name}__{run_id}\", \"gene_indices.npy\")\n",
    "cell_barcodes_npy = os.path.join(root, f\"{dataset_name}__{run_id}\", \"cell_barcodes.npy\")\n",
    "\n",
    "# output paths\n",
    "output_root = os.path.join(root, f\"{dataset_name}__{run_id}__mtx_output\")\n",
    "try:\n",
    "    os.mkdir(output_root)\n",
    "except:\n",
    "    pass"
   ]
  },
  {
   "cell_type": "code",
   "execution_count": 10,
   "metadata": {},
   "outputs": [
    {
     "name": "stderr",
     "output_type": "stream",
     "text": [
      "Number of genes failed the maximum Good-Turing criterion: 15350\n",
      "Number of genes failed the minimum expression criterion: 19742\n",
      "Number of genes failed both criteria: 15203\n",
      "Number of retained genes: 13805\n"
     ]
    }
   ],
   "source": [
    "# load fingerprint and instantiate the data-store\n",
    "sc_fingerprint = SingleCellFingerprint.load(sc_fingerprint_path)\n",
    "sc_fingerprint = sc_fingerprint.filter_genes()\n",
    "sc_fingerprint_datastore = SingleCellFingerprintDataStore(\n",
    "    sc_fingerprint, top_k_genes=(0, sc_fingerprint.num_genes))"
   ]
  },
  {
   "cell_type": "code",
   "execution_count": 14,
   "metadata": {},
   "outputs": [],
   "source": [
    "# load gene names and gene IDs from molecule info H5 file\n",
    "mol_info_h5_tab = tables.open_file(mol_info_h5)\n",
    "gene_names_array = mol_info_h5_tab.root.gene_names.read()\n",
    "gene_ids_array = mol_info_h5_tab.root.gene_ids.read()\n",
    "\n",
    "# droplet count, included genes, and included barcodes\n",
    "droplet_count_array = sc_fingerprint_datastore.obs_expr_matrix\n",
    "gene_indices_array = np.asarray(list(map(\n",
    "    sc_fingerprint_datastore.internal_gene_index_to_original_gene_index_map.get,\n",
    "    range(sc_fingerprint_datastore.n_genes))))\n",
    "cell_barcodes_array = np.asarray(sc_fingerprint.barcode_list)\n",
    "\n",
    "# generate genes.tsv\n",
    "with open(os.path.join(output_root, 'genes.tsv'), 'w') as f:\n",
    "    for gene_index in gene_indices_array:\n",
    "        gene_name = gene_names_array[gene_index].decode('ascii')\n",
    "        gene_id = gene_ids_array[gene_index].decode('ascii')\n",
    "        f.write(f\"{gene_id}\\t{gene_name}\\n\")\n",
    "        \n",
    "# generate barcodes.tsv\n",
    "with open(os.path.join(output_root, 'barcodes.tsv'), 'w') as f:\n",
    "    for encoded_barcode in cell_barcodes_array:\n",
    "        decoded_barcode_with_gem = decode(encoded_barcode, 16) + \"-1\"\n",
    "        f.write(f\"{decoded_barcode_with_gem}\\n\")\n",
    "        \n",
    "# generate matrix.mtx\n",
    "coo_droplet_counts = sp.coo_matrix(droplet_count_array.astype(np.int).T)\n",
    "mmwrite(os.path.join(output_root, \"matrix.mtx\"), coo_droplet_counts)"
   ]
  },
  {
   "cell_type": "code",
   "execution_count": null,
   "metadata": {},
   "outputs": [],
   "source": []
  }
 ],
 "metadata": {
  "kernelspec": {
   "display_name": "Python 3",
   "language": "python",
   "name": "python3"
  },
  "language_info": {
   "codemirror_mode": {
    "name": "ipython",
    "version": 3
   },
   "file_extension": ".py",
   "mimetype": "text/x-python",
   "name": "python",
   "nbconvert_exporter": "python",
   "pygments_lexer": "ipython3",
   "version": "3.7.1"
  }
 },
 "nbformat": 4,
 "nbformat_minor": 2
}
