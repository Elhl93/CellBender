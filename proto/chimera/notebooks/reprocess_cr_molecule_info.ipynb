{
 "cells": [
  {
   "cell_type": "markdown",
   "metadata": {},
   "source": [
    "## Reprocess molecule info H5 file"
   ]
  },
  {
   "cell_type": "code",
   "execution_count": 505,
   "metadata": {},
   "outputs": [],
   "source": [
    "%matplotlib inline\n",
    "\n",
    "import os\n",
    "import sys\n",
    "notebook_path = os.path.abspath('')\n",
    "sources_path = os.path.abspath(os.path.join(notebook_path, '..', 'sources'))\n",
    "sys.path.insert(0, sources_path)\n",
    "\n",
    "import matplotlib.pylab as plt\n",
    "import numpy as np\n",
    "import pandas as pd\n",
    "import itertools\n",
    "import operator\n",
    "from bisect import bisect_left, bisect_right\n",
    "from commons import *\n",
    "\n",
    "plt.rc('xtick', labelsize=16)\n",
    "plt.rc('ytick', labelsize=16)"
   ]
  },
  {
   "cell_type": "code",
   "execution_count": 506,
   "metadata": {},
   "outputs": [],
   "source": [
    "# select dataset\n",
    "mol_h5_path = '/home/jupyter/data/10x/pbmc4k_molecule_info.h5'\n",
    "genes_tsv_path = None\n",
    "cr_version = 'v2'"
   ]
  },
  {
   "cell_type": "code",
   "execution_count": null,
   "metadata": {},
   "outputs": [],
   "source": [
    "mol_info = MoleculeInfo(mol_h5_path, cr_version, genes_tsv_path, extended=True)"
   ]
  },
  {
   "cell_type": "markdown",
   "metadata": {},
   "source": [
    "## Greedy assignment of unmapped and non-confidently mapped molecules\n",
    "\n",
    "- Iterate over (CB, UMI)\n",
    "- Pick the gene with the highest number of confidently mapped reads with unique positions\n",
    "- Assign all reads associated to (CB, UMI) to that gene (including unmapped and non-confidently mapped)\n",
    "- If no single gene has the highest number of confidently mapped reads with unique positions, pick the gene\n",
    "  with the highest (naïve) count in the experiment"
   ]
  },
  {
   "cell_type": "code",
   "execution_count": null,
   "metadata": {},
   "outputs": [],
   "source": [
    "from collections import Counter\n",
    "from operator import itemgetter\n",
    "from itertools import groupby\n",
    "from collections import defaultdict\n",
    "\n",
    "gene_counter = Counter(mol_info.gene_array)"
   ]
  },
  {
   "cell_type": "code",
   "execution_count": null,
   "metadata": {},
   "outputs": [],
   "source": [
    "n_genes = len(mol_info.gene_names_array)\n",
    "gene_counts_list = [gene_counter[gene_index] for gene_index in range(n_genes)]\n",
    "sorted_gene_indices_by_expression = sorted(enumerate(gene_counts_list), key=itemgetter(1), reverse=True)\n",
    "gene_ranks_reverse = {sorted_gene_indices_by_expression[rank][0]: rank for rank in range(n_genes)}\n",
    "gene_ranks = list(map(gene_ranks_reverse.get, range(n_genes)))\n",
    "\n",
    "# higher score = higher expression; unmapped has score = 0\n",
    "gene_scores = np.zeros((n_genes + 1,), dtype=np.uint32)\n",
    "gene_scores[:n_genes] = n_genes - np.asarray(gene_ranks)\n",
    "gene_scores[n_genes] = 0"
   ]
  },
  {
   "cell_type": "code",
   "execution_count": null,
   "metadata": {},
   "outputs": [],
   "source": [
    "log_frequency = 100_000\n",
    "merged_barcode_list = []\n",
    "merged_umi_list = []\n",
    "merged_gene_list = []\n",
    "merged_reads_list = []\n",
    "conf_mapped_fraction_list = []\n",
    "read_to_read_conversion_matrix = np.zeros((1000, 1000))\n",
    "\n",
    "i_group = 0\n",
    "for group, entries in groupby(enumerate(zip(mol_info.barcode_array, mol_info.umi_array)), key=itemgetter(1)):\n",
    "\n",
    "    mol_indices = list(map(itemgetter(0), entries))\n",
    "    c_conf_mapped_uniq_read_pos = mol_info.conf_mapped_uniq_read_pos_array[mol_indices]\n",
    "    c_genes = mol_info.gene_array[mol_indices]\n",
    "    c_gene_scores = gene_scores[c_genes]\n",
    "    \n",
    "    selected_mol_idx = mol_indices[max(enumerate(zip(c_conf_mapped_uniq_read_pos, c_gene_scores)), key=itemgetter(1))[0]]\n",
    "    selected_gene = mol_info.gene_array[selected_mol_idx]\n",
    "    \n",
    "    summed_conf_mapped_reads = np.sum(mol_info.reads_array[mol_indices])\n",
    "    summed_nonconf_mapped_reads = np.sum(mol_info.nonconf_mapped_reads_array[mol_indices])\n",
    "    summed_unmapped_reads = np.sum(mol_info.unmapped_reads_array[mol_indices])\n",
    "    \n",
    "    total_reads = summed_conf_mapped_reads + summed_nonconf_mapped_reads + summed_unmapped_reads\n",
    "    total_mapped_reads = summed_conf_mapped_reads + summed_nonconf_mapped_reads\n",
    "    conf_mapped_fraction = mol_info.reads_array[selected_mol_idx] / total_reads\n",
    "    \n",
    "    merged_barcode_list.append(group[0])\n",
    "    merged_umi_list.append(group[1])\n",
    "    merged_gene_list.append(selected_gene)\n",
    "    merged_reads_list.append(total_mapped_reads)\n",
    "    conf_mapped_fraction_list.append(conf_mapped_fraction)\n",
    "    \n",
    "    for mol_index in mol_indices:\n",
    "        if mol_info.gene_array[mol_index] == selected_gene:\n",
    "            read_to_read_conversion_matrix[mol_info.reads_array[selected_mol_idx], total_mapped_reads] += 1\n",
    "        elif mol_info.gene_array[mol_index] != mol_info.unmappable_gene_idx:\n",
    "            read_to_read_conversion_matrix[mol_info.reads_array[selected_mol_idx], 0] += 1\n",
    "            \n",
    "    i_group += 1\n",
    "    if i_group > 0 and i_group % log_frequency == 0:\n",
    "        print(f'{i_group}...')"
   ]
  },
  {
   "cell_type": "markdown",
   "metadata": {},
   "source": [
    "## Estimating per-gene multi-mapping metric"
   ]
  },
  {
   "cell_type": "code",
   "execution_count": 503,
   "metadata": {},
   "outputs": [
    {
     "name": "stdout",
     "output_type": "stream",
     "text": [
      "1000000...\n",
      "2000000...\n",
      "3000000...\n"
     ]
    },
    {
     "ename": "KeyboardInterrupt",
     "evalue": "",
     "output_type": "error",
     "traceback": [
      "\u001b[0;31m---------------------------------------------------------------------------\u001b[0m",
      "\u001b[0;31mKeyboardInterrupt\u001b[0m                         Traceback (most recent call last)",
      "\u001b[0;32m<ipython-input-503-14b0b8f87581>\u001b[0m in \u001b[0;36m<module>\u001b[0;34m\u001b[0m\n\u001b[1;32m     17\u001b[0m \u001b[0;34m\u001b[0m\u001b[0m\n\u001b[1;32m     18\u001b[0m     \u001b[0;32mif\u001b[0m \u001b[0mlen\u001b[0m\u001b[0;34m(\u001b[0m\u001b[0mmol_indices\u001b[0m\u001b[0;34m)\u001b[0m \u001b[0;34m>\u001b[0m \u001b[0;36m1\u001b[0m\u001b[0;34m:\u001b[0m\u001b[0;34m\u001b[0m\u001b[0;34m\u001b[0m\u001b[0m\n\u001b[0;32m---> 19\u001b[0;31m         \u001b[0msummed_conf_mapped_reads\u001b[0m \u001b[0;34m=\u001b[0m \u001b[0mnp\u001b[0m\u001b[0;34m.\u001b[0m\u001b[0msum\u001b[0m\u001b[0;34m(\u001b[0m\u001b[0mmol_info\u001b[0m\u001b[0;34m.\u001b[0m\u001b[0mreads_array\u001b[0m\u001b[0;34m[\u001b[0m\u001b[0mmol_indices\u001b[0m\u001b[0;34m]\u001b[0m\u001b[0;34m)\u001b[0m\u001b[0;34m\u001b[0m\u001b[0;34m\u001b[0m\u001b[0m\n\u001b[0m\u001b[1;32m     20\u001b[0m         \u001b[0msummed_nonconf_mapped_reads\u001b[0m \u001b[0;34m=\u001b[0m \u001b[0mnp\u001b[0m\u001b[0;34m.\u001b[0m\u001b[0msum\u001b[0m\u001b[0;34m(\u001b[0m\u001b[0mmol_info\u001b[0m\u001b[0;34m.\u001b[0m\u001b[0mnonconf_mapped_reads_array\u001b[0m\u001b[0;34m[\u001b[0m\u001b[0mmol_indices\u001b[0m\u001b[0;34m]\u001b[0m\u001b[0;34m)\u001b[0m\u001b[0;34m\u001b[0m\u001b[0;34m\u001b[0m\u001b[0m\n\u001b[1;32m     21\u001b[0m         \u001b[0msummed_unmapped_reads\u001b[0m \u001b[0;34m=\u001b[0m \u001b[0mnp\u001b[0m\u001b[0;34m.\u001b[0m\u001b[0msum\u001b[0m\u001b[0;34m(\u001b[0m\u001b[0mmol_info\u001b[0m\u001b[0;34m.\u001b[0m\u001b[0munmapped_reads_array\u001b[0m\u001b[0;34m[\u001b[0m\u001b[0mmol_indices\u001b[0m\u001b[0;34m]\u001b[0m\u001b[0;34m)\u001b[0m\u001b[0;34m\u001b[0m\u001b[0;34m\u001b[0m\u001b[0m\n",
      "\u001b[0;31mKeyboardInterrupt\u001b[0m: "
     ]
    }
   ],
   "source": [
    "log_frequency = 1_000_000\n",
    "conf_mapped_reads_per_consensus_gene = np.zeros((n_genes + 1,))\n",
    "all_reads_per_consensus_gene = np.zeros((n_genes + 1,))\n",
    "consensus_gene_list = []\n",
    "n_real_collisions = 0\n",
    "i_group = 0\n",
    "\n",
    "for group, entries in groupby(enumerate(zip(mol_info.barcode_array, mol_info.umi_array)), key=itemgetter(1)):\n",
    "\n",
    "    mol_indices = list(map(itemgetter(0), entries))\n",
    "    c_conf_mapped_uniq_read_pos = mol_info.conf_mapped_uniq_read_pos_array[mol_indices]\n",
    "    c_genes = mol_info.gene_array[mol_indices]\n",
    "    c_gene_scores = gene_scores[c_genes]\n",
    "    \n",
    "    selected_mol_idx = mol_indices[max(enumerate(zip(c_conf_mapped_uniq_read_pos, c_gene_scores)), key=itemgetter(1))[0]]\n",
    "    selected_gene = mol_info.gene_array[selected_mol_idx]\n",
    "    \n",
    "    if len(mol_indices) > 1:\n",
    "        summed_conf_mapped_reads = np.sum(mol_info.reads_array[mol_indices])\n",
    "        summed_nonconf_mapped_reads = np.sum(mol_info.nonconf_mapped_reads_array[mol_indices])\n",
    "        summed_unmapped_reads = np.sum(mol_info.unmapped_reads_array[mol_indices])\n",
    "\n",
    "        total_reads = summed_conf_mapped_reads + summed_nonconf_mapped_reads + summed_unmapped_reads\n",
    "        selected_gene_conf_mapped_reads = mol_info.reads_array[selected_mol_idx]\n",
    "    \n",
    "    else:\n",
    "        \n",
    "        total_reads = (mol_info.reads_array[mol_indices[0]] +\n",
    "                       mol_info.nonconf_mapped_reads_array[mol_indices[0]] +\n",
    "                       mol_info.unmapped_reads_array[mol_indices[0]])\n",
    "        selected_gene_conf_mapped_reads = mol_info.reads_array[selected_mol_idx]\n",
    "    \n",
    "    if selected_gene_conf_mapped_reads < summed_conf_mapped_reads:\n",
    "        n_real_collisions += 1\n",
    "        \n",
    "    conf_mapped_reads_per_consensus_gene[selected_gene] += selected_gene_conf_mapped_reads\n",
    "    all_reads_per_consensus_gene[selected_gene] += total_reads\n",
    "    consensus_gene_list.append(selected_gene)\n",
    "\n",
    "    i_group += 1\n",
    "    if i_group > 0 and i_group % log_frequency == 0:\n",
    "        print(f'{i_group}...')"
   ]
  },
  {
   "cell_type": "code",
   "execution_count": 504,
   "metadata": {},
   "outputs": [
    {
     "data": {
      "text/plain": [
       "0.5872350364770039"
      ]
     },
     "execution_count": 504,
     "metadata": {},
     "output_type": "execute_result"
    }
   ],
   "source": [
    "n_real_collisions / i_group"
   ]
  },
  {
   "cell_type": "code",
   "execution_count": 442,
   "metadata": {},
   "outputs": [],
   "source": [
    "conf_mapped_ratio_per_gene = (1e-8 + conf_mapped_reads_per_consensus_gene) / (1e-8 + all_reads_per_consensus_gene)"
   ]
  },
  {
   "cell_type": "code",
   "execution_count": 443,
   "metadata": {},
   "outputs": [],
   "source": [
    "consensus_genes_set = np.unique(consensus_gene_list)"
   ]
  },
  {
   "cell_type": "code",
   "execution_count": 507,
   "metadata": {},
   "outputs": [
    {
     "data": {
      "image/png": "[encoded data removed]",
      "text/plain": [
       "<Figure size 432x288 with 1 Axes>"
      ]
     },
     "metadata": {
      "needs_background": "light"
     },
     "output_type": "display_data"
    }
   ],
   "source": [
    "plt.hist(conf_mapped_ratio_per_gene[consensus_genes_set], bins=200);"
   ]
  },
  {
   "cell_type": "code",
   "execution_count": 499,
   "metadata": {},
   "outputs": [
    {
     "data": {
      "text/plain": [
       "(1, 1000000.0)"
      ]
     },
     "execution_count": 499,
     "metadata": {},
     "output_type": "execute_result"
    },
    {
     "data": {
      "image/png": "[encoded data removed]",
      "text/plain": [
       "<Figure size 432x288 with 1 Axes>"
      ]
     },
     "metadata": {
      "needs_background": "light"
     },
     "output_type": "display_data"
    }
   ],
   "source": [
    "plt.scatter(all_reads_per_consensus_gene[:-1], conf_mapped_reads_per_consensus_gene[:-1], s=1, alpha=0.5)\n",
    "plt.xscale('log')\n",
    "plt.yscale('log')\n",
    "plt.xlim((1, 1e6))\n",
    "plt.ylim((1, 1e6))"
   ]
  },
  {
   "cell_type": "code",
   "execution_count": null,
   "metadata": {},
   "outputs": [],
   "source": [
    "i = 14009\n",
    "# gene_index = sorted_gene_indices_by_expression[i][0]\n",
    "\n",
    "gene_index = mol_info.gene_names_array.tolist().index(b'MYLK3')\n",
    "print(mol_info.gene_names_array[gene_index])\n",
    "print(conf_mapped_ratio_per_gene[gene_index])"
   ]
  },
  {
   "cell_type": "code",
   "execution_count": 478,
   "metadata": {},
   "outputs": [
    {
     "data": {
      "text/plain": [
       "5.0"
      ]
     },
     "execution_count": 478,
     "metadata": {},
     "output_type": "execute_result"
    }
   ],
   "source": [
    "conf_mapped_reads_per_consensus_gene[gene_index]"
   ]
  },
  {
   "cell_type": "code",
   "execution_count": 479,
   "metadata": {},
   "outputs": [
    {
     "data": {
      "text/plain": [
       "34.0"
      ]
     },
     "execution_count": 479,
     "metadata": {},
     "output_type": "execute_result"
    }
   ],
   "source": [
    "all_reads_per_consensus_gene[gene_index]"
   ]
  },
  {
   "cell_type": "code",
   "execution_count": null,
   "metadata": {},
   "outputs": [],
   "source": [
    "i = 2\n",
    "gene_index = sorted_gene_indices_by_expression[i][0]\n",
    "\n",
    "# gene_index = mol_info.gene_names_array.tolist().index(b'IGHG1')\n",
    "print(mol_info.gene_names_array[gene_index])\n",
    "plt.hist(conf_mapped_fraction_array[merged_gene_array == gene_index], bins=100, density=True);"
   ]
  },
  {
   "cell_type": "code",
   "execution_count": null,
   "metadata": {},
   "outputs": [],
   "source": []
  },
  {
   "cell_type": "code",
   "execution_count": null,
   "metadata": {},
   "outputs": [],
   "source": [
    "mask = (merged_gene_array == gene_index) & (conf_mapped_fraction_array < 0.99)\n",
    "plt.hist(merged_reads_array[mask], range=(0, 50), bins=50, density=True, alpha=0.5);\n",
    "\n",
    "mask = (merged_gene_array == gene_index) & (conf_mapped_fraction_array > 0.99)\n",
    "plt.hist(merged_reads_array[mask], range=(0, 50), bins=50, density=True, alpha=0.5);"
   ]
  },
  {
   "cell_type": "code",
   "execution_count": null,
   "metadata": {},
   "outputs": [],
   "source": [
    "merged_barcode_array = np.asarray(merged_barcode_list).astype(np.uint64)\n",
    "merged_umi_array = np.asarray(merged_umi_list).astype(np.uint32)\n",
    "merged_gene_array = np.asarray(merged_gene_list).astype(np.uint32)\n",
    "merged_reads_array = np.asarray(merged_reads_list).astype(np.uint32)"
   ]
  },
  {
   "cell_type": "code",
   "execution_count": null,
   "metadata": {},
   "outputs": [],
   "source": [
    "gene_index = gene_names_list.index('ZBTB8A')\n",
    "mol_indices = np.where(merged_gene_array == gene_index)[0]\n",
    "\n",
    "primary_reads_list = []\n",
    "for mol_index in mol_indices:\n",
    "    if merged_barcode_array[mol_index] in test_barcode_set:\n",
    "        primary_reads = merged_reads_array[mol_index]\n",
    "        primary_reads_list.append(primary_reads)"
   ]
  },
  {
   "cell_type": "code",
   "execution_count": null,
   "metadata": {},
   "outputs": [],
   "source": [
    "plt.hist(primary_reads_list, range=(0, 50), bins=50);"
   ]
  },
  {
   "cell_type": "markdown",
   "metadata": {},
   "source": [
    "## Write merged molecules to disk"
   ]
  },
  {
   "cell_type": "code",
   "execution_count": null,
   "metadata": {},
   "outputs": [],
   "source": [
    "import tables\n",
    "\n",
    "input_mol_h5_path = '/home/jupyter/data/10x/hgmm_1k_molecule_info.h5'\n",
    "output_mol_h5_path = '/home/jupyter/data/10x/hgmm_1k_ncm_merged_molecule_info.h5'"
   ]
  },
  {
   "cell_type": "code",
   "execution_count": null,
   "metadata": {},
   "outputs": [],
   "source": [
    "def copy_earray_to_h5(where, name, instance, out_h5):\n",
    "    out_h5.create_earray(where, name,\n",
    "                         atom=instance.atom,\n",
    "                         title=instance.title,\n",
    "                         chunkshape=instance.chunkshape,\n",
    "                         obj=instance.read())\n",
    "\n",
    "def copy_carray_to_h5(where, name, instance, out_h5):\n",
    "    out_h5.create_carray(where, name,\n",
    "                         atom=instance.atom,\n",
    "                         title=instance.title,\n",
    "                         chunkshape=instance.chunkshape,\n",
    "                         obj=instance.read())\n",
    "\n",
    "input_mol_h5_tab = tables.open_file(input_mol_h5_path)\n",
    "with tables.open_file(output_mol_h5_path, mode='w', title='10X',\n",
    "                      filters=input_mol_h5_tab.filters) as output_mol_h5_tab:\n",
    "    # copy unchanged arrays\n",
    "    copy_carray_to_h5('/', 'gene_names', input_mol_h5_tab.root.gene_names, output_mol_h5_tab)\n",
    "    copy_carray_to_h5('/', 'gene_ids', input_mol_h5_tab.root.gene_ids, output_mol_h5_tab)\n",
    "    copy_carray_to_h5('/', 'genome_ids', input_mol_h5_tab.root.genome_ids, output_mol_h5_tab)\n",
    "\n",
    "    # data\n",
    "    output_mol_h5_tab.create_earray(\n",
    "        '/', 'reads',\n",
    "        atom=input_mol_h5_tab.root.reads.atom,\n",
    "        title=input_mol_h5_tab.root.reads.title,\n",
    "        chunkshape=input_mol_h5_tab.root.reads.chunkshape,\n",
    "        obj=np.asarray(merged_reads_list))\n",
    "    \n",
    "    output_mol_h5_tab.create_earray(\n",
    "        '/', 'barcode',\n",
    "        atom=input_mol_h5_tab.root.barcode.atom,\n",
    "        title=input_mol_h5_tab.root.barcode.title,\n",
    "        chunkshape=input_mol_h5_tab.root.barcode.chunkshape,\n",
    "        obj=np.asarray(merged_barcode_list))\n",
    "    \n",
    "    output_mol_h5_tab.create_earray(\n",
    "        '/', 'gene',\n",
    "        atom=input_mol_h5_tab.root.gene.atom,\n",
    "        title=input_mol_h5_tab.root.gene.title,\n",
    "        chunkshape=input_mol_h5_tab.root.gene.chunkshape,\n",
    "        obj=np.asarray(merged_gene_list))\n",
    "    \n",
    "    output_mol_h5_tab.create_earray(\n",
    "        '/', 'umi',\n",
    "        atom=input_mol_h5_tab.root.umi.atom,\n",
    "        title=input_mol_h5_tab.root.umi.title,\n",
    "        chunkshape=input_mol_h5_tab.root.umi.chunkshape,\n",
    "        obj=np.asarray(merged_umi_list))"
   ]
  },
  {
   "cell_type": "code",
   "execution_count": null,
   "metadata": {},
   "outputs": [],
   "source": []
  }
 ],
 "metadata": {
  "kernelspec": {
   "display_name": "Python 3",
   "language": "python",
   "name": "python3"
  },
  "language_info": {
   "codemirror_mode": {
    "name": "ipython",
    "version": 3
   },
   "file_extension": ".py",
   "mimetype": "text/x-python",
   "name": "python",
   "nbconvert_exporter": "python",
   "pygments_lexer": "ipython3",
   "version": "3.7.3"
  }
 },
 "nbformat": 4,
 "nbformat_minor": 2
}
