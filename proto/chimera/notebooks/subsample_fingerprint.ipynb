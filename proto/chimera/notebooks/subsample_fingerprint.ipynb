{
 "cells": [
  {
   "cell_type": "markdown",
   "metadata": {},
   "source": [
    "## Subsample 10x molecule info file"
   ]
  },
  {
   "cell_type": "code",
   "execution_count": 2,
   "metadata": {},
   "outputs": [],
   "source": [
    "%matplotlib inline\n",
    "\n",
    "import os\n",
    "import sys\n",
    "notebook_path = os.path.abspath('')\n",
    "sources_path = os.path.abspath(os.path.join(notebook_path, '..', 'sources'))\n",
    "sys.path.insert(0, sources_path)\n",
    "\n",
    "import matplotlib.pylab as plt\n",
    "import numpy as np\n",
    "import tables\n",
    "import itertools\n",
    "import operator\n",
    "from typing import Set, List, Dict\n",
    "import logging\n",
    "from collections import Counter\n",
    "from collections import defaultdict\n",
    "from commons import *\n",
    "\n",
    "plt.rc('xtick', labelsize=16)\n",
    "plt.rc('ytick', labelsize=16)"
   ]
  },
  {
   "cell_type": "code",
   "execution_count": 3,
   "metadata": {},
   "outputs": [
    {
     "name": "stderr",
     "output_type": "stream",
     "text": [
      "WARNING:root:Loading molecule info HDF5 file (CellRanger version: v2)...\n",
      "WARNING:root:Extended mode disabled: molecules may NOT be hierarchically sorted by (BC, UMI)!\n",
      "WARNING:root:Ranking barcodes by UMI and read count...\n"
     ]
    }
   ],
   "source": [
    "subsample_rate = 0.0625\n",
    "\n",
    "input_mol_h5_path = '/home/jupyter/data/10x/pbmc4k_molecule_info.h5'\n",
    "cr_version = 'v2'\n",
    "input_mol_info = MoleculeInfo(input_mol_h5_path, cr_version)"
   ]
  },
  {
   "cell_type": "code",
   "execution_count": 4,
   "metadata": {},
   "outputs": [
    {
     "name": "stderr",
     "output_type": "stream",
     "text": [
      "Subsampling (rate=0.0625)...\n",
      "10% complete...\n",
      "20% complete...\n",
      "30% complete...\n",
      "40% complete...\n",
      "50% complete...\n",
      "60% complete...\n",
      "70% complete...\n",
      "80% complete...\n",
      "90% complete...\n",
      "100% complete...\n"
     ]
    }
   ],
   "source": [
    "_logger = logging.Logger(__name__)\n",
    "\n",
    "_logger.warning(f'Subsampling (rate={subsample_rate})...')\n",
    "ss_reads_array = np.zeros_like(input_mol_info.reads_array)\n",
    "num_raw_records = len(input_mol_info.reads_array)\n",
    "log_after = int(num_raw_records/10)\n",
    "for idx in range(num_raw_records):\n",
    "    ss_reads_array[idx] = np.random.binomial(input_mol_info.reads_array[idx], subsample_rate)\n",
    "    if idx > 0 and idx % log_after == 0:\n",
    "        _logger.warning(f'{int(10 * idx / log_after)}% complete...')\n",
    "        \n",
    "# indices of molecules with non-zero reads\n",
    "nnz = ss_reads_array > 0\n",
    "\n",
    "ss_reads_array = ss_reads_array[nnz]\n",
    "ss_barcode_array = input_mol_info.barcode_array[nnz]\n",
    "ss_gene_array = input_mol_info.gene_array[nnz]"
   ]
  },
  {
   "cell_type": "code",
   "execution_count": 10,
   "metadata": {},
   "outputs": [],
   "source": [
    "output_mol_h5_path = f'/home/jupyter/data/10x/pbmc4k_ss_rate_{subsample_rate}_molecule_info.h5'"
   ]
  },
  {
   "cell_type": "code",
   "execution_count": 11,
   "metadata": {},
   "outputs": [],
   "source": [
    "input_mol_h5_tab = tables.open_file(input_mol_h5_path)"
   ]
  },
  {
   "cell_type": "code",
   "execution_count": 13,
   "metadata": {},
   "outputs": [
    {
     "name": "stderr",
     "output_type": "stream",
     "text": [
      "Saving molecule info HDF5 file...\n"
     ]
    }
   ],
   "source": [
    "def copy_earray_to_h5(where, name, instance, out_h5):\n",
    "    out_h5.create_earray(where, name, obj=instance.read())\n",
    "\n",
    "def copy_carray_to_h5(where, name, instance, out_h5):\n",
    "    out_h5.create_carray(where, name, obj=instance.read())\n",
    "\n",
    "def copy_array_to_h5(where, name, instance, out_h5):\n",
    "    out_h5.create_array(where, name, obj=instance.read())\n",
    "\n",
    "_logger.warning('Saving molecule info HDF5 file...')\n",
    "with tables.open_file(output_mol_h5_path, mode='w', title='10X',\n",
    "                      filters=input_mol_h5_tab.filters) as output_mol_h5_tab:\n",
    "    if cr_version == 'v2':\n",
    "        \n",
    "        copy_carray_to_h5('/', 'gene_names', input_mol_h5_tab.root.gene_names, output_mol_h5_tab)\n",
    "        copy_carray_to_h5('/', 'gene_ids', input_mol_h5_tab.root.gene_ids, output_mol_h5_tab)\n",
    "\n",
    "        output_mol_h5_tab.create_earray('/', 'reads', obj=ss_reads_array)\n",
    "        output_mol_h5_tab.create_earray('/', 'barcode', obj=ss_barcode_array)\n",
    "        output_mol_h5_tab.create_earray('/', 'gene', obj=ss_gene_array)\n",
    "\n",
    "    elif cr_version == 'v3':\n",
    "        \n",
    "        output_mol_h5_tab.create_group('/', 'barcode_info')\n",
    "        output_mol_h5_tab.create_group('/', 'features')\n",
    "        output_mol_h5_tab.create_group('/', 'metrics')\n",
    "        \n",
    "        copy_array_to_h5('/features', '_all_tag_keys',\n",
    "                         input_mol_h5_tab.root.features._all_tag_keys, output_mol_h5_tab)\n",
    "        copy_array_to_h5('/features', 'feature_type',\n",
    "                         input_mol_h5_tab.root.features.feature_type, output_mol_h5_tab)\n",
    "        copy_array_to_h5('/features', 'genome',\n",
    "                         input_mol_h5_tab.root.features.genome, output_mol_h5_tab)\n",
    "        copy_array_to_h5('/features', 'id',\n",
    "                         input_mol_h5_tab.root.features.id, output_mol_h5_tab)\n",
    "        copy_array_to_h5('/features', 'name',\n",
    "                         input_mol_h5_tab.root.features.name, output_mol_h5_tab)\n",
    "        copy_array_to_h5('/features', 'pattern',\n",
    "                         input_mol_h5_tab.root.features.pattern, output_mol_h5_tab)\n",
    "        copy_array_to_h5('/features', 'read',\n",
    "                         input_mol_h5_tab.root.features.read, output_mol_h5_tab)\n",
    "        copy_array_to_h5('/features', 'sequence',\n",
    "                         input_mol_h5_tab.root.features.sequence, output_mol_h5_tab)\n",
    "        \n",
    "        copy_carray_to_h5('/barcode_info', 'genomes',\n",
    "                          input_mol_h5_tab.root.barcode_info.genomes, output_mol_h5_tab)\n",
    "        copy_earray_to_h5('/barcode_info', 'pass_filter',\n",
    "                          input_mol_h5_tab.root.barcode_info.pass_filter, output_mol_h5_tab)\n",
    "        \n",
    "        copy_array_to_h5('/', 'library_info',\n",
    "                         input_mol_h5_tab.root.library_info, output_mol_h5_tab)\n",
    "\n",
    "        output_mol_h5_tab.create_earray(\n",
    "            '/', 'barcode_idx',\n",
    "            obj=input_mol_h5_tab.root.barcode_idx.read()[nnz])\n",
    "\n",
    "        output_mol_h5_tab.create_carray(\n",
    "            '/', 'barcodes',\n",
    "            obj=input_mol_h5_tab.root.barcodes.read())\n",
    "\n",
    "        output_mol_h5_tab.create_earray(\n",
    "            '/', 'count',\n",
    "            obj=ss_reads_array)\n",
    "\n",
    "        output_mol_h5_tab.create_earray(\n",
    "            '/', 'feature_idx',\n",
    "            obj=input_mol_h5_tab.root.feature_idx.read()[nnz])\n",
    "        \n",
    "        output_mol_h5_tab.create_earray(\n",
    "            '/', 'gem_group',\n",
    "            obj=input_mol_h5_tab.root.gem_group.read()[nnz])\n",
    " \n",
    "        output_mol_h5_tab.create_earray(\n",
    "            '/', 'library_idx',\n",
    "            obj=input_mol_h5_tab.root.library_idx.read()[nnz])\n",
    "\n",
    "        output_mol_h5_tab.create_earray(\n",
    "            '/', 'umi',\n",
    "            obj=input_mol_h5_tab.root.umi.read()[nnz])\n"
   ]
  },
  {
   "cell_type": "code",
   "execution_count": null,
   "metadata": {},
   "outputs": [],
   "source": []
  }
 ],
 "metadata": {
  "kernelspec": {
   "display_name": "Python 3",
   "language": "python",
   "name": "python3"
  },
  "language_info": {
   "codemirror_mode": {
    "name": "ipython",
    "version": 3
   },
   "file_extension": ".py",
   "mimetype": "text/x-python",
   "name": "python",
   "nbconvert_exporter": "python",
   "pygments_lexer": "ipython3",
   "version": "3.7.3"
  }
 },
 "nbformat": 4,
 "nbformat_minor": 2
}
