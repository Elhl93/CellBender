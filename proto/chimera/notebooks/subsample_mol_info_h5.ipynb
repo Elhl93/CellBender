{
 "cells": [
  {
   "cell_type": "markdown",
   "metadata": {},
   "source": [
    "## Subsample 10x molecule info file"
   ]
  },
  {
   "cell_type": "code",
   "execution_count": 5,
   "metadata": {},
   "outputs": [],
   "source": [
    "%matplotlib inline\n",
    "\n",
    "import matplotlib.pylab as plt\n",
    "import numpy as np\n",
    "import tables\n",
    "import itertools\n",
    "import operator\n",
    "from typing import Set, List, Dict\n",
    "import logging\n",
    "from collections import Counter\n",
    "from collections import defaultdict\n",
    "\n",
    "plt.rc('xtick', labelsize=16)\n",
    "plt.rc('ytick', labelsize=16)"
   ]
  },
  {
   "cell_type": "code",
   "execution_count": 6,
   "metadata": {},
   "outputs": [],
   "source": [
    "subsample_rate = 0.125\n",
    "input_mol_h5_path = '/home/jupyter/data/10x/pbmc4k_molecule_info.h5'\n",
    "output_mol_h5_path = f'/home/jupyter/data/10x/pbmc4k_ss_rate_{subsample_rate}_molecule_info.h5'"
   ]
  },
  {
   "cell_type": "code",
   "execution_count": 7,
   "metadata": {},
   "outputs": [
    {
     "name": "stderr",
     "output_type": "stream",
     "text": [
      "Loading molecule info HDF5 file...\n",
      "Subsampling (rate=0.125)...\n",
      "10% complete...\n",
      "20% complete...\n",
      "30% complete...\n",
      "40% complete...\n",
      "50% complete...\n",
      "60% complete...\n",
      "70% complete...\n",
      "80% complete...\n",
      "90% complete...\n",
      "100% complete...\n"
     ]
    }
   ],
   "source": [
    "_logger = logging.Logger(__name__)\n",
    "\n",
    "_logger.warning('Loading molecule info HDF5 file...')\n",
    "input_mol_h5_tab = tables.open_file(input_mol_h5_path)\n",
    "reads_array = input_mol_h5_tab.root.reads.read()\n",
    "\n",
    "_logger.warning(f'Subsampling (rate={subsample_rate})...')\n",
    "ss_reads_array = np.zeros_like(reads_array)\n",
    "num_raw_records = len(reads_array)\n",
    "log_after = int(num_raw_records/10)\n",
    "for idx in range(num_raw_records):\n",
    "    ss_reads_array[idx] = np.random.binomial(reads_array[idx], subsample_rate)\n",
    "    if idx > 0 and idx % log_after == 0:\n",
    "        _logger.warning(f'{int(10 * idx / log_after)}% complete...')\n",
    "        \n",
    "# indices of molecules with non-zero reads\n",
    "nnz = ss_reads_array > 0\n",
    "\n",
    "ss_reads_array = ss_reads_array[nnz]\n",
    "ss_barcode_array = input_mol_h5_tab.root.barcode.read()[nnz]\n",
    "ss_gene_array = input_mol_h5_tab.root.gene.read()[nnz]\n",
    "ss_umi_array = input_mol_h5_tab.root.umi.read()[nnz]\n",
    "# ss_gem_group_array = input_mol_h5_tab.root.gem_group.read()[nnz]\n",
    "# ss_genome_array = input_mol_h5_tab.root.genome.read()[nnz]"
   ]
  },
  {
   "cell_type": "code",
   "execution_count": 9,
   "metadata": {},
   "outputs": [
    {
     "name": "stderr",
     "output_type": "stream",
     "text": [
      "Saving molecule info HDF5 file...\n"
     ]
    }
   ],
   "source": [
    "def copy_earray_to_h5(where, name, instance, out_h5):\n",
    "    out_h5.create_earray(where, name,\n",
    "                         atom=instance.atom,\n",
    "                         title=instance.title,\n",
    "                         chunkshape=instance.chunkshape,\n",
    "                         obj=instance.read())\n",
    "\n",
    "def copy_carray_to_h5(where, name, instance, out_h5):\n",
    "    out_h5.create_carray(where, name,\n",
    "                         atom=instance.atom,\n",
    "                         title=instance.title,\n",
    "                         chunkshape=instance.chunkshape,\n",
    "                         obj=instance.read())\n",
    "\n",
    "_logger.warning('Saving molecule info HDF5 file...')\n",
    "with tables.open_file(output_mol_h5_path, mode='w', title='10X',\n",
    "                      filters=input_mol_h5_tab.filters) as output_mol_h5_tab:\n",
    "    # copy unchanged arrays\n",
    "    copy_carray_to_h5('/', 'gene_names', input_mol_h5_tab.root.gene_names, output_mol_h5_tab)\n",
    "    copy_carray_to_h5('/', 'gene_ids', input_mol_h5_tab.root.gene_ids, output_mol_h5_tab)\n",
    "    copy_carray_to_h5('/', 'genome_ids', input_mol_h5_tab.root.genome_ids, output_mol_h5_tab)\n",
    "\n",
    "    # subsampled array\n",
    "    output_mol_h5_tab.create_earray(\n",
    "        '/', 'reads',\n",
    "        atom=input_mol_h5_tab.root.reads.atom,\n",
    "        title=input_mol_h5_tab.root.reads.title,\n",
    "        chunkshape=input_mol_h5_tab.root.reads.chunkshape,\n",
    "        obj=ss_reads_array)\n",
    "    \n",
    "    output_mol_h5_tab.create_earray(\n",
    "        '/', 'barcode',\n",
    "        atom=input_mol_h5_tab.root.barcode.atom,\n",
    "        title=input_mol_h5_tab.root.barcode.title,\n",
    "        chunkshape=input_mol_h5_tab.root.barcode.chunkshape,\n",
    "        obj=ss_barcode_array)\n",
    "        \n",
    "    output_mol_h5_tab.create_earray(\n",
    "        '/', 'gene',\n",
    "        atom=input_mol_h5_tab.root.gene.atom,\n",
    "        title=input_mol_h5_tab.root.gene.title,\n",
    "        chunkshape=input_mol_h5_tab.root.gene.chunkshape,\n",
    "        obj=ss_gene_array)\n",
    "        \n",
    "    output_mol_h5_tab.create_earray(\n",
    "        '/', 'umi',\n",
    "        atom=input_mol_h5_tab.root.umi.atom,\n",
    "        title=input_mol_h5_tab.root.umi.title,\n",
    "        chunkshape=input_mol_h5_tab.root.umi.chunkshape,\n",
    "        obj=ss_umi_array)\n",
    "    \n",
    "#     output_mol_h5_tab.create_earray(\n",
    "#         '/', 'gem_group',\n",
    "#         atom=input_mol_h5_tab.root.gem_group.atom,\n",
    "#         title=input_mol_h5_tab.root.gem_group.title,\n",
    "#         chunkshape=input_mol_h5_tab.root.gem_group.chunkshape,\n",
    "#         obj=ss_gem_group_array)\n",
    "\n",
    "#     output_mol_h5_tab.create_earray(\n",
    "#         '/', 'genome',\n",
    "#         atom=input_mol_h5_tab.root.genome.atom,\n",
    "#         title=input_mol_h5_tab.root.genome.title,\n",
    "#         chunkshape=input_mol_h5_tab.root.genome.chunkshape,\n",
    "#         obj=ss_genome_array)"
   ]
  },
  {
   "cell_type": "code",
   "execution_count": null,
   "metadata": {},
   "outputs": [],
   "source": []
  }
 ],
 "metadata": {
  "kernelspec": {
   "display_name": "Python 3",
   "language": "python",
   "name": "python3"
  },
  "language_info": {
   "codemirror_mode": {
    "name": "ipython",
    "version": 3
   },
   "file_extension": ".py",
   "mimetype": "text/x-python",
   "name": "python",
   "nbconvert_exporter": "python",
   "pygments_lexer": "ipython3",
   "version": "3.7.3"
  }
 },
 "nbformat": 4,
 "nbformat_minor": 2
}
